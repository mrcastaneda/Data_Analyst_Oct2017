{
 "cells": [
  {
   "cell_type": "markdown",
   "metadata": {
    "deletable": true,
    "editable": true
   },
   "source": [
    "# Series de Tiempo con Pandas"
   ]
  },
  {
   "cell_type": "markdown",
   "metadata": {
    "deletable": true,
    "editable": true
   },
   "source": [
    "Los datos de series de tiempo son importantes en muchos campos, tales como finanzas, economía, física, marketing, etc"
   ]
  },
  {
   "cell_type": "markdown",
   "metadata": {
    "deletable": true,
    "editable": true
   },
   "source": [
    "Las series de tiempo pueden ser de **frequencia fija**, es decir, los datos ocurren a un intervalo regular por ej. datos diarios, semanales, cada minuto, cada 15 segundos, etcétera. \n",
    "Las series de tiempo también pueden ser **frequencia irregular** donde no difieren en una misma unidad de tiempo los datos."
   ]
  },
  {
   "cell_type": "markdown",
   "metadata": {
    "deletable": true,
    "editable": true
   },
   "source": [
    "###  Tipos de datos Date y Time"
   ]
  },
  {
   "cell_type": "code",
   "execution_count": 138,
   "metadata": {
    "collapsed": true,
    "deletable": true,
    "editable": true
   },
   "outputs": [],
   "source": [
    "from datetime import datetime"
   ]
  },
  {
   "cell_type": "code",
   "execution_count": 139,
   "metadata": {
    "collapsed": false,
    "deletable": true,
    "editable": true
   },
   "outputs": [
    {
     "data": {
      "text/plain": [
       "datetime.datetime(2017, 11, 4, 13, 48, 36, 241182)"
      ]
     },
     "execution_count": 139,
     "metadata": {},
     "output_type": "execute_result"
    }
   ],
   "source": [
    "now = datetime.now()\n",
    "now"
   ]
  },
  {
   "cell_type": "code",
   "execution_count": 140,
   "metadata": {
    "collapsed": false,
    "deletable": true,
    "editable": true
   },
   "outputs": [
    {
     "data": {
      "text/plain": [
       "(2017, 11, 4)"
      ]
     },
     "execution_count": 140,
     "metadata": {},
     "output_type": "execute_result"
    }
   ],
   "source": [
    "now.year, now.month, now.day"
   ]
  },
  {
   "cell_type": "markdown",
   "metadata": {
    "deletable": true,
    "editable": true
   },
   "source": [
    "Los objetos del tipo 'datetime' guardan ambos: fecha y hora (hasta microsegundos). "
   ]
  },
  {
   "cell_type": "markdown",
   "metadata": {
    "deletable": true,
    "editable": true
   },
   "source": [
    "Los objetos del tipo 'timedelta' representan diferencias temporales entre dos objetos del tipo datetime"
   ]
  },
  {
   "cell_type": "code",
   "execution_count": 141,
   "metadata": {
    "collapsed": false,
    "deletable": true,
    "editable": true
   },
   "outputs": [
    {
     "data": {
      "text/plain": [
       "datetime.timedelta(-259, 49768, 169759)"
      ]
     },
     "execution_count": 141,
     "metadata": {},
     "output_type": "execute_result"
    }
   ],
   "source": [
    "delta = datetime.now() - datetime(2018,7,21)\n",
    "delta"
   ]
  },
  {
   "cell_type": "markdown",
   "metadata": {
    "deletable": true,
    "editable": true
   },
   "source": [
    "Del mismo modo podemos accesar los días o segundos que restan para un evento"
   ]
  },
  {
   "cell_type": "code",
   "execution_count": 142,
   "metadata": {
    "collapsed": false,
    "deletable": true,
    "editable": true
   },
   "outputs": [
    {
     "data": {
      "text/plain": [
       "-259"
      ]
     },
     "execution_count": 142,
     "metadata": {},
     "output_type": "execute_result"
    }
   ],
   "source": [
    "delta.days"
   ]
  },
  {
   "cell_type": "code",
   "execution_count": 144,
   "metadata": {
    "collapsed": false,
    "deletable": true,
    "editable": true
   },
   "outputs": [
    {
     "data": {
      "text/plain": [
       "49768"
      ]
     },
     "execution_count": 144,
     "metadata": {},
     "output_type": "execute_result"
    }
   ],
   "source": [
    "delta.seconds"
   ]
  },
  {
   "cell_type": "markdown",
   "metadata": {
    "deletable": true,
    "editable": true
   },
   "source": [
    "Se pueden añadir o sustraer uno \"timedelta\" o múltiples \"timedeltas\" a un objeto del tipo \"datetime\""
   ]
  },
  {
   "cell_type": "code",
   "execution_count": 19,
   "metadata": {
    "collapsed": true,
    "deletable": true,
    "editable": true
   },
   "outputs": [],
   "source": [
    "from datetime import timedelta"
   ]
  },
  {
   "cell_type": "code",
   "execution_count": 145,
   "metadata": {
    "collapsed": true,
    "deletable": true,
    "editable": true
   },
   "outputs": [],
   "source": [
    "start = datetime(2011,1,7)"
   ]
  },
  {
   "cell_type": "code",
   "execution_count": 146,
   "metadata": {
    "collapsed": false,
    "deletable": true,
    "editable": true
   },
   "outputs": [
    {
     "data": {
      "text/plain": [
       "datetime.datetime(2011, 1, 21, 0, 0)"
      ]
     },
     "execution_count": 146,
     "metadata": {},
     "output_type": "execute_result"
    }
   ],
   "source": [
    "start + timedelta(14)"
   ]
  },
  {
   "cell_type": "code",
   "execution_count": 147,
   "metadata": {
    "collapsed": false,
    "deletable": true,
    "editable": true
   },
   "outputs": [
    {
     "data": {
      "text/plain": [
       "datetime.datetime(2010, 12, 10, 0, 0)"
      ]
     },
     "execution_count": 147,
     "metadata": {},
     "output_type": "execute_result"
    }
   ],
   "source": [
    "start - 2*timedelta(14)"
   ]
  },
  {
   "cell_type": "markdown",
   "metadata": {
    "deletable": true,
    "editable": true
   },
   "source": [
    "#### Convirtiendo datos entre tipo string y datetime"
   ]
  },
  {
   "cell_type": "code",
   "execution_count": 23,
   "metadata": {
    "collapsed": false,
    "deletable": true,
    "editable": true
   },
   "outputs": [
    {
     "data": {
      "text/plain": [
       "'2011-01-03 00:00:00'"
      ]
     },
     "execution_count": 23,
     "metadata": {},
     "output_type": "execute_result"
    }
   ],
   "source": [
    "stamp = datetime(2011,1,3)\n",
    "str(stamp)"
   ]
  },
  {
   "cell_type": "code",
   "execution_count": 24,
   "metadata": {
    "collapsed": false,
    "deletable": true,
    "editable": true
   },
   "outputs": [
    {
     "data": {
      "text/plain": [
       "'2011-01-03'"
      ]
     },
     "execution_count": 24,
     "metadata": {},
     "output_type": "execute_result"
    }
   ],
   "source": [
    "stamp.strftime('%Y-%m-%d')"
   ]
  },
  {
   "cell_type": "code",
   "execution_count": 148,
   "metadata": {
    "collapsed": false,
    "deletable": true,
    "editable": true
   },
   "outputs": [
    {
     "data": {
      "text/html": [
       "<h4> Formato objetos datetime </h4>\n",
       "<table>\n",
       "    <tr>\n",
       "        <td><b>Símbolo</b></td> <td><b>Descripción</b></td>\n",
       "    </tr>\n",
       "    <tr>\n",
       "        <td>%Y</td> <td>Año de cuatro dígitos</td>\n",
       "    </tr>\n",
       "    <tr>\n",
       "        <td>%y</td> <td>Año de dos dígitos</td>\n",
       "    </tr>\n",
       "    <tr>\n",
       "        <td>%m</td> <td>Mes de dos dígitos</td>\n",
       "    </tr>\n",
       "    <tr>\n",
       "        <td>%d</td> <td>Día de dos dígitos</td>\n",
       "    </tr>\n",
       "    <tr>\n",
       "        <td>%H</td> <td>Hora 24hrs [00,23]</td>\n",
       "    </tr>\n",
       "    <tr>\n",
       "        <td>%I</td> <td>Hora 12hrs [01,12]</td>\n",
       "    </tr>\n",
       "    <tr>\n",
       "        <td>%M</td> <td>Minutos [00,59]</td>\n",
       "    </tr>\n",
       "    <tr>\n",
       "        <td>%S</td> <td>Segundos [00,60]</td>\n",
       "    </tr>\n",
       "    <tr>\n",
       "        <td>%w</td> <td>Día de la semana [0(domingo),6] </td>\n",
       "    </tr>\n",
       "    <tr>\n",
       "        <td>%U</td> <td>Número de semana [00,53] donde domingo es el primer día de la semana (días antes del primer domingo son \"semana 0\")</td>\n",
       "    </tr>\n",
       "    <tr>\n",
       "        <td>%W</td> <td>Número de semana [00,53] donde lunes es el primer día de la semana (días antes del primer lunes son \"semana 0\")</td>\n",
       "    </tr>\n",
       "    <tr>\n",
       "        <td>%F</td> <td>Shortcut para %Y-%m-%d (ej. 2012-4-18) </td>\n",
       "    </tr>\n",
       "    <tr>\n",
       "        <td>%D</td> <td>Shortcut para %m/%d/%y (ej. 04/18/12) </td>\n",
       "    </tr>\n",
       "</table>"
      ],
      "text/plain": [
       "<IPython.core.display.HTML object>"
      ]
     },
     "metadata": {},
     "output_type": "display_data"
    }
   ],
   "source": [
    "%%html\n",
    "<h4> Formato objetos datetime </h4>\n",
    "<table>\n",
    "    <tr>\n",
    "        <td><b>Símbolo</b></td> <td><b>Descripción</b></td>\n",
    "    </tr>\n",
    "    <tr>\n",
    "        <td>%Y</td> <td>Año de cuatro dígitos</td>\n",
    "    </tr>\n",
    "    <tr>\n",
    "        <td>%y</td> <td>Año de dos dígitos</td>\n",
    "    </tr>\n",
    "    <tr>\n",
    "        <td>%m</td> <td>Mes de dos dígitos</td>\n",
    "    </tr>\n",
    "    <tr>\n",
    "        <td>%d</td> <td>Día de dos dígitos</td>\n",
    "    </tr>\n",
    "    <tr>\n",
    "        <td>%H</td> <td>Hora 24hrs [00,23]</td>\n",
    "    </tr>\n",
    "    <tr>\n",
    "        <td>%I</td> <td>Hora 12hrs [01,12]</td>\n",
    "    </tr>\n",
    "    <tr>\n",
    "        <td>%M</td> <td>Minutos [00,59]</td>\n",
    "    </tr>\n",
    "    <tr>\n",
    "        <td>%S</td> <td>Segundos [00,60]</td>\n",
    "    </tr>\n",
    "    <tr>\n",
    "        <td>%w</td> <td>Día de la semana [0(domingo),6] </td>\n",
    "    </tr>\n",
    "    <tr>\n",
    "        <td>%U</td> <td>Número de semana [00,53] donde domingo es el primer día de la semana (días antes del primer domingo son \"semana 0\")</td>\n",
    "    </tr>\n",
    "    <tr>\n",
    "        <td>%W</td> <td>Número de semana [00,53] donde lunes es el primer día de la semana (días antes del primer lunes son \"semana 0\")</td>\n",
    "    </tr>\n",
    "    <tr>\n",
    "        <td>%F</td> <td>Shortcut para %Y-%m-%d (ej. 2012-4-18) </td>\n",
    "    </tr>\n",
    "    <tr>\n",
    "        <td>%D</td> <td>Shortcut para %m/%d/%y (ej. 04/18/12) </td>\n",
    "    </tr>\n",
    "</table>"
   ]
  },
  {
   "cell_type": "markdown",
   "metadata": {
    "deletable": true,
    "editable": true
   },
   "source": [
    "Veamos que podemos convertir string a datetime con el método .strptime():"
   ]
  },
  {
   "cell_type": "code",
   "execution_count": 26,
   "metadata": {
    "collapsed": false,
    "deletable": true,
    "editable": true
   },
   "outputs": [
    {
     "data": {
      "text/plain": [
       "datetime.datetime(2011, 1, 3, 0, 0)"
      ]
     },
     "execution_count": 26,
     "metadata": {},
     "output_type": "execute_result"
    }
   ],
   "source": [
    "value = '2011-01-03'\n",
    "datetime.strptime(value,'%Y-%m-%d')"
   ]
  },
  {
   "cell_type": "markdown",
   "metadata": {
    "deletable": true,
    "editable": true
   },
   "source": [
    "También podemos aplicar list comprehension para transformar estas fechas"
   ]
  },
  {
   "cell_type": "code",
   "execution_count": 149,
   "metadata": {
    "collapsed": true,
    "deletable": true,
    "editable": true
   },
   "outputs": [],
   "source": [
    "date_strings = ['7/6/2011','8/6/2011']"
   ]
  },
  {
   "cell_type": "code",
   "execution_count": 150,
   "metadata": {
    "collapsed": false,
    "deletable": true,
    "editable": true
   },
   "outputs": [
    {
     "data": {
      "text/plain": [
       "[datetime.datetime(2011, 7, 6, 0, 0), datetime.datetime(2011, 8, 6, 0, 0)]"
      ]
     },
     "execution_count": 150,
     "metadata": {},
     "output_type": "execute_result"
    }
   ],
   "source": [
    "[datetime.strptime(x, '%m/%d/%Y') for x in date_strings]"
   ]
  },
  {
   "cell_type": "markdown",
   "metadata": {
    "deletable": true,
    "editable": true
   },
   "source": [
    "Si nos queremos ahorrar tener que pasarle el formato entonces podemos utilizar el método 'parse' del paquete dateutil (automáticamente instalado junto con Pandas)"
   ]
  },
  {
   "cell_type": "code",
   "execution_count": 151,
   "metadata": {
    "collapsed": true,
    "deletable": true,
    "editable": true
   },
   "outputs": [],
   "source": [
    "from dateutil.parser import parse"
   ]
  },
  {
   "cell_type": "code",
   "execution_count": 153,
   "metadata": {
    "collapsed": false,
    "deletable": true,
    "editable": true
   },
   "outputs": [
    {
     "data": {
      "text/plain": [
       "datetime.datetime(2011, 1, 3, 0, 0)"
      ]
     },
     "execution_count": 153,
     "metadata": {},
     "output_type": "execute_result"
    }
   ],
   "source": [
    "parse('2011-01-03')"
   ]
  },
  {
   "cell_type": "code",
   "execution_count": 152,
   "metadata": {
    "collapsed": false,
    "deletable": true,
    "editable": true
   },
   "outputs": [
    {
     "data": {
      "text/plain": [
       "datetime.datetime(1997, 1, 31, 22, 45)"
      ]
     },
     "execution_count": 152,
     "metadata": {},
     "output_type": "execute_result"
    }
   ],
   "source": [
    "parse('Jan 31, 1997 10:45 PM')"
   ]
  },
  {
   "cell_type": "markdown",
   "metadata": {
    "deletable": true,
    "editable": true
   },
   "source": [
    "Si estamos usando las fechas en español, entonces nos conviene utilizar el parámetro dayfirst=True para indicar esto:"
   ]
  },
  {
   "cell_type": "code",
   "execution_count": 32,
   "metadata": {
    "collapsed": false,
    "deletable": true,
    "editable": true
   },
   "outputs": [
    {
     "data": {
      "text/plain": [
       "datetime.datetime(2011, 12, 6, 0, 0)"
      ]
     },
     "execution_count": 32,
     "metadata": {},
     "output_type": "execute_result"
    }
   ],
   "source": [
    "parse('6/12/2011',dayfirst=True)"
   ]
  },
  {
   "cell_type": "markdown",
   "metadata": {
    "deletable": true,
    "editable": true
   },
   "source": [
    "Dentro de pandas tenemos el método .to_datetime() que es útil para convertir strings "
   ]
  },
  {
   "cell_type": "code",
   "execution_count": 33,
   "metadata": {
    "collapsed": true,
    "deletable": true,
    "editable": true
   },
   "outputs": [],
   "source": [
    "import numpy as np\n",
    "import pandas as pd"
   ]
  },
  {
   "cell_type": "code",
   "execution_count": 34,
   "metadata": {
    "collapsed": false,
    "deletable": true,
    "editable": true
   },
   "outputs": [
    {
     "data": {
      "text/plain": [
       "DatetimeIndex(['2011-07-06', '2011-08-06'], dtype='datetime64[ns]', freq=None)"
      ]
     },
     "execution_count": 34,
     "metadata": {},
     "output_type": "execute_result"
    }
   ],
   "source": [
    "pd.to_datetime(date_strings)"
   ]
  },
  {
   "cell_type": "markdown",
   "metadata": {
    "deletable": true,
    "editable": true
   },
   "source": [
    "También es útil manejar las fechas dentro de Pandas porque puede manejar valores faltantes como 'NaT' (Not a Time):"
   ]
  },
  {
   "cell_type": "code",
   "execution_count": 35,
   "metadata": {
    "collapsed": false,
    "deletable": true,
    "editable": true
   },
   "outputs": [
    {
     "data": {
      "text/plain": [
       "DatetimeIndex(['2011-07-06', '2011-08-06', 'NaT'], dtype='datetime64[ns]', freq=None)"
      ]
     },
     "execution_count": 35,
     "metadata": {},
     "output_type": "execute_result"
    }
   ],
   "source": [
    "idx = pd.to_datetime(date_strings+[None])\n",
    "idx"
   ]
  },
  {
   "cell_type": "markdown",
   "metadata": {
    "deletable": true,
    "editable": true
   },
   "source": [
    "y manejarlo del mismo modo que lo hacemos con otros valores faltantes en Pandas"
   ]
  },
  {
   "cell_type": "code",
   "execution_count": 36,
   "metadata": {
    "collapsed": false,
    "deletable": true,
    "editable": true
   },
   "outputs": [
    {
     "data": {
      "text/plain": [
       "array([False, False,  True], dtype=bool)"
      ]
     },
     "execution_count": 36,
     "metadata": {},
     "output_type": "execute_result"
    }
   ],
   "source": [
    "pd.isnull(idx)"
   ]
  },
  {
   "cell_type": "markdown",
   "metadata": {
    "deletable": true,
    "editable": true
   },
   "source": [
    "### Basics de Series de Tiempo"
   ]
  },
  {
   "cell_type": "markdown",
   "metadata": {
    "deletable": true,
    "editable": true
   },
   "source": [
    "Escribamos primero un arreglo de datetimes y creemos una serie a partir de estos valores"
   ]
  },
  {
   "cell_type": "code",
   "execution_count": 156,
   "metadata": {
    "collapsed": false,
    "deletable": true,
    "editable": true
   },
   "outputs": [
    {
     "data": {
      "text/plain": [
       "[datetime.datetime(2011, 1, 2, 0, 0),\n",
       " datetime.datetime(2011, 1, 5, 0, 0),\n",
       " datetime.datetime(2011, 1, 7, 0, 0),\n",
       " datetime.datetime(2011, 1, 8, 0, 0),\n",
       " datetime.datetime(2011, 1, 10, 0, 0),\n",
       " datetime.datetime(2011, 1, 12, 0, 0)]"
      ]
     },
     "execution_count": 156,
     "metadata": {},
     "output_type": "execute_result"
    }
   ],
   "source": [
    "dates = [datetime(2011, 1, 2), datetime(2011, 1, 5),\n",
    "          datetime(2011, 1, 7), datetime(2011, 1, 8),\n",
    "          datetime(2011, 1, 10), datetime(2011, 1, 12)]\n",
    "dates"
   ]
  },
  {
   "cell_type": "code",
   "execution_count": 157,
   "metadata": {
    "collapsed": false,
    "deletable": true,
    "editable": true
   },
   "outputs": [
    {
     "data": {
      "text/plain": [
       "2011-01-02   -2.509949\n",
       "2011-01-05    1.557456\n",
       "2011-01-07   -0.313922\n",
       "2011-01-08   -0.131582\n",
       "2011-01-10    0.664997\n",
       "2011-01-12   -0.941138\n",
       "dtype: float64"
      ]
     },
     "execution_count": 157,
     "metadata": {},
     "output_type": "execute_result"
    }
   ],
   "source": [
    "ts = pd.Series(np.random.randn(6), index = dates)\n",
    "ts"
   ]
  },
  {
   "cell_type": "markdown",
   "metadata": {
    "deletable": true,
    "editable": true
   },
   "source": [
    "Vemos que los objetos 'datetime' se colocaron como 'DateTimeIndex'"
   ]
  },
  {
   "cell_type": "code",
   "execution_count": 158,
   "metadata": {
    "collapsed": false,
    "deletable": true,
    "editable": true
   },
   "outputs": [
    {
     "data": {
      "text/plain": [
       "DatetimeIndex(['2011-01-02', '2011-01-05', '2011-01-07', '2011-01-08',\n",
       "               '2011-01-10', '2011-01-12'],\n",
       "              dtype='datetime64[ns]', freq=None)"
      ]
     },
     "execution_count": 158,
     "metadata": {},
     "output_type": "execute_result"
    }
   ],
   "source": [
    "ts.index"
   ]
  },
  {
   "cell_type": "markdown",
   "metadata": {
    "deletable": true,
    "editable": true
   },
   "source": [
    "Como con otras series las operaciones aritméticas se alinean inmediatamente con los valores del índice"
   ]
  },
  {
   "cell_type": "code",
   "execution_count": 159,
   "metadata": {
    "collapsed": false
   },
   "outputs": [
    {
     "data": {
      "text/plain": [
       "2011-01-02   -2.509949\n",
       "2011-01-07   -0.313922\n",
       "2011-01-10    0.664997\n",
       "dtype: float64"
      ]
     },
     "execution_count": 159,
     "metadata": {},
     "output_type": "execute_result"
    }
   ],
   "source": [
    "ts[::2]"
   ]
  },
  {
   "cell_type": "code",
   "execution_count": 160,
   "metadata": {
    "collapsed": false,
    "deletable": true,
    "editable": true
   },
   "outputs": [
    {
     "data": {
      "text/plain": [
       "2011-01-02   -5.019898\n",
       "2011-01-05         NaN\n",
       "2011-01-07   -0.627845\n",
       "2011-01-08         NaN\n",
       "2011-01-10    1.329995\n",
       "2011-01-12         NaN\n",
       "dtype: float64"
      ]
     },
     "execution_count": 160,
     "metadata": {},
     "output_type": "execute_result"
    }
   ],
   "source": [
    "ts + ts[::2]"
   ]
  },
  {
   "cell_type": "markdown",
   "metadata": {
    "deletable": true,
    "editable": true
   },
   "source": [
    "Los valores escalares del DatetimeIndex son objetos del tipo 'Timestamp'"
   ]
  },
  {
   "cell_type": "code",
   "execution_count": 161,
   "metadata": {
    "collapsed": false,
    "deletable": true,
    "editable": true
   },
   "outputs": [
    {
     "data": {
      "text/plain": [
       "Timestamp('2011-01-02 00:00:00')"
      ]
     },
     "execution_count": 161,
     "metadata": {},
     "output_type": "execute_result"
    }
   ],
   "source": [
    "stamp = ts.index[0]\n",
    "stamp"
   ]
  },
  {
   "cell_type": "markdown",
   "metadata": {
    "deletable": true,
    "editable": true
   },
   "source": [
    "Como otras series las series de tiempo se pueden referencias por número o por etiqueta "
   ]
  },
  {
   "cell_type": "code",
   "execution_count": 163,
   "metadata": {
    "collapsed": false,
    "deletable": true,
    "editable": true
   },
   "outputs": [
    {
     "data": {
      "text/plain": [
       "-0.31392249918007636"
      ]
     },
     "execution_count": 163,
     "metadata": {},
     "output_type": "execute_result"
    }
   ],
   "source": [
    "stamp = ts.index[2]\n",
    "ts[stamp]"
   ]
  },
  {
   "cell_type": "markdown",
   "metadata": {
    "deletable": true,
    "editable": true
   },
   "source": [
    "y se le puede pasar un string como etiqueta que pueda ser interpretado como fecha"
   ]
  },
  {
   "cell_type": "code",
   "execution_count": 164,
   "metadata": {
    "collapsed": false,
    "deletable": true,
    "editable": true
   },
   "outputs": [
    {
     "data": {
      "text/plain": [
       "0.66499742675739582"
      ]
     },
     "execution_count": 164,
     "metadata": {},
     "output_type": "execute_result"
    }
   ],
   "source": [
    "ts['1/10/2011']"
   ]
  },
  {
   "cell_type": "code",
   "execution_count": 165,
   "metadata": {
    "collapsed": false,
    "deletable": true,
    "editable": true
   },
   "outputs": [
    {
     "data": {
      "text/plain": [
       "0.66499742675739582"
      ]
     },
     "execution_count": 165,
     "metadata": {},
     "output_type": "execute_result"
    }
   ],
   "source": [
    "ts['20110110']"
   ]
  },
  {
   "cell_type": "markdown",
   "metadata": {
    "deletable": true,
    "editable": true
   },
   "source": [
    "Para una serie de tiempo más larga se le puede pasar sólo el año o el año y el mes para obtener slices de la serie de tiempo"
   ]
  },
  {
   "cell_type": "code",
   "execution_count": 167,
   "metadata": {
    "collapsed": false,
    "deletable": true,
    "editable": true
   },
   "outputs": [
    {
     "data": {
      "text/plain": [
       "2000-01-01    0.286952\n",
       "2000-01-02    2.206064\n",
       "2000-01-03    0.002625\n",
       "2000-01-04    0.616172\n",
       "2000-01-05   -1.320211\n",
       "2000-01-06   -0.305662\n",
       "2000-01-07   -0.701669\n",
       "2000-01-08   -0.407538\n",
       "2000-01-09    0.450551\n",
       "2000-01-10   -0.132653\n",
       "2000-01-11   -0.794378\n",
       "2000-01-12   -0.587878\n",
       "2000-01-13   -0.087389\n",
       "2000-01-14   -0.037948\n",
       "2000-01-15   -0.367451\n",
       "2000-01-16   -1.616522\n",
       "2000-01-17   -0.577897\n",
       "2000-01-18    0.266804\n",
       "2000-01-19    1.609407\n",
       "2000-01-20   -0.096757\n",
       "2000-01-21   -1.022366\n",
       "2000-01-22   -0.218060\n",
       "2000-01-23    0.753749\n",
       "2000-01-24    2.275134\n",
       "2000-01-25   -1.149947\n",
       "2000-01-26   -0.199697\n",
       "2000-01-27    1.811771\n",
       "2000-01-28   -0.655070\n",
       "2000-01-29    0.883697\n",
       "2000-01-30    1.535834\n",
       "                ...   \n",
       "2002-08-28   -0.714540\n",
       "2002-08-29   -0.298323\n",
       "2002-08-30   -1.299137\n",
       "2002-08-31   -0.531680\n",
       "2002-09-01    0.862685\n",
       "2002-09-02    0.717202\n",
       "2002-09-03   -0.721397\n",
       "2002-09-04   -0.023206\n",
       "2002-09-05    0.906695\n",
       "2002-09-06   -0.114278\n",
       "2002-09-07   -0.337870\n",
       "2002-09-08   -0.816975\n",
       "2002-09-09    0.953527\n",
       "2002-09-10   -1.763318\n",
       "2002-09-11    1.323240\n",
       "2002-09-12   -0.948872\n",
       "2002-09-13    0.325886\n",
       "2002-09-14    0.754018\n",
       "2002-09-15   -1.025052\n",
       "2002-09-16   -1.683386\n",
       "2002-09-17    0.618044\n",
       "2002-09-18   -0.674462\n",
       "2002-09-19   -0.778910\n",
       "2002-09-20   -0.904549\n",
       "2002-09-21    0.424483\n",
       "2002-09-22   -0.507419\n",
       "2002-09-23   -1.402285\n",
       "2002-09-24   -0.481116\n",
       "2002-09-25    0.426864\n",
       "2002-09-26   -0.408740\n",
       "Freq: D, dtype: float64"
      ]
     },
     "execution_count": 167,
     "metadata": {},
     "output_type": "execute_result"
    }
   ],
   "source": [
    "longer_ts = pd.Series(np.random.randn(1000),\n",
    "                      index=pd.date_range('1/1/2000', periods=1000))\n",
    "longer_ts"
   ]
  },
  {
   "cell_type": "markdown",
   "metadata": {
    "deletable": true,
    "editable": true
   },
   "source": [
    "Por ejemplo si queremos los datos de mayo de 2001, le pasamos '2001-05'"
   ]
  },
  {
   "cell_type": "code",
   "execution_count": 168,
   "metadata": {
    "collapsed": false,
    "deletable": true,
    "editable": true
   },
   "outputs": [
    {
     "data": {
      "text/plain": [
       "2001-05-01   -0.064373\n",
       "2001-05-02   -2.107989\n",
       "2001-05-03    0.305170\n",
       "2001-05-04   -0.658865\n",
       "2001-05-05   -0.693836\n",
       "2001-05-06    0.355535\n",
       "2001-05-07    0.219839\n",
       "2001-05-08    0.071385\n",
       "2001-05-09    0.336658\n",
       "2001-05-10    0.333152\n",
       "2001-05-11   -0.832348\n",
       "2001-05-12    0.567697\n",
       "2001-05-13   -0.589600\n",
       "2001-05-14   -0.474116\n",
       "2001-05-15   -1.757614\n",
       "2001-05-16   -0.080333\n",
       "2001-05-17    0.957984\n",
       "2001-05-18   -0.296813\n",
       "2001-05-19    0.174226\n",
       "2001-05-20    0.639365\n",
       "2001-05-21   -1.642453\n",
       "2001-05-22   -0.392285\n",
       "2001-05-23   -0.751945\n",
       "2001-05-24    1.062404\n",
       "2001-05-25   -0.651356\n",
       "2001-05-26   -1.622503\n",
       "2001-05-27   -0.777887\n",
       "2001-05-28   -0.587277\n",
       "2001-05-29    0.014833\n",
       "2001-05-30   -0.393052\n",
       "2001-05-31   -0.240559\n",
       "Freq: D, dtype: float64"
      ]
     },
     "execution_count": 168,
     "metadata": {},
     "output_type": "execute_result"
    }
   ],
   "source": [
    "longer_ts['2001-05']"
   ]
  },
  {
   "cell_type": "markdown",
   "metadata": {
    "deletable": true,
    "editable": true
   },
   "source": [
    "o '2001' para todos los datos del año 2001"
   ]
  },
  {
   "cell_type": "code",
   "execution_count": 169,
   "metadata": {
    "collapsed": false,
    "deletable": true,
    "editable": true
   },
   "outputs": [
    {
     "data": {
      "text/plain": [
       "2001-01-01   -0.128417\n",
       "2001-01-02   -0.763194\n",
       "2001-01-03   -0.798800\n",
       "2001-01-04    0.703469\n",
       "2001-01-05    0.640790\n",
       "2001-01-06    0.145868\n",
       "2001-01-07    2.900144\n",
       "2001-01-08   -0.553774\n",
       "2001-01-09   -0.008786\n",
       "2001-01-10    0.145508\n",
       "2001-01-11   -0.037263\n",
       "2001-01-12    1.071009\n",
       "2001-01-13    1.298704\n",
       "2001-01-14   -1.154634\n",
       "2001-01-15    0.533373\n",
       "2001-01-16   -0.179007\n",
       "2001-01-17    0.927779\n",
       "2001-01-18    0.394618\n",
       "2001-01-19   -1.739095\n",
       "2001-01-20   -0.967300\n",
       "2001-01-21    0.565162\n",
       "2001-01-22   -0.308244\n",
       "2001-01-23    0.865799\n",
       "2001-01-24   -0.608856\n",
       "2001-01-25   -1.321233\n",
       "2001-01-26    0.417915\n",
       "2001-01-27    1.004409\n",
       "2001-01-28   -1.342711\n",
       "2001-01-29   -1.606121\n",
       "2001-01-30   -0.448735\n",
       "                ...   \n",
       "2001-12-02   -1.053595\n",
       "2001-12-03   -0.067052\n",
       "2001-12-04    0.457242\n",
       "2001-12-05    0.003908\n",
       "2001-12-06    0.378643\n",
       "2001-12-07    0.751217\n",
       "2001-12-08   -0.278753\n",
       "2001-12-09   -0.686213\n",
       "2001-12-10    1.090550\n",
       "2001-12-11   -1.049149\n",
       "2001-12-12   -1.749159\n",
       "2001-12-13   -0.132884\n",
       "2001-12-14    1.089108\n",
       "2001-12-15    0.136058\n",
       "2001-12-16   -0.673482\n",
       "2001-12-17    2.592386\n",
       "2001-12-18    0.702733\n",
       "2001-12-19    0.496865\n",
       "2001-12-20    0.882460\n",
       "2001-12-21    0.005339\n",
       "2001-12-22   -0.079416\n",
       "2001-12-23    1.270399\n",
       "2001-12-24   -0.396516\n",
       "2001-12-25   -2.783657\n",
       "2001-12-26   -0.562751\n",
       "2001-12-27    0.526933\n",
       "2001-12-28   -0.816480\n",
       "2001-12-29    1.222458\n",
       "2001-12-30    0.071232\n",
       "2001-12-31    0.298222\n",
       "Freq: D, dtype: float64"
      ]
     },
     "execution_count": 169,
     "metadata": {},
     "output_type": "execute_result"
    }
   ],
   "source": [
    "longer_ts['2001']"
   ]
  },
  {
   "cell_type": "markdown",
   "metadata": {
    "deletable": true,
    "editable": true
   },
   "source": [
    "Se puede hacer el slicing usando objetos del tipo 'datetime' del mismo modo"
   ]
  },
  {
   "cell_type": "code",
   "execution_count": 170,
   "metadata": {
    "collapsed": false,
    "deletable": true,
    "editable": true
   },
   "outputs": [
    {
     "data": {
      "text/plain": [
       "2011-01-07   -0.313922\n",
       "2011-01-08   -0.131582\n",
       "2011-01-10    0.664997\n",
       "2011-01-12   -0.941138\n",
       "dtype: float64"
      ]
     },
     "execution_count": 170,
     "metadata": {},
     "output_type": "execute_result"
    }
   ],
   "source": [
    "ts[datetime(2011,1,7):]"
   ]
  },
  {
   "cell_type": "markdown",
   "metadata": {
    "deletable": true,
    "editable": true
   },
   "source": [
    "Si tus etiquetas están en orden cronológico entonces puedes incluir en tu 'query' datos que no están incluidos en el rango para obtenerlo hasta el final como por ejemplo"
   ]
  },
  {
   "cell_type": "code",
   "execution_count": 171,
   "metadata": {
    "collapsed": false,
    "deletable": true,
    "editable": true
   },
   "outputs": [
    {
     "data": {
      "text/plain": [
       "2011-01-02   -2.509949\n",
       "2011-01-05    1.557456\n",
       "2011-01-07   -0.313922\n",
       "2011-01-08   -0.131582\n",
       "2011-01-10    0.664997\n",
       "2011-01-12   -0.941138\n",
       "dtype: float64"
      ]
     },
     "execution_count": 171,
     "metadata": {},
     "output_type": "execute_result"
    }
   ],
   "source": [
    "ts"
   ]
  },
  {
   "cell_type": "code",
   "execution_count": 172,
   "metadata": {
    "collapsed": false,
    "deletable": true,
    "editable": true
   },
   "outputs": [
    {
     "data": {
      "text/plain": [
       "2011-01-07   -0.313922\n",
       "2011-01-08   -0.131582\n",
       "2011-01-10    0.664997\n",
       "2011-01-12   -0.941138\n",
       "dtype: float64"
      ]
     },
     "execution_count": 172,
     "metadata": {},
     "output_type": "execute_result"
    }
   ],
   "source": [
    "ts['1/6/2011':'1/11/2017']"
   ]
  },
  {
   "cell_type": "markdown",
   "metadata": {
    "deletable": true,
    "editable": true
   },
   "source": [
    "Alternativamente se puede utilizar el método .truncate a una serie para obtener los valores anteriores (o posteriores) a una fecha"
   ]
  },
  {
   "cell_type": "code",
   "execution_count": 173,
   "metadata": {
    "collapsed": false,
    "deletable": true,
    "editable": true
   },
   "outputs": [
    {
     "data": {
      "text/plain": [
       "2011-01-02   -2.509949\n",
       "2011-01-05    1.557456\n",
       "2011-01-07   -0.313922\n",
       "2011-01-08   -0.131582\n",
       "dtype: float64"
      ]
     },
     "execution_count": 173,
     "metadata": {},
     "output_type": "execute_result"
    }
   ],
   "source": [
    "ts.truncate(after='1/9/2011')"
   ]
  },
  {
   "cell_type": "markdown",
   "metadata": {
    "deletable": true,
    "editable": true
   },
   "source": [
    "Todo esto que vimos con Series es igualmente utilizable para DataFrames"
   ]
  },
  {
   "cell_type": "code",
   "execution_count": 174,
   "metadata": {
    "collapsed": true,
    "deletable": true,
    "editable": true
   },
   "outputs": [],
   "source": [
    "pd.date_range?"
   ]
  },
  {
   "cell_type": "markdown",
   "metadata": {
    "deletable": true,
    "editable": true
   },
   "source": [
    "Nota: veremos un ejemplo de más opciones para el argumento freq más abajo"
   ]
  },
  {
   "cell_type": "code",
   "execution_count": 175,
   "metadata": {
    "collapsed": false,
    "deletable": true,
    "editable": true
   },
   "outputs": [
    {
     "data": {
      "text/plain": [
       "DatetimeIndex(['2000-01-05', '2000-01-12', '2000-01-19', '2000-01-26',\n",
       "               '2000-02-02', '2000-02-09', '2000-02-16', '2000-02-23',\n",
       "               '2000-03-01', '2000-03-08', '2000-03-15', '2000-03-22',\n",
       "               '2000-03-29', '2000-04-05', '2000-04-12', '2000-04-19',\n",
       "               '2000-04-26', '2000-05-03', '2000-05-10', '2000-05-17',\n",
       "               '2000-05-24', '2000-05-31', '2000-06-07', '2000-06-14',\n",
       "               '2000-06-21', '2000-06-28', '2000-07-05', '2000-07-12',\n",
       "               '2000-07-19', '2000-07-26', '2000-08-02', '2000-08-09',\n",
       "               '2000-08-16', '2000-08-23', '2000-08-30', '2000-09-06',\n",
       "               '2000-09-13', '2000-09-20', '2000-09-27', '2000-10-04',\n",
       "               '2000-10-11', '2000-10-18', '2000-10-25', '2000-11-01',\n",
       "               '2000-11-08', '2000-11-15', '2000-11-22', '2000-11-29',\n",
       "               '2000-12-06', '2000-12-13', '2000-12-20', '2000-12-27',\n",
       "               '2001-01-03', '2001-01-10', '2001-01-17', '2001-01-24',\n",
       "               '2001-01-31', '2001-02-07', '2001-02-14', '2001-02-21',\n",
       "               '2001-02-28', '2001-03-07', '2001-03-14', '2001-03-21',\n",
       "               '2001-03-28', '2001-04-04', '2001-04-11', '2001-04-18',\n",
       "               '2001-04-25', '2001-05-02', '2001-05-09', '2001-05-16',\n",
       "               '2001-05-23', '2001-05-30', '2001-06-06', '2001-06-13',\n",
       "               '2001-06-20', '2001-06-27', '2001-07-04', '2001-07-11',\n",
       "               '2001-07-18', '2001-07-25', '2001-08-01', '2001-08-08',\n",
       "               '2001-08-15', '2001-08-22', '2001-08-29', '2001-09-05',\n",
       "               '2001-09-12', '2001-09-19', '2001-09-26', '2001-10-03',\n",
       "               '2001-10-10', '2001-10-17', '2001-10-24', '2001-10-31',\n",
       "               '2001-11-07', '2001-11-14', '2001-11-21', '2001-11-28'],\n",
       "              dtype='datetime64[ns]', freq='W-WED')"
      ]
     },
     "execution_count": 175,
     "metadata": {},
     "output_type": "execute_result"
    }
   ],
   "source": [
    "dates = pd.date_range('1/1/2000', periods=100, freq='W-WED')\n",
    "dates"
   ]
  },
  {
   "cell_type": "code",
   "execution_count": 176,
   "metadata": {
    "collapsed": false,
    "deletable": true,
    "editable": true
   },
   "outputs": [
    {
     "data": {
      "text/html": [
       "<div>\n",
       "<table border=\"1\" class=\"dataframe\">\n",
       "  <thead>\n",
       "    <tr style=\"text-align: right;\">\n",
       "      <th></th>\n",
       "      <th>Aguascalientes</th>\n",
       "      <th>Chiapas</th>\n",
       "      <th>Puebla</th>\n",
       "      <th>Oaxaca</th>\n",
       "    </tr>\n",
       "  </thead>\n",
       "  <tbody>\n",
       "    <tr>\n",
       "      <th>2000-01-05</th>\n",
       "      <td>1.412637</td>\n",
       "      <td>0.286577</td>\n",
       "      <td>0.240419</td>\n",
       "      <td>0.364763</td>\n",
       "    </tr>\n",
       "    <tr>\n",
       "      <th>2000-01-12</th>\n",
       "      <td>0.417312</td>\n",
       "      <td>0.579450</td>\n",
       "      <td>-0.228366</td>\n",
       "      <td>-1.859530</td>\n",
       "    </tr>\n",
       "    <tr>\n",
       "      <th>2000-01-19</th>\n",
       "      <td>0.724978</td>\n",
       "      <td>-1.010170</td>\n",
       "      <td>0.003684</td>\n",
       "      <td>-0.825616</td>\n",
       "    </tr>\n",
       "    <tr>\n",
       "      <th>2000-01-26</th>\n",
       "      <td>0.805692</td>\n",
       "      <td>1.158387</td>\n",
       "      <td>-0.043756</td>\n",
       "      <td>-0.616672</td>\n",
       "    </tr>\n",
       "    <tr>\n",
       "      <th>2000-02-02</th>\n",
       "      <td>-0.044807</td>\n",
       "      <td>0.051633</td>\n",
       "      <td>-0.388271</td>\n",
       "      <td>-0.555211</td>\n",
       "    </tr>\n",
       "  </tbody>\n",
       "</table>\n",
       "</div>"
      ],
      "text/plain": [
       "            Aguascalientes   Chiapas    Puebla    Oaxaca\n",
       "2000-01-05        1.412637  0.286577  0.240419  0.364763\n",
       "2000-01-12        0.417312  0.579450 -0.228366 -1.859530\n",
       "2000-01-19        0.724978 -1.010170  0.003684 -0.825616\n",
       "2000-01-26        0.805692  1.158387 -0.043756 -0.616672\n",
       "2000-02-02       -0.044807  0.051633 -0.388271 -0.555211"
      ]
     },
     "execution_count": 176,
     "metadata": {},
     "output_type": "execute_result"
    }
   ],
   "source": [
    "long_df = pd.DataFrame(np.random.randn(100,4),\n",
    "                      index = dates,\n",
    "                      columns = ['Aguascalientes', 'Chiapas', 'Puebla', 'Oaxaca'])\n",
    "long_df.head(5)"
   ]
  },
  {
   "cell_type": "code",
   "execution_count": 177,
   "metadata": {
    "collapsed": false,
    "deletable": true,
    "editable": true
   },
   "outputs": [
    {
     "data": {
      "text/html": [
       "<div>\n",
       "<table border=\"1\" class=\"dataframe\">\n",
       "  <thead>\n",
       "    <tr style=\"text-align: right;\">\n",
       "      <th></th>\n",
       "      <th>Aguascalientes</th>\n",
       "      <th>Chiapas</th>\n",
       "      <th>Puebla</th>\n",
       "      <th>Oaxaca</th>\n",
       "    </tr>\n",
       "  </thead>\n",
       "  <tbody>\n",
       "    <tr>\n",
       "      <th>2001-05-02</th>\n",
       "      <td>-0.347815</td>\n",
       "      <td>-1.280591</td>\n",
       "      <td>-0.075636</td>\n",
       "      <td>-0.770034</td>\n",
       "    </tr>\n",
       "    <tr>\n",
       "      <th>2001-05-09</th>\n",
       "      <td>0.779492</td>\n",
       "      <td>0.091049</td>\n",
       "      <td>1.776256</td>\n",
       "      <td>-0.370423</td>\n",
       "    </tr>\n",
       "    <tr>\n",
       "      <th>2001-05-16</th>\n",
       "      <td>0.045813</td>\n",
       "      <td>0.547672</td>\n",
       "      <td>0.807856</td>\n",
       "      <td>3.301118</td>\n",
       "    </tr>\n",
       "    <tr>\n",
       "      <th>2001-05-23</th>\n",
       "      <td>-1.219285</td>\n",
       "      <td>0.260134</td>\n",
       "      <td>0.785870</td>\n",
       "      <td>0.982327</td>\n",
       "    </tr>\n",
       "    <tr>\n",
       "      <th>2001-05-30</th>\n",
       "      <td>-0.806136</td>\n",
       "      <td>0.319105</td>\n",
       "      <td>-0.617221</td>\n",
       "      <td>-1.259636</td>\n",
       "    </tr>\n",
       "  </tbody>\n",
       "</table>\n",
       "</div>"
      ],
      "text/plain": [
       "            Aguascalientes   Chiapas    Puebla    Oaxaca\n",
       "2001-05-02       -0.347815 -1.280591 -0.075636 -0.770034\n",
       "2001-05-09        0.779492  0.091049  1.776256 -0.370423\n",
       "2001-05-16        0.045813  0.547672  0.807856  3.301118\n",
       "2001-05-23       -1.219285  0.260134  0.785870  0.982327\n",
       "2001-05-30       -0.806136  0.319105 -0.617221 -1.259636"
      ]
     },
     "execution_count": 177,
     "metadata": {},
     "output_type": "execute_result"
    }
   ],
   "source": [
    "long_df.loc['5-2001']"
   ]
  },
  {
   "cell_type": "markdown",
   "metadata": {
    "collapsed": true,
    "deletable": true,
    "editable": true
   },
   "source": [
    "### Series de tiempo con índices duplicados"
   ]
  },
  {
   "cell_type": "code",
   "execution_count": 178,
   "metadata": {
    "collapsed": false,
    "deletable": true,
    "editable": true
   },
   "outputs": [],
   "source": [
    "dates = pd.DatetimeIndex(['1/1/2000','1/2/2000','1/2/2000','1/2/2000','1/3/2000'])"
   ]
  },
  {
   "cell_type": "code",
   "execution_count": 179,
   "metadata": {
    "collapsed": false,
    "deletable": true,
    "editable": true
   },
   "outputs": [
    {
     "data": {
      "text/plain": [
       "2000-01-01    0\n",
       "2000-01-02    1\n",
       "2000-01-02    2\n",
       "2000-01-02    3\n",
       "2000-01-03    4\n",
       "dtype: int64"
      ]
     },
     "execution_count": 179,
     "metadata": {},
     "output_type": "execute_result"
    }
   ],
   "source": [
    "dup_ts = pd.Series(np.arange(5),index=dates)\n",
    "dup_ts"
   ]
  },
  {
   "cell_type": "markdown",
   "metadata": {
    "deletable": true,
    "editable": true
   },
   "source": [
    "Podemos revisar que el índice no es único con el atributo is_unique"
   ]
  },
  {
   "cell_type": "code",
   "execution_count": 180,
   "metadata": {
    "collapsed": false,
    "deletable": true,
    "editable": true
   },
   "outputs": [
    {
     "data": {
      "text/plain": [
       "False"
      ]
     },
     "execution_count": 180,
     "metadata": {},
     "output_type": "execute_result"
    }
   ],
   "source": [
    "dup_ts.index.is_unique"
   ]
  },
  {
   "cell_type": "markdown",
   "metadata": {
    "deletable": true,
    "editable": true
   },
   "source": [
    "Así obtendremos valores escalares o series dependiendo de si el valore está duplicado o no"
   ]
  },
  {
   "cell_type": "code",
   "execution_count": 181,
   "metadata": {
    "collapsed": false,
    "deletable": true,
    "editable": true
   },
   "outputs": [
    {
     "data": {
      "text/plain": [
       "4"
      ]
     },
     "execution_count": 181,
     "metadata": {},
     "output_type": "execute_result"
    }
   ],
   "source": [
    "dup_ts['1/3/2000'] #No duplicado"
   ]
  },
  {
   "cell_type": "code",
   "execution_count": 182,
   "metadata": {
    "collapsed": false,
    "deletable": true,
    "editable": true
   },
   "outputs": [
    {
     "data": {
      "text/plain": [
       "2000-01-02    1\n",
       "2000-01-02    2\n",
       "2000-01-02    3\n",
       "dtype: int64"
      ]
     },
     "execution_count": 182,
     "metadata": {},
     "output_type": "execute_result"
    }
   ],
   "source": [
    "dup_ts['1/2/2000'] #Duplicado"
   ]
  },
  {
   "cell_type": "markdown",
   "metadata": {
    "deletable": true,
    "editable": true
   },
   "source": [
    "Supongamos que quieres agregar datos no únicos. Una de las maneras es utilizando gropby y level=0"
   ]
  },
  {
   "cell_type": "code",
   "execution_count": 183,
   "metadata": {
    "collapsed": false,
    "deletable": true,
    "editable": true
   },
   "outputs": [
    {
     "data": {
      "text/plain": [
       "2000-01-01    0\n",
       "2000-01-02    2\n",
       "2000-01-03    4\n",
       "dtype: int64"
      ]
     },
     "execution_count": 183,
     "metadata": {},
     "output_type": "execute_result"
    }
   ],
   "source": [
    "grouped = dup_ts.groupby(level=0)\n",
    "grouped.mean()"
   ]
  },
  {
   "cell_type": "code",
   "execution_count": 184,
   "metadata": {
    "collapsed": false,
    "deletable": true,
    "editable": true
   },
   "outputs": [
    {
     "data": {
      "text/plain": [
       "2000-01-01    1\n",
       "2000-01-02    3\n",
       "2000-01-03    1\n",
       "dtype: int64"
      ]
     },
     "execution_count": 184,
     "metadata": {},
     "output_type": "execute_result"
    }
   ],
   "source": [
    "grouped.count()"
   ]
  },
  {
   "cell_type": "markdown",
   "metadata": {
    "deletable": true,
    "editable": true
   },
   "source": [
    "### Rangos de fechas"
   ]
  },
  {
   "cell_type": "markdown",
   "metadata": {
    "deletable": true,
    "editable": true
   },
   "source": [
    "Recordemos la serie ts"
   ]
  },
  {
   "cell_type": "code",
   "execution_count": 185,
   "metadata": {
    "collapsed": false,
    "deletable": true,
    "editable": true
   },
   "outputs": [
    {
     "data": {
      "text/plain": [
       "2011-01-02   -2.509949\n",
       "2011-01-05    1.557456\n",
       "2011-01-07   -0.313922\n",
       "2011-01-08   -0.131582\n",
       "2011-01-10    0.664997\n",
       "2011-01-12   -0.941138\n",
       "dtype: float64"
      ]
     },
     "execution_count": 185,
     "metadata": {},
     "output_type": "execute_result"
    }
   ],
   "source": [
    "ts"
   ]
  },
  {
   "cell_type": "markdown",
   "metadata": {
    "deletable": true,
    "editable": true
   },
   "source": [
    "Ahora generemos un DatetimIndex para aprender la función date_tange"
   ]
  },
  {
   "cell_type": "code",
   "execution_count": 186,
   "metadata": {
    "collapsed": true,
    "deletable": true,
    "editable": true
   },
   "outputs": [
    {
     "data": {
      "text/plain": [
       "DatetimeIndex(['2012-04-01', '2012-04-02', '2012-04-03', '2012-04-04',\n",
       "               '2012-04-05', '2012-04-06', '2012-04-07', '2012-04-08',\n",
       "               '2012-04-09', '2012-04-10', '2012-04-11', '2012-04-12',\n",
       "               '2012-04-13', '2012-04-14', '2012-04-15', '2012-04-16',\n",
       "               '2012-04-17', '2012-04-18', '2012-04-19', '2012-04-20',\n",
       "               '2012-04-21', '2012-04-22', '2012-04-23', '2012-04-24',\n",
       "               '2012-04-25', '2012-04-26', '2012-04-27', '2012-04-28',\n",
       "               '2012-04-29', '2012-04-30', '2012-05-01', '2012-05-02',\n",
       "               '2012-05-03', '2012-05-04', '2012-05-05', '2012-05-06',\n",
       "               '2012-05-07', '2012-05-08', '2012-05-09', '2012-05-10',\n",
       "               '2012-05-11', '2012-05-12', '2012-05-13', '2012-05-14',\n",
       "               '2012-05-15', '2012-05-16', '2012-05-17', '2012-05-18',\n",
       "               '2012-05-19', '2012-05-20', '2012-05-21', '2012-05-22',\n",
       "               '2012-05-23', '2012-05-24', '2012-05-25', '2012-05-26',\n",
       "               '2012-05-27', '2012-05-28', '2012-05-29', '2012-05-30',\n",
       "               '2012-05-31', '2012-06-01'],\n",
       "              dtype='datetime64[ns]', freq='D')"
      ]
     },
     "execution_count": 186,
     "metadata": {},
     "output_type": "execute_result"
    }
   ],
   "source": [
    "index = pd.date_range('2012-04-01','2012-06-01')\n",
    "index"
   ]
  },
  {
   "cell_type": "markdown",
   "metadata": {
    "deletable": true,
    "editable": true
   },
   "source": [
    "Vemos que por default date_range genera datos diarios, también podemos pasarle el argumento 'periods' y la fecha de comienzo 'start' para generar los datos"
   ]
  },
  {
   "cell_type": "code",
   "execution_count": 187,
   "metadata": {
    "collapsed": false,
    "deletable": true,
    "editable": true
   },
   "outputs": [
    {
     "data": {
      "text/plain": [
       "DatetimeIndex(['2012-04-01', '2012-04-02', '2012-04-03', '2012-04-04',\n",
       "               '2012-04-05', '2012-04-06', '2012-04-07', '2012-04-08',\n",
       "               '2012-04-09', '2012-04-10', '2012-04-11', '2012-04-12',\n",
       "               '2012-04-13', '2012-04-14', '2012-04-15', '2012-04-16',\n",
       "               '2012-04-17', '2012-04-18', '2012-04-19', '2012-04-20'],\n",
       "              dtype='datetime64[ns]', freq='D')"
      ]
     },
     "execution_count": 187,
     "metadata": {},
     "output_type": "execute_result"
    }
   ],
   "source": [
    "pd.date_range(start='2012-04-01',periods=20)"
   ]
  },
  {
   "cell_type": "markdown",
   "metadata": {
    "deletable": true,
    "editable": true
   },
   "source": [
    "Si queremos obtener sólo el último día de trabajo de cada mes podemos utilizar el argumento 'freq' con 'BM'"
   ]
  },
  {
   "cell_type": "code",
   "execution_count": 188,
   "metadata": {
    "collapsed": false,
    "deletable": true,
    "editable": true
   },
   "outputs": [
    {
     "data": {
      "text/plain": [
       "DatetimeIndex(['2000-01-31', '2000-02-29', '2000-03-31', '2000-04-28',\n",
       "               '2000-05-31', '2000-06-30', '2000-07-31', '2000-08-31',\n",
       "               '2000-09-29', '2000-10-31', '2000-11-30'],\n",
       "              dtype='datetime64[ns]', freq='BM')"
      ]
     },
     "execution_count": 188,
     "metadata": {},
     "output_type": "execute_result"
    }
   ],
   "source": [
    "pd.date_range('2000-01-01','2000-12-01',freq='BM')"
   ]
  },
  {
   "cell_type": "code",
   "execution_count": 189,
   "metadata": {
    "collapsed": false,
    "deletable": true,
    "editable": true
   },
   "outputs": [
    {
     "data": {
      "text/html": [
       "<h4> Bases frecuencias date_range </h4>\n",
       "<table>\n",
       "    <tr>\n",
       "        <td><b>Alias</b></td> <td><b>Tipo de Dato</b></td> <td><b>Descripción</b></td>\n",
       "    </tr>\n",
       "    <tr>\n",
       "        <td>D</td> <td>Day</td> <td>Días Calendario</td>\n",
       "    </tr>\n",
       "    <tr>\n",
       "        <td>B</td> <td>BusinessDay</td> <td>Días laborales</td>\n",
       "    </tr>\n",
       "    <tr>\n",
       "        <td>H</td> <td>Hour</td> <td>Cada hora</td>\n",
       "    </tr>\n",
       "    <tr>\n",
       "        <td>min</td> <td>Minute</td> <td>Cada minuto</td>\n",
       "    </tr>\n",
       "    <tr>\n",
       "        <td>S</td> <td>Second</td> <td>Cada segundo</td>\n",
       "    </tr>\n",
       "    <tr>\n",
       "        <td>M</td> <td>MonthEnd</td> <td>Último día calendario del mes</td>\n",
       "    </tr>\n",
       "    <tr>\n",
       "        <td>BM</td> <td>BusinessMonthEnd</td> <td>Último día laboral del mes</td>\n",
       "    </tr>\n",
       "    <tr>\n",
       "        <td>MS</td> <td>MonthBegin</td> <td>Primer día calendario del mes</td>\n",
       "    </tr>\n",
       "    <tr>\n",
       "        <td>BMS</td> <td>BusinessMonthBegin</td> <td>Primer día laboral del mes</td>\n",
       "    </tr>\n",
       "    <tr>\n",
       "        <td>W-MON, W-TUE, ...</td> <td>Week</td> <td>Cada semana en cierto día de la semana</td>\n",
       "    </tr>\n",
       "    <tr>\n",
       "        <td>WOM-1MON</td> <td>WeekOfMont</td> <td>Genera datos semanales en la primera, segunda, tercera o cuarta semana del mes (Ej. WOM-3FRI para el tercer viernes de cada mes</td>\n",
       "    </tr>\n",
       "    <tr>\n",
       "        <td>Q-JAN, Q-FEB, ...</td> <td>QuarterEnd</td> <td>Cada trimestre en el último día calendario de cada mes para el año terminando en el mes indicado</td>\n",
       "    </tr>\n",
       "    <tr>\n",
       "        <td>A-JAN, A-FEB, ....</td> <td>YearEnd</td> <td>Cada año en el último día calendario del mes indicado</td>\n",
       "    </tr>\n",
       "</table>"
      ],
      "text/plain": [
       "<IPython.core.display.HTML object>"
      ]
     },
     "metadata": {},
     "output_type": "display_data"
    }
   ],
   "source": [
    "%%html\n",
    "<h4> Bases frecuencias date_range </h4>\n",
    "<table>\n",
    "    <tr>\n",
    "        <td><b>Alias</b></td> <td><b>Tipo de Dato</b></td> <td><b>Descripción</b></td>\n",
    "    </tr>\n",
    "    <tr>\n",
    "        <td>D</td> <td>Day</td> <td>Días Calendario</td>\n",
    "    </tr>\n",
    "    <tr>\n",
    "        <td>B</td> <td>BusinessDay</td> <td>Días laborales</td>\n",
    "    </tr>\n",
    "    <tr>\n",
    "        <td>H</td> <td>Hour</td> <td>Cada hora</td>\n",
    "    </tr>\n",
    "    <tr>\n",
    "        <td>min</td> <td>Minute</td> <td>Cada minuto</td>\n",
    "    </tr>\n",
    "    <tr>\n",
    "        <td>S</td> <td>Second</td> <td>Cada segundo</td>\n",
    "    </tr>\n",
    "    <tr>\n",
    "        <td>M</td> <td>MonthEnd</td> <td>Último día calendario del mes</td>\n",
    "    </tr>\n",
    "    <tr>\n",
    "        <td>BM</td> <td>BusinessMonthEnd</td> <td>Último día laboral del mes</td>\n",
    "    </tr>\n",
    "    <tr>\n",
    "        <td>MS</td> <td>MonthBegin</td> <td>Primer día calendario del mes</td>\n",
    "    </tr>\n",
    "    <tr>\n",
    "        <td>BMS</td> <td>BusinessMonthBegin</td> <td>Primer día laboral del mes</td>\n",
    "    </tr>\n",
    "    <tr>\n",
    "        <td>W-MON, W-TUE, ...</td> <td>Week</td> <td>Cada semana en cierto día de la semana</td>\n",
    "    </tr>\n",
    "    <tr>\n",
    "        <td>WOM-1MON</td> <td>WeekOfMont</td> <td>Genera datos semanales en la primera, segunda, tercera o cuarta semana del mes (Ej. WOM-3FRI para el tercer viernes de cada mes</td>\n",
    "    </tr>\n",
    "    <tr>\n",
    "        <td>Q-JAN, Q-FEB, ...</td> <td>QuarterEnd</td> <td>Cada trimestre en el último día calendario de cada mes para el año terminando en el mes indicado</td>\n",
    "    </tr>\n",
    "    <tr>\n",
    "        <td>A-JAN, A-FEB, ....</td> <td>YearEnd</td> <td>Cada año en el último día calendario del mes indicado</td>\n",
    "    </tr>\n",
    "</table>"
   ]
  },
  {
   "cell_type": "markdown",
   "metadata": {
    "deletable": true,
    "editable": true
   },
   "source": [
    "### Shifting Series de Tiempo"
   ]
  },
  {
   "cell_type": "code",
   "execution_count": 81,
   "metadata": {
    "collapsed": false,
    "deletable": true,
    "editable": true
   },
   "outputs": [
    {
     "data": {
      "text/plain": [
       "2000-01-31    4\n",
       "2000-02-29    5\n",
       "2000-03-31    1\n",
       "2000-04-30    5\n",
       "Freq: M, dtype: int64"
      ]
     },
     "execution_count": 81,
     "metadata": {},
     "output_type": "execute_result"
    }
   ],
   "source": [
    "ts = pd.Series(np.random.randint(1,10,4), \n",
    "               index=pd.date_range('1/1/2000',periods=4,freq='M'))\n",
    "ts"
   ]
  },
  {
   "cell_type": "code",
   "execution_count": 82,
   "metadata": {
    "collapsed": false,
    "deletable": true,
    "editable": true
   },
   "outputs": [
    {
     "data": {
      "text/plain": [
       "2000-01-31    NaN\n",
       "2000-02-29    NaN\n",
       "2000-03-31    4.0\n",
       "2000-04-30    5.0\n",
       "Freq: M, dtype: float64"
      ]
     },
     "execution_count": 82,
     "metadata": {},
     "output_type": "execute_result"
    }
   ],
   "source": [
    "ts.shift(2)"
   ]
  },
  {
   "cell_type": "code",
   "execution_count": 83,
   "metadata": {
    "collapsed": false,
    "deletable": true,
    "editable": true
   },
   "outputs": [
    {
     "data": {
      "text/plain": [
       "2000-01-31    1.0\n",
       "2000-02-29    5.0\n",
       "2000-03-31    NaN\n",
       "2000-04-30    NaN\n",
       "Freq: M, dtype: float64"
      ]
     },
     "execution_count": 83,
     "metadata": {},
     "output_type": "execute_result"
    }
   ],
   "source": [
    "ts.shift(-2)"
   ]
  },
  {
   "cell_type": "markdown",
   "metadata": {
    "deletable": true,
    "editable": true
   },
   "source": [
    "Un uso común de shift es calcular cambios porcentuales de series de tiempo"
   ]
  },
  {
   "cell_type": "code",
   "execution_count": 84,
   "metadata": {
    "collapsed": false,
    "deletable": true,
    "editable": true
   },
   "outputs": [
    {
     "data": {
      "text/plain": [
       "2000-01-31     NaN\n",
       "2000-02-29    0.25\n",
       "2000-03-31   -0.80\n",
       "2000-04-30    4.00\n",
       "Freq: M, dtype: float64"
      ]
     },
     "execution_count": 84,
     "metadata": {},
     "output_type": "execute_result"
    }
   ],
   "source": [
    "ts / ts.shift(1) -1"
   ]
  },
  {
   "cell_type": "markdown",
   "metadata": {
    "deletable": true,
    "editable": true
   },
   "source": [
    "Si pasamos el argumento 'freq' entonces dejamos de perder los datos en el shift"
   ]
  },
  {
   "cell_type": "code",
   "execution_count": 85,
   "metadata": {
    "collapsed": false,
    "deletable": true,
    "editable": true
   },
   "outputs": [
    {
     "data": {
      "text/plain": [
       "2000-03-31    4\n",
       "2000-04-30    5\n",
       "2000-05-31    1\n",
       "2000-06-30    5\n",
       "Freq: M, dtype: int64"
      ]
     },
     "execution_count": 85,
     "metadata": {},
     "output_type": "execute_result"
    }
   ],
   "source": [
    "ts.shift(2,freq=\"M\")"
   ]
  },
  {
   "cell_type": "code",
   "execution_count": 86,
   "metadata": {
    "collapsed": false,
    "deletable": true,
    "editable": true
   },
   "outputs": [
    {
     "data": {
      "text/plain": [
       "2000-02-03    4\n",
       "2000-03-03    5\n",
       "2000-04-03    1\n",
       "2000-05-03    5\n",
       "dtype: int64"
      ]
     },
     "execution_count": 86,
     "metadata": {},
     "output_type": "execute_result"
    }
   ],
   "source": [
    "ts.shift(3,freq=\"D\")"
   ]
  },
  {
   "cell_type": "markdown",
   "metadata": {
    "deletable": true,
    "editable": true
   },
   "source": [
    "### Periodos y aritmética de periodos"
   ]
  },
  {
   "cell_type": "code",
   "execution_count": 87,
   "metadata": {
    "collapsed": false,
    "deletable": true,
    "editable": true
   },
   "outputs": [
    {
     "data": {
      "text/plain": [
       "Period('2007', 'A-DEC')"
      ]
     },
     "execution_count": 87,
     "metadata": {},
     "output_type": "execute_result"
    }
   ],
   "source": [
    "p = pd.Period(2007,freq='A-DEC')\n",
    "p"
   ]
  },
  {
   "cell_type": "markdown",
   "metadata": {
    "deletable": true,
    "editable": true
   },
   "source": [
    "En este caso Period representa el año completo desde 1º de enero de 2017 hasta el 31 de diciembre de 2017"
   ]
  },
  {
   "cell_type": "markdown",
   "metadata": {
    "deletable": true,
    "editable": true
   },
   "source": [
    "Podemos entonces convenientemente modificar este objeto por su frequencia"
   ]
  },
  {
   "cell_type": "code",
   "execution_count": 88,
   "metadata": {
    "collapsed": false,
    "deletable": true,
    "editable": true
   },
   "outputs": [
    {
     "data": {
      "text/plain": [
       "Period('2012', 'A-DEC')"
      ]
     },
     "execution_count": 88,
     "metadata": {},
     "output_type": "execute_result"
    }
   ],
   "source": [
    "p+5"
   ]
  },
  {
   "cell_type": "code",
   "execution_count": 89,
   "metadata": {
    "collapsed": false,
    "deletable": true,
    "editable": true
   },
   "outputs": [
    {
     "data": {
      "text/plain": [
       "Period('2005', 'A-DEC')"
      ]
     },
     "execution_count": 89,
     "metadata": {},
     "output_type": "execute_result"
    }
   ],
   "source": [
    "p -2"
   ]
  },
  {
   "cell_type": "markdown",
   "metadata": {
    "deletable": true,
    "editable": true
   },
   "source": [
    "Para dos periodos con la misma frequencia, la diferencia es el número de unidades entre ellos"
   ]
  },
  {
   "cell_type": "code",
   "execution_count": 91,
   "metadata": {
    "collapsed": false,
    "deletable": true,
    "editable": true
   },
   "outputs": [
    {
     "data": {
      "text/plain": [
       "7"
      ]
     },
     "execution_count": 91,
     "metadata": {},
     "output_type": "execute_result"
    }
   ],
   "source": [
    "pd.Period('2014',freq='A-DEC') -p"
   ]
  },
  {
   "cell_type": "markdown",
   "metadata": {
    "deletable": true,
    "editable": true
   },
   "source": [
    "Se pueden generar rangos de periodos con la función period_range"
   ]
  },
  {
   "cell_type": "code",
   "execution_count": 93,
   "metadata": {
    "collapsed": false,
    "deletable": true,
    "editable": true
   },
   "outputs": [
    {
     "data": {
      "text/plain": [
       "PeriodIndex(['2000-01', '2000-02', '2000-03', '2000-04', '2000-05', '2000-06'], dtype='period[M]', freq='M')"
      ]
     },
     "execution_count": 93,
     "metadata": {},
     "output_type": "execute_result"
    }
   ],
   "source": [
    "rng = pd.period_range('2000-01-01','2000-06-30',freq='M')\n",
    "rng"
   ]
  },
  {
   "cell_type": "code",
   "execution_count": 94,
   "metadata": {
    "collapsed": false,
    "deletable": true,
    "editable": true
   },
   "outputs": [
    {
     "data": {
      "text/plain": [
       "2000-01   -1.724089\n",
       "2000-02   -0.617069\n",
       "2000-03    0.373127\n",
       "2000-04   -0.313610\n",
       "2000-05   -0.174441\n",
       "2000-06    0.874845\n",
       "Freq: M, dtype: float64"
      ]
     },
     "execution_count": 94,
     "metadata": {},
     "output_type": "execute_result"
    }
   ],
   "source": [
    "pd.Series(np.random.randn(6),index=rng)"
   ]
  },
  {
   "cell_type": "markdown",
   "metadata": {
    "deletable": true,
    "editable": true
   },
   "source": [
    "Si tenemos un arreglo de strings, podemos usar sin problema la clase PeriodIndezx para generarlo"
   ]
  },
  {
   "cell_type": "code",
   "execution_count": 96,
   "metadata": {
    "collapsed": true,
    "deletable": true,
    "editable": true
   },
   "outputs": [],
   "source": [
    "values = ['2001Q3', '2002Q2', '2003Q1']"
   ]
  },
  {
   "cell_type": "code",
   "execution_count": 97,
   "metadata": {
    "collapsed": false,
    "deletable": true,
    "editable": true
   },
   "outputs": [
    {
     "data": {
      "text/plain": [
       "PeriodIndex(['2001Q3', '2002Q2', '2003Q1'], dtype='period[Q-DEC]', freq='Q-DEC')"
      ]
     },
     "execution_count": 97,
     "metadata": {},
     "output_type": "execute_result"
    }
   ],
   "source": [
    "index =  pd.PeriodIndex(values, freq='Q-DEC')\n",
    "index"
   ]
  },
  {
   "cell_type": "markdown",
   "metadata": {
    "deletable": true,
    "editable": true
   },
   "source": [
    "Podemos transformar la frecuencia de un periodo utilizando el método asfreq"
   ]
  },
  {
   "cell_type": "code",
   "execution_count": 98,
   "metadata": {
    "collapsed": false,
    "deletable": true,
    "editable": true
   },
   "outputs": [
    {
     "data": {
      "text/plain": [
       "Period('2007', 'A-DEC')"
      ]
     },
     "execution_count": 98,
     "metadata": {},
     "output_type": "execute_result"
    }
   ],
   "source": [
    "p = pd.Period('2007', freq='A-DEC')\n",
    "p"
   ]
  },
  {
   "cell_type": "code",
   "execution_count": 99,
   "metadata": {
    "collapsed": false,
    "deletable": true,
    "editable": true
   },
   "outputs": [
    {
     "data": {
      "text/plain": [
       "Period('2007-01', 'M')"
      ]
     },
     "execution_count": 99,
     "metadata": {},
     "output_type": "execute_result"
    }
   ],
   "source": [
    "p.asfreq('M',how='start')"
   ]
  },
  {
   "cell_type": "code",
   "execution_count": 100,
   "metadata": {
    "collapsed": false,
    "deletable": true,
    "editable": true
   },
   "outputs": [
    {
     "data": {
      "text/plain": [
       "Period('2007-12', 'M')"
      ]
     },
     "execution_count": 100,
     "metadata": {},
     "output_type": "execute_result"
    }
   ],
   "source": [
    "p.asfreq('M',how='end')"
   ]
  },
  {
   "cell_type": "markdown",
   "metadata": {
    "deletable": true,
    "editable": true
   },
   "source": [
    "La misma operación podemos hacer con una serie de pandas"
   ]
  },
  {
   "cell_type": "code",
   "execution_count": 101,
   "metadata": {
    "collapsed": true,
    "deletable": true,
    "editable": true
   },
   "outputs": [],
   "source": [
    "rng = pd.period_range('2006', '2009', freq='A-DEC')"
   ]
  },
  {
   "cell_type": "code",
   "execution_count": 102,
   "metadata": {
    "collapsed": false,
    "deletable": true,
    "editable": true
   },
   "outputs": [
    {
     "data": {
      "text/plain": [
       "2006   -0.878989\n",
       "2007   -0.046284\n",
       "2008   -1.529993\n",
       "2009    1.006633\n",
       "Freq: A-DEC, dtype: float64"
      ]
     },
     "execution_count": 102,
     "metadata": {},
     "output_type": "execute_result"
    }
   ],
   "source": [
    "ts = pd.Series(np.random.randn(len(rng)), index=rng)\n",
    "ts"
   ]
  },
  {
   "cell_type": "code",
   "execution_count": 103,
   "metadata": {
    "collapsed": false,
    "deletable": true,
    "editable": true
   },
   "outputs": [
    {
     "data": {
      "text/plain": [
       "2006-01   -0.878989\n",
       "2007-01   -0.046284\n",
       "2008-01   -1.529993\n",
       "2009-01    1.006633\n",
       "Freq: M, dtype: float64"
      ]
     },
     "execution_count": 103,
     "metadata": {},
     "output_type": "execute_result"
    }
   ],
   "source": [
    "ts.asfreq('M', how='start')"
   ]
  },
  {
   "cell_type": "code",
   "execution_count": 104,
   "metadata": {
    "collapsed": false,
    "deletable": true,
    "editable": true
   },
   "outputs": [
    {
     "data": {
      "text/plain": [
       "2006-12-29   -0.878989\n",
       "2007-12-31   -0.046284\n",
       "2008-12-31   -1.529993\n",
       "2009-12-31    1.006633\n",
       "Freq: B, dtype: float64"
      ]
     },
     "execution_count": 104,
     "metadata": {},
     "output_type": "execute_result"
    }
   ],
   "source": [
    "ts.asfreq('B', how='end')"
   ]
  },
  {
   "cell_type": "markdown",
   "metadata": {
    "deletable": true,
    "editable": true
   },
   "source": [
    "### Convirtiendo timestamps en Periodos (y al revés)"
   ]
  },
  {
   "cell_type": "code",
   "execution_count": 105,
   "metadata": {
    "collapsed": true,
    "deletable": true,
    "editable": true
   },
   "outputs": [],
   "source": [
    "rng = pd.date_range('2000-01-01', periods=3, freq='M')"
   ]
  },
  {
   "cell_type": "code",
   "execution_count": 106,
   "metadata": {
    "collapsed": false,
    "deletable": true,
    "editable": true
   },
   "outputs": [
    {
     "data": {
      "text/plain": [
       "2000-01-31   -0.658264\n",
       "2000-02-29   -0.869466\n",
       "2000-03-31   -0.162146\n",
       "Freq: M, dtype: float64"
      ]
     },
     "execution_count": 106,
     "metadata": {},
     "output_type": "execute_result"
    }
   ],
   "source": [
    "ts = pd.Series(np.random.randn(3), index=rng)\n",
    "ts"
   ]
  },
  {
   "cell_type": "code",
   "execution_count": 108,
   "metadata": {
    "collapsed": false,
    "deletable": true,
    "editable": true
   },
   "outputs": [
    {
     "data": {
      "text/plain": [
       "2000-01   -0.658264\n",
       "2000-02   -0.869466\n",
       "2000-03   -0.162146\n",
       "Freq: M, dtype: float64"
      ]
     },
     "execution_count": 108,
     "metadata": {},
     "output_type": "execute_result"
    }
   ],
   "source": [
    "pts = ts.to_period()\n",
    "pts"
   ]
  },
  {
   "cell_type": "markdown",
   "metadata": {
    "deletable": true,
    "editable": true
   },
   "source": [
    "Como los periodos siempre se refieren a periodos de tiempo que no se cruzan, entonces cada timestamp pertenece siempre a un sólo periodo dada una frecuencia. Veamos otro ejemplo"
   ]
  },
  {
   "cell_type": "code",
   "execution_count": 109,
   "metadata": {
    "collapsed": true,
    "deletable": true,
    "editable": true
   },
   "outputs": [],
   "source": [
    "rng = pd.date_range('1/29/2000', periods=6, freq='D')"
   ]
  },
  {
   "cell_type": "code",
   "execution_count": 111,
   "metadata": {
    "collapsed": false,
    "deletable": true,
    "editable": true
   },
   "outputs": [
    {
     "data": {
      "text/plain": [
       "2000-01-29    0.066898\n",
       "2000-01-30   -0.598216\n",
       "2000-01-31    0.558223\n",
       "2000-02-01    2.529553\n",
       "2000-02-02    1.155174\n",
       "2000-02-03    0.752012\n",
       "Freq: D, dtype: float64"
      ]
     },
     "execution_count": 111,
     "metadata": {},
     "output_type": "execute_result"
    }
   ],
   "source": [
    "ts2 = pd.Series(np.random.randn(6), index=rng)\n",
    "ts2"
   ]
  },
  {
   "cell_type": "code",
   "execution_count": 112,
   "metadata": {
    "collapsed": false,
    "deletable": true,
    "editable": true
   },
   "outputs": [
    {
     "data": {
      "text/plain": [
       "2000-01    0.066898\n",
       "2000-01   -0.598216\n",
       "2000-01    0.558223\n",
       "2000-02    2.529553\n",
       "2000-02    1.155174\n",
       "2000-02    0.752012\n",
       "Freq: M, dtype: float64"
      ]
     },
     "execution_count": 112,
     "metadata": {},
     "output_type": "execute_result"
    }
   ],
   "source": [
    "ts2.to_period('M')"
   ]
  },
  {
   "cell_type": "markdown",
   "metadata": {
    "deletable": true,
    "editable": true
   },
   "source": [
    "Para regresar de nuevo a timestamps se utiliza el método to_timestamp"
   ]
  },
  {
   "cell_type": "code",
   "execution_count": 118,
   "metadata": {
    "collapsed": false,
    "deletable": true,
    "editable": true
   },
   "outputs": [
    {
     "data": {
      "text/plain": [
       "2000-01-29    0.066898\n",
       "2000-01-30   -0.598216\n",
       "2000-01-31    0.558223\n",
       "2000-02-01    2.529553\n",
       "2000-02-02    1.155174\n",
       "2000-02-03    0.752012\n",
       "Freq: D, dtype: float64"
      ]
     },
     "execution_count": 118,
     "metadata": {},
     "output_type": "execute_result"
    }
   ],
   "source": [
    "pts = ts2.to_period()\n",
    "pts"
   ]
  },
  {
   "cell_type": "code",
   "execution_count": 119,
   "metadata": {
    "collapsed": false,
    "deletable": true,
    "editable": true
   },
   "outputs": [
    {
     "data": {
      "text/plain": [
       "2000-01-29    0.066898\n",
       "2000-01-30   -0.598216\n",
       "2000-01-31    0.558223\n",
       "2000-02-01    2.529553\n",
       "2000-02-02    1.155174\n",
       "2000-02-03    0.752012\n",
       "Freq: D, dtype: float64"
      ]
     },
     "execution_count": 119,
     "metadata": {},
     "output_type": "execute_result"
    }
   ],
   "source": [
    "pts.to_timestamp(how='end')"
   ]
  },
  {
   "cell_type": "markdown",
   "metadata": {
    "deletable": true,
    "editable": true
   },
   "source": [
    "### Resampling y conversión de frecuencias "
   ]
  },
  {
   "cell_type": "markdown",
   "metadata": {
    "deletable": true,
    "editable": true
   },
   "source": [
    "**Resampling** se refiere al proceso de convertir una serie de tiempo de una frecuencia a otra. Agregar una serie de más alta frecuenca a una serie de baja frecuencia se llama *downsampling*, mientras que convertir una serie de más baja frecuencia a una serie de alta frencuencia se llama *upsampling*"
   ]
  },
  {
   "cell_type": "markdown",
   "metadata": {
    "deletable": true,
    "editable": true
   },
   "source": [
    "Del mismo modo que funciona groupby, tu llamas primero el método resample y después la medida de agregación que quieres utilizar"
   ]
  },
  {
   "cell_type": "code",
   "execution_count": 120,
   "metadata": {
    "collapsed": true,
    "deletable": true,
    "editable": true
   },
   "outputs": [],
   "source": [
    "rng = pd.date_range('2000-01-01', periods=100, freq='D')"
   ]
  },
  {
   "cell_type": "code",
   "execution_count": 121,
   "metadata": {
    "collapsed": true,
    "deletable": true,
    "editable": true
   },
   "outputs": [
    {
     "data": {
      "text/plain": [
       "2000-01-01   -0.117390\n",
       "2000-01-02   -0.298963\n",
       "2000-01-03    1.175240\n",
       "2000-01-04    0.042609\n",
       "2000-01-05    0.229503\n",
       "2000-01-06    0.341104\n",
       "2000-01-07    1.387376\n",
       "2000-01-08    1.759029\n",
       "2000-01-09   -0.781555\n",
       "2000-01-10    1.918021\n",
       "2000-01-11   -0.468963\n",
       "2000-01-12    0.869413\n",
       "2000-01-13    0.151096\n",
       "2000-01-14    0.067428\n",
       "2000-01-15   -1.946418\n",
       "2000-01-16   -0.264381\n",
       "2000-01-17    0.677319\n",
       "2000-01-18   -0.518318\n",
       "2000-01-19   -1.324571\n",
       "2000-01-20    0.836496\n",
       "2000-01-21    0.532353\n",
       "2000-01-22    0.296363\n",
       "2000-01-23   -1.866386\n",
       "2000-01-24   -1.575752\n",
       "2000-01-25   -0.332869\n",
       "2000-01-26   -0.206070\n",
       "2000-01-27    0.218355\n",
       "2000-01-28   -0.230340\n",
       "2000-01-29    0.755842\n",
       "2000-01-30    1.229982\n",
       "                ...   \n",
       "2000-03-11    0.454139\n",
       "2000-03-12    1.196218\n",
       "2000-03-13   -0.543403\n",
       "2000-03-14    0.660247\n",
       "2000-03-15    0.322940\n",
       "2000-03-16    1.626937\n",
       "2000-03-17   -0.057225\n",
       "2000-03-18    0.905796\n",
       "2000-03-19   -0.928647\n",
       "2000-03-20    0.036531\n",
       "2000-03-21   -0.322313\n",
       "2000-03-22    0.662662\n",
       "2000-03-23    0.321015\n",
       "2000-03-24    0.064208\n",
       "2000-03-25   -1.056981\n",
       "2000-03-26    0.156098\n",
       "2000-03-27   -0.336548\n",
       "2000-03-28   -1.087144\n",
       "2000-03-29    1.521736\n",
       "2000-03-30   -0.535864\n",
       "2000-03-31   -0.697158\n",
       "2000-04-01    1.534798\n",
       "2000-04-02    2.237104\n",
       "2000-04-03   -0.502784\n",
       "2000-04-04   -0.608365\n",
       "2000-04-05   -0.502584\n",
       "2000-04-06    1.899471\n",
       "2000-04-07    0.847570\n",
       "2000-04-08    0.170679\n",
       "2000-04-09   -1.725335\n",
       "Freq: D, dtype: float64"
      ]
     },
     "execution_count": 121,
     "metadata": {},
     "output_type": "execute_result"
    }
   ],
   "source": [
    "ts = pd.Series(np.random.randn(len(rng)), index=rng)\n",
    "ts"
   ]
  },
  {
   "cell_type": "code",
   "execution_count": 122,
   "metadata": {
    "collapsed": false,
    "deletable": true,
    "editable": true
   },
   "outputs": [
    {
     "data": {
      "text/plain": [
       "2000-01-31    0.064373\n",
       "2000-02-29   -0.241875\n",
       "2000-03-31    0.213399\n",
       "2000-04-30    0.372284\n",
       "Freq: M, dtype: float64"
      ]
     },
     "execution_count": 122,
     "metadata": {},
     "output_type": "execute_result"
    }
   ],
   "source": [
    " ts.resample('M').mean()"
   ]
  },
  {
   "cell_type": "code",
   "execution_count": 123,
   "metadata": {
    "collapsed": false,
    "deletable": true,
    "editable": true
   },
   "outputs": [
    {
     "data": {
      "text/plain": [
       "2000-01    0.064373\n",
       "2000-02   -0.241875\n",
       "2000-03    0.213399\n",
       "2000-04    0.372284\n",
       "Freq: M, dtype: float64"
      ]
     },
     "execution_count": 123,
     "metadata": {},
     "output_type": "execute_result"
    }
   ],
   "source": [
    "ts.resample('M', kind='period').mean()"
   ]
  },
  {
   "cell_type": "markdown",
   "metadata": {
    "deletable": true,
    "editable": true
   },
   "source": [
    "Para hacer *downsampling* hay dos cosas en las que nos debemos de fijar:\n",
    "<ol> \n",
    "<li> Donde cierra el intervalo </li>\n",
    "<li> Cómo llamar a cada intervalo de agregación (ya sea con el inicio del intervalo o el final)</li>\n",
    "</ol>"
   ]
  },
  {
   "cell_type": "markdown",
   "metadata": {
    "deletable": true,
    "editable": true
   },
   "source": [
    "Veamos un ejemplo"
   ]
  },
  {
   "cell_type": "code",
   "execution_count": 124,
   "metadata": {
    "collapsed": true,
    "deletable": true,
    "editable": true
   },
   "outputs": [],
   "source": [
    "rng = pd.date_range('2000-01-01', periods=12, freq='T')"
   ]
  },
  {
   "cell_type": "code",
   "execution_count": 125,
   "metadata": {
    "collapsed": true,
    "deletable": true,
    "editable": true
   },
   "outputs": [
    {
     "data": {
      "text/plain": [
       "2000-01-01 00:00:00     0\n",
       "2000-01-01 00:01:00     1\n",
       "2000-01-01 00:02:00     2\n",
       "2000-01-01 00:03:00     3\n",
       "2000-01-01 00:04:00     4\n",
       "2000-01-01 00:05:00     5\n",
       "2000-01-01 00:06:00     6\n",
       "2000-01-01 00:07:00     7\n",
       "2000-01-01 00:08:00     8\n",
       "2000-01-01 00:09:00     9\n",
       "2000-01-01 00:10:00    10\n",
       "2000-01-01 00:11:00    11\n",
       "Freq: T, dtype: int64"
      ]
     },
     "execution_count": 125,
     "metadata": {},
     "output_type": "execute_result"
    }
   ],
   "source": [
    "ts = pd.Series(np.arange(12), index=rng)\n",
    "ts"
   ]
  },
  {
   "cell_type": "markdown",
   "metadata": {
    "deletable": true,
    "editable": true
   },
   "source": [
    "Supongamos que quieres agregar estos datos en grupos de 5 minutos tomando la suma de cada grupo"
   ]
  },
  {
   "cell_type": "code",
   "execution_count": 126,
   "metadata": {
    "collapsed": false,
    "deletable": true,
    "editable": true
   },
   "outputs": [
    {
     "data": {
      "text/plain": [
       "1999-12-31 23:55:00     0\n",
       "2000-01-01 00:00:00    15\n",
       "2000-01-01 00:05:00    40\n",
       "2000-01-01 00:10:00    11\n",
       "Freq: 5T, dtype: int64"
      ]
     },
     "execution_count": 126,
     "metadata": {},
     "output_type": "execute_result"
    }
   ],
   "source": [
    "ts.resample('5min', closed='right').sum()"
   ]
  },
  {
   "cell_type": "code",
   "execution_count": 127,
   "metadata": {
    "collapsed": false,
    "deletable": true,
    "editable": true
   },
   "outputs": [
    {
     "data": {
      "text/plain": [
       "2000-01-01 00:00:00     0\n",
       "2000-01-01 00:05:00    15\n",
       "2000-01-01 00:10:00    40\n",
       "2000-01-01 00:15:00    11\n",
       "Freq: 5T, dtype: int64"
      ]
     },
     "execution_count": 127,
     "metadata": {},
     "output_type": "execute_result"
    }
   ],
   "source": [
    "ts.resample('5min', closed='right', label='right').sum()"
   ]
  },
  {
   "cell_type": "markdown",
   "metadata": {
    "deletable": true,
    "editable": true
   },
   "source": [
    "Ver este [link](https://www.dropbox.com/s/32jp1r9tovbjpkx/Screenshot%202017-11-03%2023.38.38.png?dl=0)"
   ]
  },
  {
   "cell_type": "markdown",
   "metadata": {
    "deletable": true,
    "editable": true
   },
   "source": [
    "Ahora veamos que para hacer upsampling no necesitamos medida de agregación. Primero, definimos nuestro dataframe"
   ]
  },
  {
   "cell_type": "code",
   "execution_count": 129,
   "metadata": {
    "collapsed": false,
    "deletable": true,
    "editable": true
   },
   "outputs": [
    {
     "data": {
      "text/html": [
       "<div>\n",
       "<table border=\"1\" class=\"dataframe\">\n",
       "  <thead>\n",
       "    <tr style=\"text-align: right;\">\n",
       "      <th></th>\n",
       "      <th>Colorado</th>\n",
       "      <th>Texas</th>\n",
       "      <th>New York</th>\n",
       "      <th>Ohio</th>\n",
       "    </tr>\n",
       "  </thead>\n",
       "  <tbody>\n",
       "    <tr>\n",
       "      <th>2000-01-05</th>\n",
       "      <td>1.54648</td>\n",
       "      <td>0.201085</td>\n",
       "      <td>-0.868298</td>\n",
       "      <td>-0.751121</td>\n",
       "    </tr>\n",
       "    <tr>\n",
       "      <th>2000-01-12</th>\n",
       "      <td>-0.20402</td>\n",
       "      <td>1.363546</td>\n",
       "      <td>-0.417100</td>\n",
       "      <td>2.412191</td>\n",
       "    </tr>\n",
       "  </tbody>\n",
       "</table>\n",
       "</div>"
      ],
      "text/plain": [
       "            Colorado     Texas  New York      Ohio\n",
       "2000-01-05   1.54648  0.201085 -0.868298 -0.751121\n",
       "2000-01-12  -0.20402  1.363546 -0.417100  2.412191"
      ]
     },
     "execution_count": 129,
     "metadata": {},
     "output_type": "execute_result"
    }
   ],
   "source": [
    "frame = pd.DataFrame(np.random.randn(2, 4),\n",
    "                      index=pd.date_range('1/1/2000', periods=2,\n",
    "                                          freq='W-WED'),\n",
    "                      columns=['Colorado', 'Texas', 'New York', 'Ohio'])\n",
    "frame"
   ]
  },
  {
   "cell_type": "code",
   "execution_count": 130,
   "metadata": {
    "collapsed": false,
    "deletable": true,
    "editable": true
   },
   "outputs": [
    {
     "data": {
      "text/html": [
       "<div>\n",
       "<table border=\"1\" class=\"dataframe\">\n",
       "  <thead>\n",
       "    <tr style=\"text-align: right;\">\n",
       "      <th></th>\n",
       "      <th>Colorado</th>\n",
       "      <th>Texas</th>\n",
       "      <th>New York</th>\n",
       "      <th>Ohio</th>\n",
       "    </tr>\n",
       "  </thead>\n",
       "  <tbody>\n",
       "    <tr>\n",
       "      <th>2000-01-05</th>\n",
       "      <td>1.54648</td>\n",
       "      <td>0.201085</td>\n",
       "      <td>-0.868298</td>\n",
       "      <td>-0.751121</td>\n",
       "    </tr>\n",
       "    <tr>\n",
       "      <th>2000-01-06</th>\n",
       "      <td>NaN</td>\n",
       "      <td>NaN</td>\n",
       "      <td>NaN</td>\n",
       "      <td>NaN</td>\n",
       "    </tr>\n",
       "    <tr>\n",
       "      <th>2000-01-07</th>\n",
       "      <td>NaN</td>\n",
       "      <td>NaN</td>\n",
       "      <td>NaN</td>\n",
       "      <td>NaN</td>\n",
       "    </tr>\n",
       "    <tr>\n",
       "      <th>2000-01-08</th>\n",
       "      <td>NaN</td>\n",
       "      <td>NaN</td>\n",
       "      <td>NaN</td>\n",
       "      <td>NaN</td>\n",
       "    </tr>\n",
       "    <tr>\n",
       "      <th>2000-01-09</th>\n",
       "      <td>NaN</td>\n",
       "      <td>NaN</td>\n",
       "      <td>NaN</td>\n",
       "      <td>NaN</td>\n",
       "    </tr>\n",
       "    <tr>\n",
       "      <th>2000-01-10</th>\n",
       "      <td>NaN</td>\n",
       "      <td>NaN</td>\n",
       "      <td>NaN</td>\n",
       "      <td>NaN</td>\n",
       "    </tr>\n",
       "    <tr>\n",
       "      <th>2000-01-11</th>\n",
       "      <td>NaN</td>\n",
       "      <td>NaN</td>\n",
       "      <td>NaN</td>\n",
       "      <td>NaN</td>\n",
       "    </tr>\n",
       "    <tr>\n",
       "      <th>2000-01-12</th>\n",
       "      <td>-0.20402</td>\n",
       "      <td>1.363546</td>\n",
       "      <td>-0.417100</td>\n",
       "      <td>2.412191</td>\n",
       "    </tr>\n",
       "  </tbody>\n",
       "</table>\n",
       "</div>"
      ],
      "text/plain": [
       "            Colorado     Texas  New York      Ohio\n",
       "2000-01-05   1.54648  0.201085 -0.868298 -0.751121\n",
       "2000-01-06       NaN       NaN       NaN       NaN\n",
       "2000-01-07       NaN       NaN       NaN       NaN\n",
       "2000-01-08       NaN       NaN       NaN       NaN\n",
       "2000-01-09       NaN       NaN       NaN       NaN\n",
       "2000-01-10       NaN       NaN       NaN       NaN\n",
       "2000-01-11       NaN       NaN       NaN       NaN\n",
       "2000-01-12  -0.20402  1.363546 -0.417100  2.412191"
      ]
     },
     "execution_count": 130,
     "metadata": {},
     "output_type": "execute_result"
    }
   ],
   "source": [
    "df_daily = frame.resample('D').asfreq()\n",
    "df_daily"
   ]
  },
  {
   "cell_type": "code",
   "execution_count": 131,
   "metadata": {
    "collapsed": false,
    "deletable": true,
    "editable": true
   },
   "outputs": [
    {
     "data": {
      "text/html": [
       "<div>\n",
       "<table border=\"1\" class=\"dataframe\">\n",
       "  <thead>\n",
       "    <tr style=\"text-align: right;\">\n",
       "      <th></th>\n",
       "      <th>Colorado</th>\n",
       "      <th>Texas</th>\n",
       "      <th>New York</th>\n",
       "      <th>Ohio</th>\n",
       "    </tr>\n",
       "  </thead>\n",
       "  <tbody>\n",
       "    <tr>\n",
       "      <th>2000-01-05</th>\n",
       "      <td>1.54648</td>\n",
       "      <td>0.201085</td>\n",
       "      <td>-0.868298</td>\n",
       "      <td>-0.751121</td>\n",
       "    </tr>\n",
       "    <tr>\n",
       "      <th>2000-01-06</th>\n",
       "      <td>1.54648</td>\n",
       "      <td>0.201085</td>\n",
       "      <td>-0.868298</td>\n",
       "      <td>-0.751121</td>\n",
       "    </tr>\n",
       "    <tr>\n",
       "      <th>2000-01-07</th>\n",
       "      <td>1.54648</td>\n",
       "      <td>0.201085</td>\n",
       "      <td>-0.868298</td>\n",
       "      <td>-0.751121</td>\n",
       "    </tr>\n",
       "    <tr>\n",
       "      <th>2000-01-08</th>\n",
       "      <td>1.54648</td>\n",
       "      <td>0.201085</td>\n",
       "      <td>-0.868298</td>\n",
       "      <td>-0.751121</td>\n",
       "    </tr>\n",
       "    <tr>\n",
       "      <th>2000-01-09</th>\n",
       "      <td>1.54648</td>\n",
       "      <td>0.201085</td>\n",
       "      <td>-0.868298</td>\n",
       "      <td>-0.751121</td>\n",
       "    </tr>\n",
       "    <tr>\n",
       "      <th>2000-01-10</th>\n",
       "      <td>1.54648</td>\n",
       "      <td>0.201085</td>\n",
       "      <td>-0.868298</td>\n",
       "      <td>-0.751121</td>\n",
       "    </tr>\n",
       "    <tr>\n",
       "      <th>2000-01-11</th>\n",
       "      <td>1.54648</td>\n",
       "      <td>0.201085</td>\n",
       "      <td>-0.868298</td>\n",
       "      <td>-0.751121</td>\n",
       "    </tr>\n",
       "    <tr>\n",
       "      <th>2000-01-12</th>\n",
       "      <td>-0.20402</td>\n",
       "      <td>1.363546</td>\n",
       "      <td>-0.417100</td>\n",
       "      <td>2.412191</td>\n",
       "    </tr>\n",
       "  </tbody>\n",
       "</table>\n",
       "</div>"
      ],
      "text/plain": [
       "            Colorado     Texas  New York      Ohio\n",
       "2000-01-05   1.54648  0.201085 -0.868298 -0.751121\n",
       "2000-01-06   1.54648  0.201085 -0.868298 -0.751121\n",
       "2000-01-07   1.54648  0.201085 -0.868298 -0.751121\n",
       "2000-01-08   1.54648  0.201085 -0.868298 -0.751121\n",
       "2000-01-09   1.54648  0.201085 -0.868298 -0.751121\n",
       "2000-01-10   1.54648  0.201085 -0.868298 -0.751121\n",
       "2000-01-11   1.54648  0.201085 -0.868298 -0.751121\n",
       "2000-01-12  -0.20402  1.363546 -0.417100  2.412191"
      ]
     },
     "execution_count": 131,
     "metadata": {},
     "output_type": "execute_result"
    }
   ],
   "source": [
    "frame.resample('D').ffill()"
   ]
  },
  {
   "cell_type": "markdown",
   "metadata": {
    "deletable": true,
    "editable": true
   },
   "source": [
    "De la misma manera podemos decidir el número de periodos a llenar"
   ]
  },
  {
   "cell_type": "code",
   "execution_count": 132,
   "metadata": {
    "collapsed": false,
    "deletable": true,
    "editable": true
   },
   "outputs": [
    {
     "data": {
      "text/html": [
       "<div>\n",
       "<table border=\"1\" class=\"dataframe\">\n",
       "  <thead>\n",
       "    <tr style=\"text-align: right;\">\n",
       "      <th></th>\n",
       "      <th>Colorado</th>\n",
       "      <th>Texas</th>\n",
       "      <th>New York</th>\n",
       "      <th>Ohio</th>\n",
       "    </tr>\n",
       "  </thead>\n",
       "  <tbody>\n",
       "    <tr>\n",
       "      <th>2000-01-05</th>\n",
       "      <td>1.54648</td>\n",
       "      <td>0.201085</td>\n",
       "      <td>-0.868298</td>\n",
       "      <td>-0.751121</td>\n",
       "    </tr>\n",
       "    <tr>\n",
       "      <th>2000-01-06</th>\n",
       "      <td>1.54648</td>\n",
       "      <td>0.201085</td>\n",
       "      <td>-0.868298</td>\n",
       "      <td>-0.751121</td>\n",
       "    </tr>\n",
       "    <tr>\n",
       "      <th>2000-01-07</th>\n",
       "      <td>1.54648</td>\n",
       "      <td>0.201085</td>\n",
       "      <td>-0.868298</td>\n",
       "      <td>-0.751121</td>\n",
       "    </tr>\n",
       "    <tr>\n",
       "      <th>2000-01-08</th>\n",
       "      <td>NaN</td>\n",
       "      <td>NaN</td>\n",
       "      <td>NaN</td>\n",
       "      <td>NaN</td>\n",
       "    </tr>\n",
       "    <tr>\n",
       "      <th>2000-01-09</th>\n",
       "      <td>NaN</td>\n",
       "      <td>NaN</td>\n",
       "      <td>NaN</td>\n",
       "      <td>NaN</td>\n",
       "    </tr>\n",
       "    <tr>\n",
       "      <th>2000-01-10</th>\n",
       "      <td>NaN</td>\n",
       "      <td>NaN</td>\n",
       "      <td>NaN</td>\n",
       "      <td>NaN</td>\n",
       "    </tr>\n",
       "    <tr>\n",
       "      <th>2000-01-11</th>\n",
       "      <td>NaN</td>\n",
       "      <td>NaN</td>\n",
       "      <td>NaN</td>\n",
       "      <td>NaN</td>\n",
       "    </tr>\n",
       "    <tr>\n",
       "      <th>2000-01-12</th>\n",
       "      <td>-0.20402</td>\n",
       "      <td>1.363546</td>\n",
       "      <td>-0.417100</td>\n",
       "      <td>2.412191</td>\n",
       "    </tr>\n",
       "  </tbody>\n",
       "</table>\n",
       "</div>"
      ],
      "text/plain": [
       "            Colorado     Texas  New York      Ohio\n",
       "2000-01-05   1.54648  0.201085 -0.868298 -0.751121\n",
       "2000-01-06   1.54648  0.201085 -0.868298 -0.751121\n",
       "2000-01-07   1.54648  0.201085 -0.868298 -0.751121\n",
       "2000-01-08       NaN       NaN       NaN       NaN\n",
       "2000-01-09       NaN       NaN       NaN       NaN\n",
       "2000-01-10       NaN       NaN       NaN       NaN\n",
       "2000-01-11       NaN       NaN       NaN       NaN\n",
       "2000-01-12  -0.20402  1.363546 -0.417100  2.412191"
      ]
     },
     "execution_count": 132,
     "metadata": {},
     "output_type": "execute_result"
    }
   ],
   "source": [
    "frame.resample('D').ffill(limit=2)"
   ]
  },
  {
   "cell_type": "markdown",
   "metadata": {
    "deletable": true,
    "editable": true
   },
   "source": [
    "o un periodo que no tenga overlap con el anterior"
   ]
  },
  {
   "cell_type": "code",
   "execution_count": 133,
   "metadata": {
    "collapsed": false,
    "deletable": true,
    "editable": true
   },
   "outputs": [
    {
     "data": {
      "text/html": [
       "<div>\n",
       "<table border=\"1\" class=\"dataframe\">\n",
       "  <thead>\n",
       "    <tr style=\"text-align: right;\">\n",
       "      <th></th>\n",
       "      <th>Colorado</th>\n",
       "      <th>Texas</th>\n",
       "      <th>New York</th>\n",
       "      <th>Ohio</th>\n",
       "    </tr>\n",
       "  </thead>\n",
       "  <tbody>\n",
       "    <tr>\n",
       "      <th>2000-01-06</th>\n",
       "      <td>1.54648</td>\n",
       "      <td>0.201085</td>\n",
       "      <td>-0.868298</td>\n",
       "      <td>-0.751121</td>\n",
       "    </tr>\n",
       "    <tr>\n",
       "      <th>2000-01-13</th>\n",
       "      <td>-0.20402</td>\n",
       "      <td>1.363546</td>\n",
       "      <td>-0.417100</td>\n",
       "      <td>2.412191</td>\n",
       "    </tr>\n",
       "  </tbody>\n",
       "</table>\n",
       "</div>"
      ],
      "text/plain": [
       "            Colorado     Texas  New York      Ohio\n",
       "2000-01-06   1.54648  0.201085 -0.868298 -0.751121\n",
       "2000-01-13  -0.20402  1.363546 -0.417100  2.412191"
      ]
     },
     "execution_count": 133,
     "metadata": {},
     "output_type": "execute_result"
    }
   ],
   "source": [
    "frame.resample('W-THU').ffill()"
   ]
  },
  {
   "cell_type": "markdown",
   "metadata": {
    "deletable": true,
    "editable": true
   },
   "source": [
    "### Resampling con Periodos"
   ]
  },
  {
   "cell_type": "markdown",
   "metadata": {
    "deletable": true,
    "editable": true
   },
   "source": [
    "Primero definimos el DataFrame"
   ]
  },
  {
   "cell_type": "code",
   "execution_count": 136,
   "metadata": {
    "collapsed": false,
    "deletable": true,
    "editable": true
   },
   "outputs": [
    {
     "data": {
      "text/html": [
       "<div>\n",
       "<table border=\"1\" class=\"dataframe\">\n",
       "  <thead>\n",
       "    <tr style=\"text-align: right;\">\n",
       "      <th></th>\n",
       "      <th>Colorado</th>\n",
       "      <th>Texas</th>\n",
       "      <th>New York</th>\n",
       "      <th>Ohio</th>\n",
       "    </tr>\n",
       "  </thead>\n",
       "  <tbody>\n",
       "    <tr>\n",
       "      <th>2000-01</th>\n",
       "      <td>-0.188508</td>\n",
       "      <td>-1.448430</td>\n",
       "      <td>-1.666069</td>\n",
       "      <td>0.001038</td>\n",
       "    </tr>\n",
       "    <tr>\n",
       "      <th>2000-02</th>\n",
       "      <td>0.980678</td>\n",
       "      <td>-0.468383</td>\n",
       "      <td>0.799029</td>\n",
       "      <td>0.254968</td>\n",
       "    </tr>\n",
       "    <tr>\n",
       "      <th>2000-03</th>\n",
       "      <td>0.199986</td>\n",
       "      <td>-2.085751</td>\n",
       "      <td>-1.074219</td>\n",
       "      <td>-1.277166</td>\n",
       "    </tr>\n",
       "    <tr>\n",
       "      <th>2000-04</th>\n",
       "      <td>1.423189</td>\n",
       "      <td>1.660056</td>\n",
       "      <td>-1.213439</td>\n",
       "      <td>-0.208225</td>\n",
       "    </tr>\n",
       "    <tr>\n",
       "      <th>2000-05</th>\n",
       "      <td>-0.147703</td>\n",
       "      <td>1.480924</td>\n",
       "      <td>0.894544</td>\n",
       "      <td>0.980075</td>\n",
       "    </tr>\n",
       "  </tbody>\n",
       "</table>\n",
       "</div>"
      ],
      "text/plain": [
       "         Colorado     Texas  New York      Ohio\n",
       "2000-01 -0.188508 -1.448430 -1.666069  0.001038\n",
       "2000-02  0.980678 -0.468383  0.799029  0.254968\n",
       "2000-03  0.199986 -2.085751 -1.074219 -1.277166\n",
       "2000-04  1.423189  1.660056 -1.213439 -0.208225\n",
       "2000-05 -0.147703  1.480924  0.894544  0.980075"
      ]
     },
     "execution_count": 136,
     "metadata": {},
     "output_type": "execute_result"
    }
   ],
   "source": [
    "frame = pd.DataFrame(np.random.randn(24, 4),\n",
    "                      index=pd.period_range('1-2000', '12-2001',\n",
    "                                            freq='M'),\n",
    "                      columns=['Colorado', 'Texas', 'New York', 'Ohio'])\n",
    "frame.head()"
   ]
  },
  {
   "cell_type": "markdown",
   "metadata": {
    "deletable": true,
    "editable": true
   },
   "source": [
    "Ahora podemos agregar los años utilizando la media como medida de agregación"
   ]
  },
  {
   "cell_type": "code",
   "execution_count": 137,
   "metadata": {
    "collapsed": false,
    "deletable": true,
    "editable": true
   },
   "outputs": [
    {
     "data": {
      "text/html": [
       "<div>\n",
       "<table border=\"1\" class=\"dataframe\">\n",
       "  <thead>\n",
       "    <tr style=\"text-align: right;\">\n",
       "      <th></th>\n",
       "      <th>Colorado</th>\n",
       "      <th>Texas</th>\n",
       "      <th>New York</th>\n",
       "      <th>Ohio</th>\n",
       "    </tr>\n",
       "  </thead>\n",
       "  <tbody>\n",
       "    <tr>\n",
       "      <th>2000</th>\n",
       "      <td>0.506686</td>\n",
       "      <td>-0.265032</td>\n",
       "      <td>-0.336571</td>\n",
       "      <td>-0.000564</td>\n",
       "    </tr>\n",
       "    <tr>\n",
       "      <th>2001</th>\n",
       "      <td>-0.725463</td>\n",
       "      <td>-0.084245</td>\n",
       "      <td>0.053198</td>\n",
       "      <td>-0.538653</td>\n",
       "    </tr>\n",
       "  </tbody>\n",
       "</table>\n",
       "</div>"
      ],
      "text/plain": [
       "      Colorado     Texas  New York      Ohio\n",
       "2000  0.506686 -0.265032 -0.336571 -0.000564\n",
       "2001 -0.725463 -0.084245  0.053198 -0.538653"
      ]
     },
     "execution_count": 137,
     "metadata": {},
     "output_type": "execute_result"
    }
   ],
   "source": [
    "annual_frame = frame.resample('A-DEC').mean()\n",
    "annual_frame"
   ]
  }
 ],
 "metadata": {
  "kernelspec": {
   "display_name": "Python 3",
   "language": "python",
   "name": "python3"
  },
  "language_info": {
   "codemirror_mode": {
    "name": "ipython",
    "version": 3
   },
   "file_extension": ".py",
   "mimetype": "text/x-python",
   "name": "python",
   "nbconvert_exporter": "python",
   "pygments_lexer": "ipython3",
   "version": "3.5.2"
  }
 },
 "nbformat": 4,
 "nbformat_minor": 2
}
