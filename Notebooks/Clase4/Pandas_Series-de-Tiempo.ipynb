{
 "cells": [
  {
   "cell_type": "markdown",
   "metadata": {
    "deletable": true,
    "editable": true
   },
   "source": [
    "# Series de Tiempo con Pandas"
   ]
  },
  {
   "cell_type": "markdown",
   "metadata": {
    "deletable": true,
    "editable": true
   },
   "source": [
    "Los datos de series de tiempo son importantes en muchos campos, tales como finanzas, economía, física, marketing, etc"
   ]
  },
  {
   "cell_type": "markdown",
   "metadata": {
    "deletable": true,
    "editable": true
   },
   "source": [
    "Las series de tiempo pueden ser de **frequencia fija**, es decir, los datos ocurren a un intervalo regular por ej. datos diarios, semanales, cada minuto, cada 15 segundos, etcétera. \n",
    "Las series de tiempo también pueden ser **frequencia irregular** donde no difieren en una misma unidad de tiempo los datos."
   ]
  },
  {
   "cell_type": "markdown",
   "metadata": {
    "deletable": true,
    "editable": true
   },
   "source": [
    "###  Tipos de datos Date y Time"
   ]
  },
  {
   "cell_type": "code",
   "execution_count": 13,
   "metadata": {
    "collapsed": true,
    "deletable": true,
    "editable": true
   },
   "outputs": [],
   "source": [
    "from datetime import datetime"
   ]
  },
  {
   "cell_type": "code",
   "execution_count": 14,
   "metadata": {
    "collapsed": false,
    "deletable": true,
    "editable": true
   },
   "outputs": [
    {
     "data": {
      "text/plain": [
       "datetime.datetime(2017, 11, 3, 22, 48, 30, 953479)"
      ]
     },
     "execution_count": 14,
     "metadata": {},
     "output_type": "execute_result"
    }
   ],
   "source": [
    "now = datetime.now()\n",
    "now"
   ]
  },
  {
   "cell_type": "code",
   "execution_count": 15,
   "metadata": {
    "collapsed": false,
    "deletable": true,
    "editable": true
   },
   "outputs": [
    {
     "data": {
      "text/plain": [
       "(2017, 11, 3)"
      ]
     },
     "execution_count": 15,
     "metadata": {},
     "output_type": "execute_result"
    }
   ],
   "source": [
    "now.year, now.month, now.day"
   ]
  },
  {
   "cell_type": "markdown",
   "metadata": {
    "deletable": true,
    "editable": true
   },
   "source": [
    "Los objetos del tipo 'datetime' guardan ambos: fecha y hora (hasta microsegundos). "
   ]
  },
  {
   "cell_type": "markdown",
   "metadata": {
    "deletable": true,
    "editable": true
   },
   "source": [
    "Los objetos del tipo 'timedelta' representan diferencias temporales entre dos objetos del tipo datetime"
   ]
  },
  {
   "cell_type": "code",
   "execution_count": 16,
   "metadata": {
    "collapsed": false,
    "deletable": true,
    "editable": true
   },
   "outputs": [
    {
     "data": {
      "text/plain": [
       "datetime.timedelta(-260, 82110, 971130)"
      ]
     },
     "execution_count": 16,
     "metadata": {},
     "output_type": "execute_result"
    }
   ],
   "source": [
    "delta = datetime.now() - datetime(2018,7,21)\n",
    "delta"
   ]
  },
  {
   "cell_type": "markdown",
   "metadata": {
    "deletable": true,
    "editable": true
   },
   "source": [
    "Del mismo modo podemos accesar los días o segundos que restan para un evento"
   ]
  },
  {
   "cell_type": "code",
   "execution_count": 17,
   "metadata": {
    "collapsed": false,
    "deletable": true,
    "editable": true
   },
   "outputs": [
    {
     "data": {
      "text/plain": [
       "-260"
      ]
     },
     "execution_count": 17,
     "metadata": {},
     "output_type": "execute_result"
    }
   ],
   "source": [
    "delta.days"
   ]
  },
  {
   "cell_type": "code",
   "execution_count": 18,
   "metadata": {
    "collapsed": false,
    "deletable": true,
    "editable": true
   },
   "outputs": [
    {
     "data": {
      "text/plain": [
       "82110"
      ]
     },
     "execution_count": 18,
     "metadata": {},
     "output_type": "execute_result"
    }
   ],
   "source": [
    "delta.seconds"
   ]
  },
  {
   "cell_type": "markdown",
   "metadata": {
    "deletable": true,
    "editable": true
   },
   "source": [
    "Se pueden añadir o sustraer uno \"timedelta\" o múltiples \"timedeltas\" a un objeto del tipo \"datetime\""
   ]
  },
  {
   "cell_type": "code",
   "execution_count": 19,
   "metadata": {
    "collapsed": true,
    "deletable": true,
    "editable": true
   },
   "outputs": [],
   "source": [
    "from datetime import timedelta"
   ]
  },
  {
   "cell_type": "code",
   "execution_count": 20,
   "metadata": {
    "collapsed": true,
    "deletable": true,
    "editable": true
   },
   "outputs": [],
   "source": [
    "start = datetime(2011,1,7)"
   ]
  },
  {
   "cell_type": "code",
   "execution_count": 21,
   "metadata": {
    "collapsed": false,
    "deletable": true,
    "editable": true
   },
   "outputs": [
    {
     "data": {
      "text/plain": [
       "datetime.datetime(2011, 1, 21, 0, 0)"
      ]
     },
     "execution_count": 21,
     "metadata": {},
     "output_type": "execute_result"
    }
   ],
   "source": [
    "start + timedelta(14)"
   ]
  },
  {
   "cell_type": "code",
   "execution_count": 22,
   "metadata": {
    "collapsed": false,
    "deletable": true,
    "editable": true
   },
   "outputs": [
    {
     "data": {
      "text/plain": [
       "datetime.datetime(2010, 12, 10, 0, 0)"
      ]
     },
     "execution_count": 22,
     "metadata": {},
     "output_type": "execute_result"
    }
   ],
   "source": [
    "start - 2*timedelta(14)"
   ]
  },
  {
   "cell_type": "markdown",
   "metadata": {
    "deletable": true,
    "editable": true
   },
   "source": [
    "#### Convirtiendo datos entre tipo string y datetime"
   ]
  },
  {
   "cell_type": "code",
   "execution_count": 23,
   "metadata": {
    "collapsed": false,
    "deletable": true,
    "editable": true
   },
   "outputs": [
    {
     "data": {
      "text/plain": [
       "'2011-01-03 00:00:00'"
      ]
     },
     "execution_count": 23,
     "metadata": {},
     "output_type": "execute_result"
    }
   ],
   "source": [
    "stamp = datetime(2011,1,3)\n",
    "str(stamp)"
   ]
  },
  {
   "cell_type": "code",
   "execution_count": 24,
   "metadata": {
    "collapsed": false,
    "deletable": true,
    "editable": true
   },
   "outputs": [
    {
     "data": {
      "text/plain": [
       "'2011-01-03'"
      ]
     },
     "execution_count": 24,
     "metadata": {},
     "output_type": "execute_result"
    }
   ],
   "source": [
    "stamp.strftime('%Y-%m-%d')"
   ]
  },
  {
   "cell_type": "code",
   "execution_count": 25,
   "metadata": {
    "collapsed": false,
    "deletable": true,
    "editable": true
   },
   "outputs": [
    {
     "data": {
      "text/html": [
       "<h4> Formato objetos datetime </h4>\n",
       "<table>\n",
       "    <tr>\n",
       "        <td><b>Símbolo</b></td> <td><b>Descripción</b></td>\n",
       "    </tr>\n",
       "    <tr>\n",
       "        <td>%Y</td> <td>Año de cuatro dígitos</td>\n",
       "    </tr>\n",
       "    <tr>\n",
       "        <td>%y</td> <td>Año de dos dígitos</td>\n",
       "    </tr>\n",
       "    <tr>\n",
       "        <td>%m</td> <td>Mes de dos dígitos</td>\n",
       "    </tr>\n",
       "    <tr>\n",
       "        <td>%d</td> <td>Día de dos dígitos</td>\n",
       "    </tr>\n",
       "    <tr>\n",
       "        <td>%H</td> <td>Hora 24hrs [00,23]</td>\n",
       "    </tr>\n",
       "    <tr>\n",
       "        <td>%I</td> <td>Hora 12hrs [01,12]</td>\n",
       "    </tr>\n",
       "    <tr>\n",
       "        <td>%M</td> <td>Minutos [00,59]</td>\n",
       "    </tr>\n",
       "    <tr>\n",
       "        <td>%S</td> <td>Segundos [00,60]</td>\n",
       "    </tr>\n",
       "    <tr>\n",
       "        <td>%w</td> <td>Día de la semana [0(domingo),6] </td>\n",
       "    </tr>\n",
       "    <tr>\n",
       "        <td>%U</td> <td>Número de semana [00,53] donde domingo es el primer día de la semana (días antes del primer domingo son \"semana 0\")</td>\n",
       "    </tr>\n",
       "    <tr>\n",
       "        <td>%W</td> <td>Número de semana [00,53] donde lunes es el primer día de la semana (días antes del primer lunes son \"semana 0\")</td>\n",
       "    </tr>\n",
       "    <tr>\n",
       "        <td>%F</td> <td>Shortcut para %Y-%m-%d (ej. 2012-4-18) </td>\n",
       "    </tr>\n",
       "    <tr>\n",
       "        <td>%D</td> <td>Shortcut para %m/%d/%y (ej. 04/18/12) </td>\n",
       "    </tr>\n",
       "</table>"
      ],
      "text/plain": [
       "<IPython.core.display.HTML object>"
      ]
     },
     "metadata": {},
     "output_type": "display_data"
    }
   ],
   "source": [
    "%%html\n",
    "<h4> Formato objetos datetime </h4>\n",
    "<table>\n",
    "    <tr>\n",
    "        <td><b>Símbolo</b></td> <td><b>Descripción</b></td>\n",
    "    </tr>\n",
    "    <tr>\n",
    "        <td>%Y</td> <td>Año de cuatro dígitos</td>\n",
    "    </tr>\n",
    "    <tr>\n",
    "        <td>%y</td> <td>Año de dos dígitos</td>\n",
    "    </tr>\n",
    "    <tr>\n",
    "        <td>%m</td> <td>Mes de dos dígitos</td>\n",
    "    </tr>\n",
    "    <tr>\n",
    "        <td>%d</td> <td>Día de dos dígitos</td>\n",
    "    </tr>\n",
    "    <tr>\n",
    "        <td>%H</td> <td>Hora 24hrs [00,23]</td>\n",
    "    </tr>\n",
    "    <tr>\n",
    "        <td>%I</td> <td>Hora 12hrs [01,12]</td>\n",
    "    </tr>\n",
    "    <tr>\n",
    "        <td>%M</td> <td>Minutos [00,59]</td>\n",
    "    </tr>\n",
    "    <tr>\n",
    "        <td>%S</td> <td>Segundos [00,60]</td>\n",
    "    </tr>\n",
    "    <tr>\n",
    "        <td>%w</td> <td>Día de la semana [0(domingo),6] </td>\n",
    "    </tr>\n",
    "    <tr>\n",
    "        <td>%U</td> <td>Número de semana [00,53] donde domingo es el primer día de la semana (días antes del primer domingo son \"semana 0\")</td>\n",
    "    </tr>\n",
    "    <tr>\n",
    "        <td>%W</td> <td>Número de semana [00,53] donde lunes es el primer día de la semana (días antes del primer lunes son \"semana 0\")</td>\n",
    "    </tr>\n",
    "    <tr>\n",
    "        <td>%F</td> <td>Shortcut para %Y-%m-%d (ej. 2012-4-18) </td>\n",
    "    </tr>\n",
    "    <tr>\n",
    "        <td>%D</td> <td>Shortcut para %m/%d/%y (ej. 04/18/12) </td>\n",
    "    </tr>\n",
    "</table>"
   ]
  },
  {
   "cell_type": "markdown",
   "metadata": {
    "deletable": true,
    "editable": true
   },
   "source": [
    "Veamos que podemos convertir string a datetime con el método .strptime():"
   ]
  },
  {
   "cell_type": "code",
   "execution_count": 26,
   "metadata": {
    "collapsed": false,
    "deletable": true,
    "editable": true
   },
   "outputs": [
    {
     "data": {
      "text/plain": [
       "datetime.datetime(2011, 1, 3, 0, 0)"
      ]
     },
     "execution_count": 26,
     "metadata": {},
     "output_type": "execute_result"
    }
   ],
   "source": [
    "value = '2011-01-03'\n",
    "datetime.strptime(value,'%Y-%m-%d')"
   ]
  },
  {
   "cell_type": "markdown",
   "metadata": {
    "deletable": true,
    "editable": true
   },
   "source": [
    "También podemos aplicar list comprehension para transformar estas fechas"
   ]
  },
  {
   "cell_type": "code",
   "execution_count": 27,
   "metadata": {
    "collapsed": true,
    "deletable": true,
    "editable": true
   },
   "outputs": [],
   "source": [
    "date_strings = ['7/6/2011','8/6/2011']"
   ]
  },
  {
   "cell_type": "code",
   "execution_count": 28,
   "metadata": {
    "collapsed": false,
    "deletable": true,
    "editable": true
   },
   "outputs": [
    {
     "data": {
      "text/plain": [
       "[datetime.datetime(2011, 7, 6, 0, 0), datetime.datetime(2011, 8, 6, 0, 0)]"
      ]
     },
     "execution_count": 28,
     "metadata": {},
     "output_type": "execute_result"
    }
   ],
   "source": [
    "[datetime.strptime(x, '%m/%d/%Y') for x in date_strings]"
   ]
  },
  {
   "cell_type": "markdown",
   "metadata": {
    "deletable": true,
    "editable": true
   },
   "source": [
    "Si nos queremos ahorrar tener que pasarle el formato entonces podemos utilizar el método 'parse' del paquete dateutil (automáticamente instalado junto con Pandas)"
   ]
  },
  {
   "cell_type": "code",
   "execution_count": 29,
   "metadata": {
    "collapsed": true,
    "deletable": true,
    "editable": true
   },
   "outputs": [],
   "source": [
    "from dateutil.parser import parse"
   ]
  },
  {
   "cell_type": "code",
   "execution_count": 30,
   "metadata": {
    "collapsed": false,
    "deletable": true,
    "editable": true
   },
   "outputs": [
    {
     "data": {
      "text/plain": [
       "datetime.datetime(2011, 1, 3, 0, 0)"
      ]
     },
     "execution_count": 30,
     "metadata": {},
     "output_type": "execute_result"
    }
   ],
   "source": [
    "parse('2011-01-03')"
   ]
  },
  {
   "cell_type": "code",
   "execution_count": 31,
   "metadata": {
    "collapsed": false,
    "deletable": true,
    "editable": true
   },
   "outputs": [
    {
     "data": {
      "text/plain": [
       "datetime.datetime(1997, 1, 31, 22, 45)"
      ]
     },
     "execution_count": 31,
     "metadata": {},
     "output_type": "execute_result"
    }
   ],
   "source": [
    "parse('Jan 31, 1997 10:45 PM')"
   ]
  },
  {
   "cell_type": "markdown",
   "metadata": {
    "deletable": true,
    "editable": true
   },
   "source": [
    "Si estamos usando las fechas en español, entonces nos conviene utilizar el parámetro dayfirst=True para indicar esto:"
   ]
  },
  {
   "cell_type": "code",
   "execution_count": 32,
   "metadata": {
    "collapsed": false,
    "deletable": true,
    "editable": true
   },
   "outputs": [
    {
     "data": {
      "text/plain": [
       "datetime.datetime(2011, 12, 6, 0, 0)"
      ]
     },
     "execution_count": 32,
     "metadata": {},
     "output_type": "execute_result"
    }
   ],
   "source": [
    "parse('6/12/2011',dayfirst=True)"
   ]
  },
  {
   "cell_type": "markdown",
   "metadata": {
    "deletable": true,
    "editable": true
   },
   "source": [
    "Dentro de pandas tenemos el método .to_datetime() que es útil para convertir strings "
   ]
  },
  {
   "cell_type": "code",
   "execution_count": 33,
   "metadata": {
    "collapsed": true,
    "deletable": true,
    "editable": true
   },
   "outputs": [],
   "source": [
    "import numpy as np\n",
    "import pandas as pd"
   ]
  },
  {
   "cell_type": "code",
   "execution_count": 34,
   "metadata": {
    "collapsed": false,
    "deletable": true,
    "editable": true
   },
   "outputs": [
    {
     "data": {
      "text/plain": [
       "DatetimeIndex(['2011-07-06', '2011-08-06'], dtype='datetime64[ns]', freq=None)"
      ]
     },
     "execution_count": 34,
     "metadata": {},
     "output_type": "execute_result"
    }
   ],
   "source": [
    "pd.to_datetime(date_strings)"
   ]
  },
  {
   "cell_type": "markdown",
   "metadata": {
    "deletable": true,
    "editable": true
   },
   "source": [
    "También es útil manejar las fechas dentro de Pandas porque puede manejar valores faltantes como 'NaT' (Not a Time):"
   ]
  },
  {
   "cell_type": "code",
   "execution_count": 35,
   "metadata": {
    "collapsed": false,
    "deletable": true,
    "editable": true
   },
   "outputs": [
    {
     "data": {
      "text/plain": [
       "DatetimeIndex(['2011-07-06', '2011-08-06', 'NaT'], dtype='datetime64[ns]', freq=None)"
      ]
     },
     "execution_count": 35,
     "metadata": {},
     "output_type": "execute_result"
    }
   ],
   "source": [
    "idx = pd.to_datetime(date_strings+[None])\n",
    "idx"
   ]
  },
  {
   "cell_type": "markdown",
   "metadata": {
    "deletable": true,
    "editable": true
   },
   "source": [
    "y manejarlo del mismo modo que lo hacemos con otros valores faltantes en Pandas"
   ]
  },
  {
   "cell_type": "code",
   "execution_count": 36,
   "metadata": {
    "collapsed": false,
    "deletable": true,
    "editable": true
   },
   "outputs": [
    {
     "data": {
      "text/plain": [
       "array([False, False,  True], dtype=bool)"
      ]
     },
     "execution_count": 36,
     "metadata": {},
     "output_type": "execute_result"
    }
   ],
   "source": [
    "pd.isnull(idx)"
   ]
  },
  {
   "cell_type": "markdown",
   "metadata": {
    "deletable": true,
    "editable": true
   },
   "source": [
    "### Basics de Series de Tiempo"
   ]
  },
  {
   "cell_type": "markdown",
   "metadata": {
    "deletable": true,
    "editable": true
   },
   "source": [
    "Escribamos primero un arreglo de datetimes y creemos una serie a partir de estos valores"
   ]
  },
  {
   "cell_type": "code",
   "execution_count": 37,
   "metadata": {
    "collapsed": false,
    "deletable": true,
    "editable": true
   },
   "outputs": [
    {
     "data": {
      "text/plain": [
       "[datetime.datetime(2011, 1, 2, 0, 0),\n",
       " datetime.datetime(2011, 1, 5, 0, 0),\n",
       " datetime.datetime(2011, 1, 7, 0, 0),\n",
       " datetime.datetime(2011, 1, 8, 0, 0),\n",
       " datetime.datetime(2011, 1, 10, 0, 0),\n",
       " datetime.datetime(2011, 1, 12, 0, 0)]"
      ]
     },
     "execution_count": 37,
     "metadata": {},
     "output_type": "execute_result"
    }
   ],
   "source": [
    "dates = [datetime(2011, 1, 2), datetime(2011, 1, 5),\n",
    "          datetime(2011, 1, 7), datetime(2011, 1, 8),\n",
    "          datetime(2011, 1, 10), datetime(2011, 1, 12)]\n",
    "dates"
   ]
  },
  {
   "cell_type": "code",
   "execution_count": 38,
   "metadata": {
    "collapsed": false,
    "deletable": true,
    "editable": true
   },
   "outputs": [
    {
     "data": {
      "text/plain": [
       "2011-01-02   -0.399314\n",
       "2011-01-05   -1.507857\n",
       "2011-01-07   -0.271387\n",
       "2011-01-08    1.026835\n",
       "2011-01-10   -0.723994\n",
       "2011-01-12    1.438555\n",
       "dtype: float64"
      ]
     },
     "execution_count": 38,
     "metadata": {},
     "output_type": "execute_result"
    }
   ],
   "source": [
    "ts = pd.Series(np.random.randn(6), index = dates)\n",
    "ts"
   ]
  },
  {
   "cell_type": "markdown",
   "metadata": {
    "deletable": true,
    "editable": true
   },
   "source": [
    "Vemos que los objetos 'datetime' se colocaron como 'DateTimeIndex'"
   ]
  },
  {
   "cell_type": "code",
   "execution_count": 39,
   "metadata": {
    "collapsed": false,
    "deletable": true,
    "editable": true
   },
   "outputs": [
    {
     "data": {
      "text/plain": [
       "DatetimeIndex(['2011-01-02', '2011-01-05', '2011-01-07', '2011-01-08',\n",
       "               '2011-01-10', '2011-01-12'],\n",
       "              dtype='datetime64[ns]', freq=None)"
      ]
     },
     "execution_count": 39,
     "metadata": {},
     "output_type": "execute_result"
    }
   ],
   "source": [
    "ts.index"
   ]
  },
  {
   "cell_type": "markdown",
   "metadata": {
    "deletable": true,
    "editable": true
   },
   "source": [
    "Como con otras series las operaciones aritméticas se alinean inmediatamente con los valores del índice"
   ]
  },
  {
   "cell_type": "code",
   "execution_count": 40,
   "metadata": {
    "collapsed": false,
    "deletable": true,
    "editable": true
   },
   "outputs": [
    {
     "data": {
      "text/plain": [
       "2011-01-02   -0.798629\n",
       "2011-01-05         NaN\n",
       "2011-01-07   -0.542773\n",
       "2011-01-08         NaN\n",
       "2011-01-10   -1.447988\n",
       "2011-01-12         NaN\n",
       "dtype: float64"
      ]
     },
     "execution_count": 40,
     "metadata": {},
     "output_type": "execute_result"
    }
   ],
   "source": [
    "ts + ts[::2]"
   ]
  },
  {
   "cell_type": "markdown",
   "metadata": {
    "deletable": true,
    "editable": true
   },
   "source": [
    "Los valores escalares del DatetimeIndex son objetos del tipo 'Timestamp'"
   ]
  },
  {
   "cell_type": "code",
   "execution_count": 41,
   "metadata": {
    "collapsed": false,
    "deletable": true,
    "editable": true
   },
   "outputs": [
    {
     "data": {
      "text/plain": [
       "Timestamp('2011-01-02 00:00:00')"
      ]
     },
     "execution_count": 41,
     "metadata": {},
     "output_type": "execute_result"
    }
   ],
   "source": [
    "stamp = ts.index[0]\n",
    "stamp"
   ]
  },
  {
   "cell_type": "markdown",
   "metadata": {
    "deletable": true,
    "editable": true
   },
   "source": [
    "Como otras series las series de tiempo se pueden referencias por número o por etiqueta "
   ]
  },
  {
   "cell_type": "code",
   "execution_count": 42,
   "metadata": {
    "collapsed": false,
    "deletable": true,
    "editable": true
   },
   "outputs": [
    {
     "data": {
      "text/plain": [
       "-0.27138667116556264"
      ]
     },
     "execution_count": 42,
     "metadata": {},
     "output_type": "execute_result"
    }
   ],
   "source": [
    "stamp = ts.index[2]\n",
    "ts[stamp]"
   ]
  },
  {
   "cell_type": "markdown",
   "metadata": {
    "deletable": true,
    "editable": true
   },
   "source": [
    "y se le puede pasar un string como etiqueta que pueda ser interpretado como fecha"
   ]
  },
  {
   "cell_type": "code",
   "execution_count": 43,
   "metadata": {
    "collapsed": false,
    "deletable": true,
    "editable": true
   },
   "outputs": [
    {
     "data": {
      "text/plain": [
       "-0.72399391063296237"
      ]
     },
     "execution_count": 43,
     "metadata": {},
     "output_type": "execute_result"
    }
   ],
   "source": [
    "ts['1/10/2011']"
   ]
  },
  {
   "cell_type": "code",
   "execution_count": 44,
   "metadata": {
    "collapsed": false,
    "deletable": true,
    "editable": true
   },
   "outputs": [
    {
     "data": {
      "text/plain": [
       "-0.72399391063296237"
      ]
     },
     "execution_count": 44,
     "metadata": {},
     "output_type": "execute_result"
    }
   ],
   "source": [
    "ts['20110110']"
   ]
  },
  {
   "cell_type": "markdown",
   "metadata": {
    "deletable": true,
    "editable": true
   },
   "source": [
    "Para una serie de tiempo más larga se le puede pasar sólo el año o el año y el mes para obtener slices de la serie de tiempo"
   ]
  },
  {
   "cell_type": "code",
   "execution_count": 45,
   "metadata": {
    "collapsed": false,
    "deletable": true,
    "editable": true
   },
   "outputs": [
    {
     "data": {
      "text/plain": [
       "2000-01-01    0.509636\n",
       "2000-01-02   -0.174334\n",
       "2000-01-03   -3.128258\n",
       "2000-01-04   -0.557318\n",
       "2000-01-05    0.164610\n",
       "2000-01-06   -0.158107\n",
       "2000-01-07    0.815894\n",
       "2000-01-08   -0.220276\n",
       "2000-01-09   -0.603267\n",
       "2000-01-10    1.918669\n",
       "2000-01-11   -0.299092\n",
       "2000-01-12   -1.195690\n",
       "2000-01-13   -0.237764\n",
       "2000-01-14   -1.529488\n",
       "2000-01-15   -0.130557\n",
       "2000-01-16    1.001993\n",
       "2000-01-17    0.852094\n",
       "2000-01-18    2.289093\n",
       "2000-01-19    0.555180\n",
       "2000-01-20    0.938617\n",
       "2000-01-21    0.057860\n",
       "2000-01-22    0.676400\n",
       "2000-01-23    0.709680\n",
       "2000-01-24   -0.760786\n",
       "2000-01-25   -1.458707\n",
       "2000-01-26    0.884733\n",
       "2000-01-27    0.339449\n",
       "2000-01-28    1.126496\n",
       "2000-01-29    0.544783\n",
       "2000-01-30   -0.373720\n",
       "                ...   \n",
       "2002-08-28   -0.803958\n",
       "2002-08-29    0.902253\n",
       "2002-08-30    0.229285\n",
       "2002-08-31    0.013641\n",
       "2002-09-01   -0.707917\n",
       "2002-09-02    0.241077\n",
       "2002-09-03    0.743093\n",
       "2002-09-04   -0.719856\n",
       "2002-09-05   -0.734940\n",
       "2002-09-06   -0.465182\n",
       "2002-09-07   -0.301330\n",
       "2002-09-08   -0.693243\n",
       "2002-09-09    1.480609\n",
       "2002-09-10   -0.810424\n",
       "2002-09-11    0.533691\n",
       "2002-09-12    0.791630\n",
       "2002-09-13   -0.244599\n",
       "2002-09-14   -1.056466\n",
       "2002-09-15   -0.537314\n",
       "2002-09-16    1.265863\n",
       "2002-09-17    0.433412\n",
       "2002-09-18   -0.115749\n",
       "2002-09-19   -0.632925\n",
       "2002-09-20    0.219182\n",
       "2002-09-21    1.291956\n",
       "2002-09-22    0.415030\n",
       "2002-09-23   -0.239322\n",
       "2002-09-24   -0.528023\n",
       "2002-09-25    0.754319\n",
       "2002-09-26    1.441887\n",
       "Freq: D, dtype: float64"
      ]
     },
     "execution_count": 45,
     "metadata": {},
     "output_type": "execute_result"
    }
   ],
   "source": [
    "longer_ts = pd.Series(np.random.randn(1000),\n",
    "                      index=pd.date_range('1/1/2000', periods=1000))\n",
    "longer_ts"
   ]
  },
  {
   "cell_type": "markdown",
   "metadata": {
    "deletable": true,
    "editable": true
   },
   "source": [
    "Por ejemplo si queremos los datos de mayo de 2001, le pasamos '2001-05'"
   ]
  },
  {
   "cell_type": "code",
   "execution_count": 46,
   "metadata": {
    "collapsed": false,
    "deletable": true,
    "editable": true
   },
   "outputs": [
    {
     "data": {
      "text/plain": [
       "2001-05-01   -1.358372\n",
       "2001-05-02   -1.672529\n",
       "2001-05-03    0.227523\n",
       "2001-05-04    0.701036\n",
       "2001-05-05   -1.050822\n",
       "2001-05-06   -1.764940\n",
       "2001-05-07    0.114329\n",
       "2001-05-08   -0.550266\n",
       "2001-05-09    0.133058\n",
       "2001-05-10   -1.614439\n",
       "2001-05-11   -0.241111\n",
       "2001-05-12    0.855741\n",
       "2001-05-13    0.104874\n",
       "2001-05-14   -1.401174\n",
       "2001-05-15    0.048662\n",
       "2001-05-16    0.881469\n",
       "2001-05-17   -1.544696\n",
       "2001-05-18   -1.166762\n",
       "2001-05-19    0.962552\n",
       "2001-05-20    0.781123\n",
       "2001-05-21   -0.902483\n",
       "2001-05-22   -1.187804\n",
       "2001-05-23    1.723339\n",
       "2001-05-24    0.031446\n",
       "2001-05-25   -1.220093\n",
       "2001-05-26   -0.485330\n",
       "2001-05-27   -0.796505\n",
       "2001-05-28   -1.223131\n",
       "2001-05-29    0.133912\n",
       "2001-05-30    0.955774\n",
       "2001-05-31    0.293257\n",
       "Freq: D, dtype: float64"
      ]
     },
     "execution_count": 46,
     "metadata": {},
     "output_type": "execute_result"
    }
   ],
   "source": [
    "longer_ts['2001-05']"
   ]
  },
  {
   "cell_type": "markdown",
   "metadata": {
    "deletable": true,
    "editable": true
   },
   "source": [
    "o '2001' para todos los datos del año 2001"
   ]
  },
  {
   "cell_type": "code",
   "execution_count": 47,
   "metadata": {
    "collapsed": false,
    "deletable": true,
    "editable": true
   },
   "outputs": [
    {
     "data": {
      "text/plain": [
       "2001-01-01   -0.001848\n",
       "2001-01-02   -1.035516\n",
       "2001-01-03   -0.155399\n",
       "2001-01-04   -2.403625\n",
       "2001-01-05    0.187035\n",
       "2001-01-06   -0.448893\n",
       "2001-01-07    0.140484\n",
       "2001-01-08    0.690675\n",
       "2001-01-09    0.499341\n",
       "2001-01-10    0.235578\n",
       "2001-01-11   -0.071997\n",
       "2001-01-12   -0.841603\n",
       "2001-01-13   -1.497387\n",
       "2001-01-14    0.032854\n",
       "2001-01-15   -0.826845\n",
       "2001-01-16    0.866995\n",
       "2001-01-17    0.648430\n",
       "2001-01-18   -1.639009\n",
       "2001-01-19    1.732301\n",
       "2001-01-20   -0.148964\n",
       "2001-01-21   -1.234520\n",
       "2001-01-22   -1.464483\n",
       "2001-01-23   -0.430566\n",
       "2001-01-24    1.408189\n",
       "2001-01-25   -2.247787\n",
       "2001-01-26   -0.975147\n",
       "2001-01-27    0.892394\n",
       "2001-01-28    0.640186\n",
       "2001-01-29    1.313692\n",
       "2001-01-30   -0.321147\n",
       "                ...   \n",
       "2001-12-02   -0.353868\n",
       "2001-12-03   -0.890375\n",
       "2001-12-04   -0.103170\n",
       "2001-12-05    0.813051\n",
       "2001-12-06   -0.062503\n",
       "2001-12-07    1.327096\n",
       "2001-12-08    0.375848\n",
       "2001-12-09   -0.730822\n",
       "2001-12-10    0.713722\n",
       "2001-12-11   -0.228534\n",
       "2001-12-12   -0.488343\n",
       "2001-12-13   -0.391243\n",
       "2001-12-14   -0.771199\n",
       "2001-12-15    2.653523\n",
       "2001-12-16    1.681776\n",
       "2001-12-17    0.253255\n",
       "2001-12-18   -0.723910\n",
       "2001-12-19    0.875292\n",
       "2001-12-20   -1.075022\n",
       "2001-12-21    0.061263\n",
       "2001-12-22    0.555717\n",
       "2001-12-23   -0.844201\n",
       "2001-12-24   -0.984387\n",
       "2001-12-25    0.717617\n",
       "2001-12-26   -0.797667\n",
       "2001-12-27   -1.517919\n",
       "2001-12-28    1.251352\n",
       "2001-12-29    0.105523\n",
       "2001-12-30   -0.262356\n",
       "2001-12-31   -0.290760\n",
       "Freq: D, dtype: float64"
      ]
     },
     "execution_count": 47,
     "metadata": {},
     "output_type": "execute_result"
    }
   ],
   "source": [
    "longer_ts['2001']"
   ]
  },
  {
   "cell_type": "markdown",
   "metadata": {
    "deletable": true,
    "editable": true
   },
   "source": [
    "Se puede hacer el slicing usando objetos del tipo 'datetime' del mismo modo"
   ]
  },
  {
   "cell_type": "code",
   "execution_count": 48,
   "metadata": {
    "collapsed": false,
    "deletable": true,
    "editable": true
   },
   "outputs": [
    {
     "data": {
      "text/plain": [
       "2011-01-07   -0.271387\n",
       "2011-01-08    1.026835\n",
       "2011-01-10   -0.723994\n",
       "2011-01-12    1.438555\n",
       "dtype: float64"
      ]
     },
     "execution_count": 48,
     "metadata": {},
     "output_type": "execute_result"
    }
   ],
   "source": [
    "ts[datetime(2011,1,7):]"
   ]
  },
  {
   "cell_type": "markdown",
   "metadata": {
    "deletable": true,
    "editable": true
   },
   "source": [
    "Si tus etiquetas están en orden cronológico entonces puedes incluir en tu 'query' datos que no están incluidos en el rango para obtenerlo hasta el final como por ejemplo"
   ]
  },
  {
   "cell_type": "code",
   "execution_count": 49,
   "metadata": {
    "collapsed": false,
    "deletable": true,
    "editable": true
   },
   "outputs": [
    {
     "data": {
      "text/plain": [
       "2011-01-02   -0.399314\n",
       "2011-01-05   -1.507857\n",
       "2011-01-07   -0.271387\n",
       "2011-01-08    1.026835\n",
       "2011-01-10   -0.723994\n",
       "2011-01-12    1.438555\n",
       "dtype: float64"
      ]
     },
     "execution_count": 49,
     "metadata": {},
     "output_type": "execute_result"
    }
   ],
   "source": [
    "ts"
   ]
  },
  {
   "cell_type": "code",
   "execution_count": 50,
   "metadata": {
    "collapsed": false,
    "deletable": true,
    "editable": true
   },
   "outputs": [
    {
     "data": {
      "text/plain": [
       "2011-01-07   -0.271387\n",
       "2011-01-08    1.026835\n",
       "2011-01-10   -0.723994\n",
       "2011-01-12    1.438555\n",
       "dtype: float64"
      ]
     },
     "execution_count": 50,
     "metadata": {},
     "output_type": "execute_result"
    }
   ],
   "source": [
    "ts['1/6/2011':'1/11/2017']"
   ]
  },
  {
   "cell_type": "markdown",
   "metadata": {
    "deletable": true,
    "editable": true
   },
   "source": [
    "Alternativamente se puede utilizar el método .truncate a una serie para obtener los valores anteriores (o posteriores) a una fecha"
   ]
  },
  {
   "cell_type": "code",
   "execution_count": 51,
   "metadata": {
    "collapsed": false,
    "deletable": true,
    "editable": true
   },
   "outputs": [
    {
     "data": {
      "text/plain": [
       "2011-01-02   -0.399314\n",
       "2011-01-05   -1.507857\n",
       "2011-01-07   -0.271387\n",
       "2011-01-08    1.026835\n",
       "dtype: float64"
      ]
     },
     "execution_count": 51,
     "metadata": {},
     "output_type": "execute_result"
    }
   ],
   "source": [
    "ts.truncate(after='1/9/2011')"
   ]
  },
  {
   "cell_type": "markdown",
   "metadata": {
    "deletable": true,
    "editable": true
   },
   "source": [
    "Todo esto que vimos con Series es igualmente utilizable para DataFrames"
   ]
  },
  {
   "cell_type": "code",
   "execution_count": 52,
   "metadata": {
    "collapsed": true,
    "deletable": true,
    "editable": true
   },
   "outputs": [],
   "source": [
    "pd.date_range?"
   ]
  },
  {
   "cell_type": "markdown",
   "metadata": {
    "deletable": true,
    "editable": true
   },
   "source": [
    "Nota: veremos un ejemplo de más opciones para el argumento freq más abajo"
   ]
  },
  {
   "cell_type": "code",
   "execution_count": 53,
   "metadata": {
    "collapsed": false,
    "deletable": true,
    "editable": true
   },
   "outputs": [
    {
     "data": {
      "text/plain": [
       "DatetimeIndex(['2000-01-05', '2000-01-12', '2000-01-19', '2000-01-26',\n",
       "               '2000-02-02', '2000-02-09', '2000-02-16', '2000-02-23',\n",
       "               '2000-03-01', '2000-03-08', '2000-03-15', '2000-03-22',\n",
       "               '2000-03-29', '2000-04-05', '2000-04-12', '2000-04-19',\n",
       "               '2000-04-26', '2000-05-03', '2000-05-10', '2000-05-17',\n",
       "               '2000-05-24', '2000-05-31', '2000-06-07', '2000-06-14',\n",
       "               '2000-06-21', '2000-06-28', '2000-07-05', '2000-07-12',\n",
       "               '2000-07-19', '2000-07-26', '2000-08-02', '2000-08-09',\n",
       "               '2000-08-16', '2000-08-23', '2000-08-30', '2000-09-06',\n",
       "               '2000-09-13', '2000-09-20', '2000-09-27', '2000-10-04',\n",
       "               '2000-10-11', '2000-10-18', '2000-10-25', '2000-11-01',\n",
       "               '2000-11-08', '2000-11-15', '2000-11-22', '2000-11-29',\n",
       "               '2000-12-06', '2000-12-13', '2000-12-20', '2000-12-27',\n",
       "               '2001-01-03', '2001-01-10', '2001-01-17', '2001-01-24',\n",
       "               '2001-01-31', '2001-02-07', '2001-02-14', '2001-02-21',\n",
       "               '2001-02-28', '2001-03-07', '2001-03-14', '2001-03-21',\n",
       "               '2001-03-28', '2001-04-04', '2001-04-11', '2001-04-18',\n",
       "               '2001-04-25', '2001-05-02', '2001-05-09', '2001-05-16',\n",
       "               '2001-05-23', '2001-05-30', '2001-06-06', '2001-06-13',\n",
       "               '2001-06-20', '2001-06-27', '2001-07-04', '2001-07-11',\n",
       "               '2001-07-18', '2001-07-25', '2001-08-01', '2001-08-08',\n",
       "               '2001-08-15', '2001-08-22', '2001-08-29', '2001-09-05',\n",
       "               '2001-09-12', '2001-09-19', '2001-09-26', '2001-10-03',\n",
       "               '2001-10-10', '2001-10-17', '2001-10-24', '2001-10-31',\n",
       "               '2001-11-07', '2001-11-14', '2001-11-21', '2001-11-28'],\n",
       "              dtype='datetime64[ns]', freq='W-WED')"
      ]
     },
     "execution_count": 53,
     "metadata": {},
     "output_type": "execute_result"
    }
   ],
   "source": [
    "dates = pd.date_range('1/1/2000', periods=100, freq='W-WED')\n",
    "dates"
   ]
  },
  {
   "cell_type": "code",
   "execution_count": 54,
   "metadata": {
    "collapsed": false,
    "deletable": true,
    "editable": true
   },
   "outputs": [
    {
     "data": {
      "text/html": [
       "<div>\n",
       "<table border=\"1\" class=\"dataframe\">\n",
       "  <thead>\n",
       "    <tr style=\"text-align: right;\">\n",
       "      <th></th>\n",
       "      <th>Aguascalientes</th>\n",
       "      <th>Chiapas</th>\n",
       "      <th>Puebla</th>\n",
       "      <th>Oaxaca</th>\n",
       "    </tr>\n",
       "  </thead>\n",
       "  <tbody>\n",
       "    <tr>\n",
       "      <th>2000-01-05</th>\n",
       "      <td>-1.095164</td>\n",
       "      <td>1.075095</td>\n",
       "      <td>2.045338</td>\n",
       "      <td>1.243952</td>\n",
       "    </tr>\n",
       "    <tr>\n",
       "      <th>2000-01-12</th>\n",
       "      <td>0.054250</td>\n",
       "      <td>0.813456</td>\n",
       "      <td>-0.906341</td>\n",
       "      <td>1.450526</td>\n",
       "    </tr>\n",
       "    <tr>\n",
       "      <th>2000-01-19</th>\n",
       "      <td>-1.447336</td>\n",
       "      <td>0.728949</td>\n",
       "      <td>0.932240</td>\n",
       "      <td>-1.091214</td>\n",
       "    </tr>\n",
       "    <tr>\n",
       "      <th>2000-01-26</th>\n",
       "      <td>0.996963</td>\n",
       "      <td>-0.237794</td>\n",
       "      <td>-1.519013</td>\n",
       "      <td>-2.278731</td>\n",
       "    </tr>\n",
       "    <tr>\n",
       "      <th>2000-02-02</th>\n",
       "      <td>0.590644</td>\n",
       "      <td>-0.632975</td>\n",
       "      <td>-0.998924</td>\n",
       "      <td>0.107398</td>\n",
       "    </tr>\n",
       "  </tbody>\n",
       "</table>\n",
       "</div>"
      ],
      "text/plain": [
       "            Aguascalientes   Chiapas    Puebla    Oaxaca\n",
       "2000-01-05       -1.095164  1.075095  2.045338  1.243952\n",
       "2000-01-12        0.054250  0.813456 -0.906341  1.450526\n",
       "2000-01-19       -1.447336  0.728949  0.932240 -1.091214\n",
       "2000-01-26        0.996963 -0.237794 -1.519013 -2.278731\n",
       "2000-02-02        0.590644 -0.632975 -0.998924  0.107398"
      ]
     },
     "execution_count": 54,
     "metadata": {},
     "output_type": "execute_result"
    }
   ],
   "source": [
    "long_df = pd.DataFrame(np.random.randn(100,4),\n",
    "                      index = dates,\n",
    "                      columns = ['Aguascalientes', 'Chiapas', 'Puebla', 'Oaxaca'])\n",
    "long_df.head(5)"
   ]
  },
  {
   "cell_type": "code",
   "execution_count": 55,
   "metadata": {
    "collapsed": false,
    "deletable": true,
    "editable": true
   },
   "outputs": [
    {
     "data": {
      "text/html": [
       "<div>\n",
       "<table border=\"1\" class=\"dataframe\">\n",
       "  <thead>\n",
       "    <tr style=\"text-align: right;\">\n",
       "      <th></th>\n",
       "      <th>Aguascalientes</th>\n",
       "      <th>Chiapas</th>\n",
       "      <th>Puebla</th>\n",
       "      <th>Oaxaca</th>\n",
       "    </tr>\n",
       "  </thead>\n",
       "  <tbody>\n",
       "    <tr>\n",
       "      <th>2001-05-02</th>\n",
       "      <td>-1.190133</td>\n",
       "      <td>1.156156</td>\n",
       "      <td>0.346204</td>\n",
       "      <td>0.814894</td>\n",
       "    </tr>\n",
       "    <tr>\n",
       "      <th>2001-05-09</th>\n",
       "      <td>-0.466758</td>\n",
       "      <td>-0.413662</td>\n",
       "      <td>-0.970599</td>\n",
       "      <td>-0.463881</td>\n",
       "    </tr>\n",
       "    <tr>\n",
       "      <th>2001-05-16</th>\n",
       "      <td>-0.606078</td>\n",
       "      <td>-0.331850</td>\n",
       "      <td>-1.011519</td>\n",
       "      <td>0.698161</td>\n",
       "    </tr>\n",
       "    <tr>\n",
       "      <th>2001-05-23</th>\n",
       "      <td>-1.189556</td>\n",
       "      <td>-0.140345</td>\n",
       "      <td>-0.261572</td>\n",
       "      <td>1.506572</td>\n",
       "    </tr>\n",
       "    <tr>\n",
       "      <th>2001-05-30</th>\n",
       "      <td>-0.664497</td>\n",
       "      <td>-1.638844</td>\n",
       "      <td>-1.045133</td>\n",
       "      <td>-0.396298</td>\n",
       "    </tr>\n",
       "  </tbody>\n",
       "</table>\n",
       "</div>"
      ],
      "text/plain": [
       "            Aguascalientes   Chiapas    Puebla    Oaxaca\n",
       "2001-05-02       -1.190133  1.156156  0.346204  0.814894\n",
       "2001-05-09       -0.466758 -0.413662 -0.970599 -0.463881\n",
       "2001-05-16       -0.606078 -0.331850 -1.011519  0.698161\n",
       "2001-05-23       -1.189556 -0.140345 -0.261572  1.506572\n",
       "2001-05-30       -0.664497 -1.638844 -1.045133 -0.396298"
      ]
     },
     "execution_count": 55,
     "metadata": {},
     "output_type": "execute_result"
    }
   ],
   "source": [
    "long_df.loc['5-2001']"
   ]
  },
  {
   "cell_type": "markdown",
   "metadata": {
    "collapsed": true,
    "deletable": true,
    "editable": true
   },
   "source": [
    "### Series de tiempo con índices duplicados"
   ]
  },
  {
   "cell_type": "code",
   "execution_count": 56,
   "metadata": {
    "collapsed": false,
    "deletable": true,
    "editable": true
   },
   "outputs": [],
   "source": [
    "dates = pd.DatetimeIndex(['1/1/2000','1/2/2000','1/2/2000','1/2/2000','1/3/2000'])"
   ]
  },
  {
   "cell_type": "code",
   "execution_count": 57,
   "metadata": {
    "collapsed": false,
    "deletable": true,
    "editable": true
   },
   "outputs": [
    {
     "data": {
      "text/plain": [
       "2000-01-01    0\n",
       "2000-01-02    1\n",
       "2000-01-02    2\n",
       "2000-01-02    3\n",
       "2000-01-03    4\n",
       "dtype: int64"
      ]
     },
     "execution_count": 57,
     "metadata": {},
     "output_type": "execute_result"
    }
   ],
   "source": [
    "dup_ts = pd.Series(np.arange(5),index=dates)\n",
    "dup_ts"
   ]
  },
  {
   "cell_type": "markdown",
   "metadata": {
    "deletable": true,
    "editable": true
   },
   "source": [
    "Podemos revisar que el índice no es único con el atributo is_unique"
   ]
  },
  {
   "cell_type": "code",
   "execution_count": 58,
   "metadata": {
    "collapsed": false,
    "deletable": true,
    "editable": true
   },
   "outputs": [
    {
     "data": {
      "text/plain": [
       "False"
      ]
     },
     "execution_count": 58,
     "metadata": {},
     "output_type": "execute_result"
    }
   ],
   "source": [
    "dup_ts.index.is_unique"
   ]
  },
  {
   "cell_type": "markdown",
   "metadata": {
    "deletable": true,
    "editable": true
   },
   "source": [
    "Así obtendremos valores escalares o series dependiendo de si el valore está duplicado o no"
   ]
  },
  {
   "cell_type": "code",
   "execution_count": 59,
   "metadata": {
    "collapsed": false,
    "deletable": true,
    "editable": true
   },
   "outputs": [
    {
     "data": {
      "text/plain": [
       "4"
      ]
     },
     "execution_count": 59,
     "metadata": {},
     "output_type": "execute_result"
    }
   ],
   "source": [
    "dup_ts['1/3/2000'] #No duplicado"
   ]
  },
  {
   "cell_type": "code",
   "execution_count": 60,
   "metadata": {
    "collapsed": false,
    "deletable": true,
    "editable": true
   },
   "outputs": [
    {
     "data": {
      "text/plain": [
       "2000-01-02    1\n",
       "2000-01-02    2\n",
       "2000-01-02    3\n",
       "dtype: int64"
      ]
     },
     "execution_count": 60,
     "metadata": {},
     "output_type": "execute_result"
    }
   ],
   "source": [
    "dup_ts['1/2/2000'] #Duplicado"
   ]
  },
  {
   "cell_type": "markdown",
   "metadata": {
    "deletable": true,
    "editable": true
   },
   "source": [
    "Supongamos que quieres agregar datos no únicos. Una de las maneras es utilizando gropby y level=0"
   ]
  },
  {
   "cell_type": "code",
   "execution_count": 61,
   "metadata": {
    "collapsed": false,
    "deletable": true,
    "editable": true
   },
   "outputs": [
    {
     "data": {
      "text/plain": [
       "2000-01-01    0\n",
       "2000-01-02    2\n",
       "2000-01-03    4\n",
       "dtype: int64"
      ]
     },
     "execution_count": 61,
     "metadata": {},
     "output_type": "execute_result"
    }
   ],
   "source": [
    "grouped = dup_ts.groupby(level=0)\n",
    "grouped.mean()"
   ]
  },
  {
   "cell_type": "code",
   "execution_count": 62,
   "metadata": {
    "collapsed": false,
    "deletable": true,
    "editable": true
   },
   "outputs": [
    {
     "data": {
      "text/plain": [
       "2000-01-01    1\n",
       "2000-01-02    3\n",
       "2000-01-03    1\n",
       "dtype: int64"
      ]
     },
     "execution_count": 62,
     "metadata": {},
     "output_type": "execute_result"
    }
   ],
   "source": [
    "grouped.count()"
   ]
  },
  {
   "cell_type": "markdown",
   "metadata": {
    "deletable": true,
    "editable": true
   },
   "source": [
    "### Rangos de fechas"
   ]
  },
  {
   "cell_type": "markdown",
   "metadata": {
    "deletable": true,
    "editable": true
   },
   "source": [
    "Recordemos la serie ts"
   ]
  },
  {
   "cell_type": "code",
   "execution_count": 64,
   "metadata": {
    "collapsed": false,
    "deletable": true,
    "editable": true
   },
   "outputs": [
    {
     "data": {
      "text/plain": [
       "2011-01-02   -0.399314\n",
       "2011-01-05   -1.507857\n",
       "2011-01-07   -0.271387\n",
       "2011-01-08    1.026835\n",
       "2011-01-10   -0.723994\n",
       "2011-01-12    1.438555\n",
       "dtype: float64"
      ]
     },
     "execution_count": 64,
     "metadata": {},
     "output_type": "execute_result"
    }
   ],
   "source": [
    "ts"
   ]
  },
  {
   "cell_type": "markdown",
   "metadata": {
    "deletable": true,
    "editable": true
   },
   "source": [
    "Ahora generemos un DatetimIndex para aprender la función date_tange"
   ]
  },
  {
   "cell_type": "code",
   "execution_count": 68,
   "metadata": {
    "collapsed": true,
    "deletable": true,
    "editable": true
   },
   "outputs": [
    {
     "data": {
      "text/plain": [
       "DatetimeIndex(['2012-04-01', '2012-04-02', '2012-04-03', '2012-04-04',\n",
       "               '2012-04-05', '2012-04-06', '2012-04-07', '2012-04-08',\n",
       "               '2012-04-09', '2012-04-10', '2012-04-11', '2012-04-12',\n",
       "               '2012-04-13', '2012-04-14', '2012-04-15', '2012-04-16',\n",
       "               '2012-04-17', '2012-04-18', '2012-04-19', '2012-04-20',\n",
       "               '2012-04-21', '2012-04-22', '2012-04-23', '2012-04-24',\n",
       "               '2012-04-25', '2012-04-26', '2012-04-27', '2012-04-28',\n",
       "               '2012-04-29', '2012-04-30', '2012-05-01', '2012-05-02',\n",
       "               '2012-05-03', '2012-05-04', '2012-05-05', '2012-05-06',\n",
       "               '2012-05-07', '2012-05-08', '2012-05-09', '2012-05-10',\n",
       "               '2012-05-11', '2012-05-12', '2012-05-13', '2012-05-14',\n",
       "               '2012-05-15', '2012-05-16', '2012-05-17', '2012-05-18',\n",
       "               '2012-05-19', '2012-05-20', '2012-05-21', '2012-05-22',\n",
       "               '2012-05-23', '2012-05-24', '2012-05-25', '2012-05-26',\n",
       "               '2012-05-27', '2012-05-28', '2012-05-29', '2012-05-30',\n",
       "               '2012-05-31', '2012-06-01'],\n",
       "              dtype='datetime64[ns]', freq='D')"
      ]
     },
     "execution_count": 68,
     "metadata": {},
     "output_type": "execute_result"
    }
   ],
   "source": [
    "index = pd.date_range('2012-04-01','2012-06-01')\n",
    "index"
   ]
  },
  {
   "cell_type": "markdown",
   "metadata": {
    "deletable": true,
    "editable": true
   },
   "source": [
    "Vemos que por default date_range genera datos diarios, también podemos pasarle el argumento 'periods' y la fecha de comienzo 'start' para generar los datos"
   ]
  },
  {
   "cell_type": "code",
   "execution_count": 69,
   "metadata": {
    "collapsed": false,
    "deletable": true,
    "editable": true
   },
   "outputs": [
    {
     "data": {
      "text/plain": [
       "DatetimeIndex(['2012-04-01', '2012-04-02', '2012-04-03', '2012-04-04',\n",
       "               '2012-04-05', '2012-04-06', '2012-04-07', '2012-04-08',\n",
       "               '2012-04-09', '2012-04-10', '2012-04-11', '2012-04-12',\n",
       "               '2012-04-13', '2012-04-14', '2012-04-15', '2012-04-16',\n",
       "               '2012-04-17', '2012-04-18', '2012-04-19', '2012-04-20'],\n",
       "              dtype='datetime64[ns]', freq='D')"
      ]
     },
     "execution_count": 69,
     "metadata": {},
     "output_type": "execute_result"
    }
   ],
   "source": [
    "pd.date_range(start='2012-04-01',periods=20)"
   ]
  },
  {
   "cell_type": "markdown",
   "metadata": {
    "deletable": true,
    "editable": true
   },
   "source": [
    "Si queremos obtener sólo el último día de trabajo de cada mes podemos utilizar el argumento 'freq' con 'BM'"
   ]
  },
  {
   "cell_type": "code",
   "execution_count": 70,
   "metadata": {
    "collapsed": false,
    "deletable": true,
    "editable": true
   },
   "outputs": [
    {
     "data": {
      "text/plain": [
       "DatetimeIndex(['2000-01-31', '2000-02-29', '2000-03-31', '2000-04-28',\n",
       "               '2000-05-31', '2000-06-30', '2000-07-31', '2000-08-31',\n",
       "               '2000-09-29', '2000-10-31', '2000-11-30'],\n",
       "              dtype='datetime64[ns]', freq='BM')"
      ]
     },
     "execution_count": 70,
     "metadata": {},
     "output_type": "execute_result"
    }
   ],
   "source": [
    "pd.date_range('2000-01-01','2000-12-01',freq='BM')"
   ]
  },
  {
   "cell_type": "code",
   "execution_count": 71,
   "metadata": {
    "collapsed": false,
    "deletable": true,
    "editable": true
   },
   "outputs": [
    {
     "data": {
      "text/html": [
       "<h4> Bases frecuencias date_range </h4>\n",
       "<table>\n",
       "    <tr>\n",
       "        <td><b>Alias</b></td> <td><b>Tipo de Dato</b></td> <td><b>Descripción</b></td>\n",
       "    </tr>\n",
       "    <tr>\n",
       "        <td>D</td> <td>Day</td> <td>Días Calendario</td>\n",
       "    </tr>\n",
       "    <tr>\n",
       "        <td>B</td> <td>BusinessDay</td> <td>Días laborales</td>\n",
       "    </tr>\n",
       "    <tr>\n",
       "        <td>H</td> <td>Hour</td> <td>Cada hora</td>\n",
       "    </tr>\n",
       "    <tr>\n",
       "        <td>min</td> <td>Minute</td> <td>Cada minuto</td>\n",
       "    </tr>\n",
       "    <tr>\n",
       "        <td>S</td> <td>Second</td> <td>Cada segundo</td>\n",
       "    </tr>\n",
       "    <tr>\n",
       "        <td>M</td> <td>MonthEnd</td> <td>Último día calendario del mes</td>\n",
       "    </tr>\n",
       "    <tr>\n",
       "        <td>BM</td> <td>BusinessMonthEnd</td> <td>Último día laboral del mes</td>\n",
       "    </tr>\n",
       "    <tr>\n",
       "        <td>MS</td> <td>MonthBegin</td> <td>Primer día calendario del mes</td>\n",
       "    </tr>\n",
       "    <tr>\n",
       "        <td>BMS</td> <td>BusinessMonthBegin</td> <td>Primer día laboral del mes</td>\n",
       "    </tr>\n",
       "    <tr>\n",
       "        <td>W-MON, W-TUE, ...</td> <td>Week</td> <td>Cada semana en cierto día de la semana</td>\n",
       "    </tr>\n",
       "    <tr>\n",
       "        <td>WOM-1MON</td> <td>WeekOfMont</td> <td>Genera datos semanales en la primera, segunda, tercera o cuarta semana del mes (Ej. WOM-3FRI para el tercer viernes de cada mes</td>\n",
       "    </tr>\n",
       "    <tr>\n",
       "        <td>Q-JAN, Q-FEB, ...</td> <td>QuarterEnd</td> <td>Cada trimestre en el último día calendario de cada mes para el año terminando en el mes indicado</td>\n",
       "    </tr>\n",
       "    <tr>\n",
       "        <td>A-JAN, A-FEB, ....</td> <td>YearEnd</td> <td>Cada año en el último día calendario del mes indicado</td>\n",
       "    </tr>\n",
       "</table>"
      ],
      "text/plain": [
       "<IPython.core.display.HTML object>"
      ]
     },
     "metadata": {},
     "output_type": "display_data"
    }
   ],
   "source": [
    "%%html\n",
    "<h4> Bases frecuencias date_range </h4>\n",
    "<table>\n",
    "    <tr>\n",
    "        <td><b>Alias</b></td> <td><b>Tipo de Dato</b></td> <td><b>Descripción</b></td>\n",
    "    </tr>\n",
    "    <tr>\n",
    "        <td>D</td> <td>Day</td> <td>Días Calendario</td>\n",
    "    </tr>\n",
    "    <tr>\n",
    "        <td>B</td> <td>BusinessDay</td> <td>Días laborales</td>\n",
    "    </tr>\n",
    "    <tr>\n",
    "        <td>H</td> <td>Hour</td> <td>Cada hora</td>\n",
    "    </tr>\n",
    "    <tr>\n",
    "        <td>min</td> <td>Minute</td> <td>Cada minuto</td>\n",
    "    </tr>\n",
    "    <tr>\n",
    "        <td>S</td> <td>Second</td> <td>Cada segundo</td>\n",
    "    </tr>\n",
    "    <tr>\n",
    "        <td>M</td> <td>MonthEnd</td> <td>Último día calendario del mes</td>\n",
    "    </tr>\n",
    "    <tr>\n",
    "        <td>BM</td> <td>BusinessMonthEnd</td> <td>Último día laboral del mes</td>\n",
    "    </tr>\n",
    "    <tr>\n",
    "        <td>MS</td> <td>MonthBegin</td> <td>Primer día calendario del mes</td>\n",
    "    </tr>\n",
    "    <tr>\n",
    "        <td>BMS</td> <td>BusinessMonthBegin</td> <td>Primer día laboral del mes</td>\n",
    "    </tr>\n",
    "    <tr>\n",
    "        <td>W-MON, W-TUE, ...</td> <td>Week</td> <td>Cada semana en cierto día de la semana</td>\n",
    "    </tr>\n",
    "    <tr>\n",
    "        <td>WOM-1MON</td> <td>WeekOfMont</td> <td>Genera datos semanales en la primera, segunda, tercera o cuarta semana del mes (Ej. WOM-3FRI para el tercer viernes de cada mes</td>\n",
    "    </tr>\n",
    "    <tr>\n",
    "        <td>Q-JAN, Q-FEB, ...</td> <td>QuarterEnd</td> <td>Cada trimestre en el último día calendario de cada mes para el año terminando en el mes indicado</td>\n",
    "    </tr>\n",
    "    <tr>\n",
    "        <td>A-JAN, A-FEB, ....</td> <td>YearEnd</td> <td>Cada año en el último día calendario del mes indicado</td>\n",
    "    </tr>\n",
    "</table>"
   ]
  },
  {
   "cell_type": "markdown",
   "metadata": {
    "deletable": true,
    "editable": true
   },
   "source": [
    "### Shifting Series de Tiempo"
   ]
  },
  {
   "cell_type": "code",
   "execution_count": 81,
   "metadata": {
    "collapsed": false,
    "deletable": true,
    "editable": true
   },
   "outputs": [
    {
     "data": {
      "text/plain": [
       "2000-01-31    4\n",
       "2000-02-29    5\n",
       "2000-03-31    1\n",
       "2000-04-30    5\n",
       "Freq: M, dtype: int64"
      ]
     },
     "execution_count": 81,
     "metadata": {},
     "output_type": "execute_result"
    }
   ],
   "source": [
    "ts = pd.Series(np.random.randint(1,10,4), \n",
    "               index=pd.date_range('1/1/2000',periods=4,freq='M'))\n",
    "ts"
   ]
  },
  {
   "cell_type": "code",
   "execution_count": 82,
   "metadata": {
    "collapsed": false,
    "deletable": true,
    "editable": true
   },
   "outputs": [
    {
     "data": {
      "text/plain": [
       "2000-01-31    NaN\n",
       "2000-02-29    NaN\n",
       "2000-03-31    4.0\n",
       "2000-04-30    5.0\n",
       "Freq: M, dtype: float64"
      ]
     },
     "execution_count": 82,
     "metadata": {},
     "output_type": "execute_result"
    }
   ],
   "source": [
    "ts.shift(2)"
   ]
  },
  {
   "cell_type": "code",
   "execution_count": 83,
   "metadata": {
    "collapsed": false,
    "deletable": true,
    "editable": true
   },
   "outputs": [
    {
     "data": {
      "text/plain": [
       "2000-01-31    1.0\n",
       "2000-02-29    5.0\n",
       "2000-03-31    NaN\n",
       "2000-04-30    NaN\n",
       "Freq: M, dtype: float64"
      ]
     },
     "execution_count": 83,
     "metadata": {},
     "output_type": "execute_result"
    }
   ],
   "source": [
    "ts.shift(-2)"
   ]
  },
  {
   "cell_type": "markdown",
   "metadata": {
    "deletable": true,
    "editable": true
   },
   "source": [
    "Un uso común de shift es calcular cambios porcentuales de series de tiempo"
   ]
  },
  {
   "cell_type": "code",
   "execution_count": 84,
   "metadata": {
    "collapsed": false,
    "deletable": true,
    "editable": true
   },
   "outputs": [
    {
     "data": {
      "text/plain": [
       "2000-01-31     NaN\n",
       "2000-02-29    0.25\n",
       "2000-03-31   -0.80\n",
       "2000-04-30    4.00\n",
       "Freq: M, dtype: float64"
      ]
     },
     "execution_count": 84,
     "metadata": {},
     "output_type": "execute_result"
    }
   ],
   "source": [
    "ts / ts.shift(1) -1"
   ]
  },
  {
   "cell_type": "markdown",
   "metadata": {
    "deletable": true,
    "editable": true
   },
   "source": [
    "Si pasamos el argumento 'freq' entonces dejamos de perder los datos en el shift"
   ]
  },
  {
   "cell_type": "code",
   "execution_count": 85,
   "metadata": {
    "collapsed": false,
    "deletable": true,
    "editable": true
   },
   "outputs": [
    {
     "data": {
      "text/plain": [
       "2000-03-31    4\n",
       "2000-04-30    5\n",
       "2000-05-31    1\n",
       "2000-06-30    5\n",
       "Freq: M, dtype: int64"
      ]
     },
     "execution_count": 85,
     "metadata": {},
     "output_type": "execute_result"
    }
   ],
   "source": [
    "ts.shift(2,freq=\"M\")"
   ]
  },
  {
   "cell_type": "code",
   "execution_count": 86,
   "metadata": {
    "collapsed": false,
    "deletable": true,
    "editable": true
   },
   "outputs": [
    {
     "data": {
      "text/plain": [
       "2000-02-03    4\n",
       "2000-03-03    5\n",
       "2000-04-03    1\n",
       "2000-05-03    5\n",
       "dtype: int64"
      ]
     },
     "execution_count": 86,
     "metadata": {},
     "output_type": "execute_result"
    }
   ],
   "source": [
    "ts.shift(3,freq=\"D\")"
   ]
  },
  {
   "cell_type": "markdown",
   "metadata": {
    "deletable": true,
    "editable": true
   },
   "source": [
    "### Periodos y aritmética de periodos"
   ]
  },
  {
   "cell_type": "code",
   "execution_count": 87,
   "metadata": {
    "collapsed": false,
    "deletable": true,
    "editable": true
   },
   "outputs": [
    {
     "data": {
      "text/plain": [
       "Period('2007', 'A-DEC')"
      ]
     },
     "execution_count": 87,
     "metadata": {},
     "output_type": "execute_result"
    }
   ],
   "source": [
    "p = pd.Period(2007,freq='A-DEC')\n",
    "p"
   ]
  },
  {
   "cell_type": "markdown",
   "metadata": {
    "deletable": true,
    "editable": true
   },
   "source": [
    "En este caso Period representa el año completo desde 1º de enero de 2017 hasta el 31 de diciembre de 2017"
   ]
  },
  {
   "cell_type": "markdown",
   "metadata": {
    "deletable": true,
    "editable": true
   },
   "source": [
    "Podemos entonces convenientemente modificar este objeto por su frequencia"
   ]
  },
  {
   "cell_type": "code",
   "execution_count": 88,
   "metadata": {
    "collapsed": false,
    "deletable": true,
    "editable": true
   },
   "outputs": [
    {
     "data": {
      "text/plain": [
       "Period('2012', 'A-DEC')"
      ]
     },
     "execution_count": 88,
     "metadata": {},
     "output_type": "execute_result"
    }
   ],
   "source": [
    "p+5"
   ]
  },
  {
   "cell_type": "code",
   "execution_count": 89,
   "metadata": {
    "collapsed": false,
    "deletable": true,
    "editable": true
   },
   "outputs": [
    {
     "data": {
      "text/plain": [
       "Period('2005', 'A-DEC')"
      ]
     },
     "execution_count": 89,
     "metadata": {},
     "output_type": "execute_result"
    }
   ],
   "source": [
    "p -2"
   ]
  },
  {
   "cell_type": "markdown",
   "metadata": {
    "deletable": true,
    "editable": true
   },
   "source": [
    "Para dos periodos con la misma frequencia, la diferencia es el número de unidades entre ellos"
   ]
  },
  {
   "cell_type": "code",
   "execution_count": 91,
   "metadata": {
    "collapsed": false,
    "deletable": true,
    "editable": true
   },
   "outputs": [
    {
     "data": {
      "text/plain": [
       "7"
      ]
     },
     "execution_count": 91,
     "metadata": {},
     "output_type": "execute_result"
    }
   ],
   "source": [
    "pd.Period('2014',freq='A-DEC') -p"
   ]
  },
  {
   "cell_type": "markdown",
   "metadata": {
    "deletable": true,
    "editable": true
   },
   "source": [
    "Se pueden generar rangos de periodos con la función period_range"
   ]
  },
  {
   "cell_type": "code",
   "execution_count": 93,
   "metadata": {
    "collapsed": false,
    "deletable": true,
    "editable": true
   },
   "outputs": [
    {
     "data": {
      "text/plain": [
       "PeriodIndex(['2000-01', '2000-02', '2000-03', '2000-04', '2000-05', '2000-06'], dtype='period[M]', freq='M')"
      ]
     },
     "execution_count": 93,
     "metadata": {},
     "output_type": "execute_result"
    }
   ],
   "source": [
    "rng = pd.period_range('2000-01-01','2000-06-30',freq='M')\n",
    "rng"
   ]
  },
  {
   "cell_type": "code",
   "execution_count": 94,
   "metadata": {
    "collapsed": false,
    "deletable": true,
    "editable": true
   },
   "outputs": [
    {
     "data": {
      "text/plain": [
       "2000-01   -1.724089\n",
       "2000-02   -0.617069\n",
       "2000-03    0.373127\n",
       "2000-04   -0.313610\n",
       "2000-05   -0.174441\n",
       "2000-06    0.874845\n",
       "Freq: M, dtype: float64"
      ]
     },
     "execution_count": 94,
     "metadata": {},
     "output_type": "execute_result"
    }
   ],
   "source": [
    "pd.Series(np.random.randn(6),index=rng)"
   ]
  },
  {
   "cell_type": "markdown",
   "metadata": {
    "deletable": true,
    "editable": true
   },
   "source": [
    "Si tenemos un arreglo de strings, podemos usar sin problema la clase PeriodIndezx para generarlo"
   ]
  },
  {
   "cell_type": "code",
   "execution_count": 96,
   "metadata": {
    "collapsed": true,
    "deletable": true,
    "editable": true
   },
   "outputs": [],
   "source": [
    "values = ['2001Q3', '2002Q2', '2003Q1']"
   ]
  },
  {
   "cell_type": "code",
   "execution_count": 97,
   "metadata": {
    "collapsed": false,
    "deletable": true,
    "editable": true
   },
   "outputs": [
    {
     "data": {
      "text/plain": [
       "PeriodIndex(['2001Q3', '2002Q2', '2003Q1'], dtype='period[Q-DEC]', freq='Q-DEC')"
      ]
     },
     "execution_count": 97,
     "metadata": {},
     "output_type": "execute_result"
    }
   ],
   "source": [
    "index =  pd.PeriodIndex(values, freq='Q-DEC')\n",
    "index"
   ]
  },
  {
   "cell_type": "markdown",
   "metadata": {
    "deletable": true,
    "editable": true
   },
   "source": [
    "Podemos transformar la frecuencia de un periodo utilizando el método asfreq"
   ]
  },
  {
   "cell_type": "code",
   "execution_count": 98,
   "metadata": {
    "collapsed": false,
    "deletable": true,
    "editable": true
   },
   "outputs": [
    {
     "data": {
      "text/plain": [
       "Period('2007', 'A-DEC')"
      ]
     },
     "execution_count": 98,
     "metadata": {},
     "output_type": "execute_result"
    }
   ],
   "source": [
    "p = pd.Period('2007', freq='A-DEC')\n",
    "p"
   ]
  },
  {
   "cell_type": "code",
   "execution_count": 99,
   "metadata": {
    "collapsed": false,
    "deletable": true,
    "editable": true
   },
   "outputs": [
    {
     "data": {
      "text/plain": [
       "Period('2007-01', 'M')"
      ]
     },
     "execution_count": 99,
     "metadata": {},
     "output_type": "execute_result"
    }
   ],
   "source": [
    "p.asfreq('M',how='start')"
   ]
  },
  {
   "cell_type": "code",
   "execution_count": 100,
   "metadata": {
    "collapsed": false,
    "deletable": true,
    "editable": true
   },
   "outputs": [
    {
     "data": {
      "text/plain": [
       "Period('2007-12', 'M')"
      ]
     },
     "execution_count": 100,
     "metadata": {},
     "output_type": "execute_result"
    }
   ],
   "source": [
    "p.asfreq('M',how='end')"
   ]
  },
  {
   "cell_type": "markdown",
   "metadata": {
    "deletable": true,
    "editable": true
   },
   "source": [
    "La misma operación podemos hacer con una serie de pandas"
   ]
  },
  {
   "cell_type": "code",
   "execution_count": 101,
   "metadata": {
    "collapsed": true,
    "deletable": true,
    "editable": true
   },
   "outputs": [],
   "source": [
    "rng = pd.period_range('2006', '2009', freq='A-DEC')"
   ]
  },
  {
   "cell_type": "code",
   "execution_count": 102,
   "metadata": {
    "collapsed": false,
    "deletable": true,
    "editable": true
   },
   "outputs": [
    {
     "data": {
      "text/plain": [
       "2006   -0.878989\n",
       "2007   -0.046284\n",
       "2008   -1.529993\n",
       "2009    1.006633\n",
       "Freq: A-DEC, dtype: float64"
      ]
     },
     "execution_count": 102,
     "metadata": {},
     "output_type": "execute_result"
    }
   ],
   "source": [
    "ts = pd.Series(np.random.randn(len(rng)), index=rng)\n",
    "ts"
   ]
  },
  {
   "cell_type": "code",
   "execution_count": 103,
   "metadata": {
    "collapsed": false,
    "deletable": true,
    "editable": true
   },
   "outputs": [
    {
     "data": {
      "text/plain": [
       "2006-01   -0.878989\n",
       "2007-01   -0.046284\n",
       "2008-01   -1.529993\n",
       "2009-01    1.006633\n",
       "Freq: M, dtype: float64"
      ]
     },
     "execution_count": 103,
     "metadata": {},
     "output_type": "execute_result"
    }
   ],
   "source": [
    "ts.asfreq('M', how='start')"
   ]
  },
  {
   "cell_type": "code",
   "execution_count": 104,
   "metadata": {
    "collapsed": false,
    "deletable": true,
    "editable": true
   },
   "outputs": [
    {
     "data": {
      "text/plain": [
       "2006-12-29   -0.878989\n",
       "2007-12-31   -0.046284\n",
       "2008-12-31   -1.529993\n",
       "2009-12-31    1.006633\n",
       "Freq: B, dtype: float64"
      ]
     },
     "execution_count": 104,
     "metadata": {},
     "output_type": "execute_result"
    }
   ],
   "source": [
    "ts.asfreq('B', how='end')"
   ]
  },
  {
   "cell_type": "markdown",
   "metadata": {
    "deletable": true,
    "editable": true
   },
   "source": [
    "### Convirtiendo timestamps en Periodos (y al revés)"
   ]
  },
  {
   "cell_type": "code",
   "execution_count": 105,
   "metadata": {
    "collapsed": true,
    "deletable": true,
    "editable": true
   },
   "outputs": [],
   "source": [
    "rng = pd.date_range('2000-01-01', periods=3, freq='M')"
   ]
  },
  {
   "cell_type": "code",
   "execution_count": 106,
   "metadata": {
    "collapsed": false,
    "deletable": true,
    "editable": true
   },
   "outputs": [
    {
     "data": {
      "text/plain": [
       "2000-01-31   -0.658264\n",
       "2000-02-29   -0.869466\n",
       "2000-03-31   -0.162146\n",
       "Freq: M, dtype: float64"
      ]
     },
     "execution_count": 106,
     "metadata": {},
     "output_type": "execute_result"
    }
   ],
   "source": [
    "ts = pd.Series(np.random.randn(3), index=rng)\n",
    "ts"
   ]
  },
  {
   "cell_type": "code",
   "execution_count": 108,
   "metadata": {
    "collapsed": false,
    "deletable": true,
    "editable": true
   },
   "outputs": [
    {
     "data": {
      "text/plain": [
       "2000-01   -0.658264\n",
       "2000-02   -0.869466\n",
       "2000-03   -0.162146\n",
       "Freq: M, dtype: float64"
      ]
     },
     "execution_count": 108,
     "metadata": {},
     "output_type": "execute_result"
    }
   ],
   "source": [
    "pts = ts.to_period()\n",
    "pts"
   ]
  },
  {
   "cell_type": "markdown",
   "metadata": {
    "deletable": true,
    "editable": true
   },
   "source": [
    "Como los periodos siempre se refieren a periodos de tiempo que no se cruzan, entonces cada timestamp pertenece siempre a un sólo periodo dada una frecuencia. Veamos otro ejemplo"
   ]
  },
  {
   "cell_type": "code",
   "execution_count": 109,
   "metadata": {
    "collapsed": true,
    "deletable": true,
    "editable": true
   },
   "outputs": [],
   "source": [
    "rng = pd.date_range('1/29/2000', periods=6, freq='D')"
   ]
  },
  {
   "cell_type": "code",
   "execution_count": 111,
   "metadata": {
    "collapsed": false,
    "deletable": true,
    "editable": true
   },
   "outputs": [
    {
     "data": {
      "text/plain": [
       "2000-01-29    0.066898\n",
       "2000-01-30   -0.598216\n",
       "2000-01-31    0.558223\n",
       "2000-02-01    2.529553\n",
       "2000-02-02    1.155174\n",
       "2000-02-03    0.752012\n",
       "Freq: D, dtype: float64"
      ]
     },
     "execution_count": 111,
     "metadata": {},
     "output_type": "execute_result"
    }
   ],
   "source": [
    "ts2 = pd.Series(np.random.randn(6), index=rng)\n",
    "ts2"
   ]
  },
  {
   "cell_type": "code",
   "execution_count": 112,
   "metadata": {
    "collapsed": false,
    "deletable": true,
    "editable": true
   },
   "outputs": [
    {
     "data": {
      "text/plain": [
       "2000-01    0.066898\n",
       "2000-01   -0.598216\n",
       "2000-01    0.558223\n",
       "2000-02    2.529553\n",
       "2000-02    1.155174\n",
       "2000-02    0.752012\n",
       "Freq: M, dtype: float64"
      ]
     },
     "execution_count": 112,
     "metadata": {},
     "output_type": "execute_result"
    }
   ],
   "source": [
    "ts2.to_period('M')"
   ]
  },
  {
   "cell_type": "markdown",
   "metadata": {
    "deletable": true,
    "editable": true
   },
   "source": [
    "Para regresar de nuevo a timestamps se utiliza el método to_timestamp"
   ]
  },
  {
   "cell_type": "code",
   "execution_count": 118,
   "metadata": {
    "collapsed": false,
    "deletable": true,
    "editable": true
   },
   "outputs": [
    {
     "data": {
      "text/plain": [
       "2000-01-29    0.066898\n",
       "2000-01-30   -0.598216\n",
       "2000-01-31    0.558223\n",
       "2000-02-01    2.529553\n",
       "2000-02-02    1.155174\n",
       "2000-02-03    0.752012\n",
       "Freq: D, dtype: float64"
      ]
     },
     "execution_count": 118,
     "metadata": {},
     "output_type": "execute_result"
    }
   ],
   "source": [
    "pts = ts2.to_period()\n",
    "pts"
   ]
  },
  {
   "cell_type": "code",
   "execution_count": 119,
   "metadata": {
    "collapsed": false,
    "deletable": true,
    "editable": true
   },
   "outputs": [
    {
     "data": {
      "text/plain": [
       "2000-01-29    0.066898\n",
       "2000-01-30   -0.598216\n",
       "2000-01-31    0.558223\n",
       "2000-02-01    2.529553\n",
       "2000-02-02    1.155174\n",
       "2000-02-03    0.752012\n",
       "Freq: D, dtype: float64"
      ]
     },
     "execution_count": 119,
     "metadata": {},
     "output_type": "execute_result"
    }
   ],
   "source": [
    "pts.to_timestamp(how='end')"
   ]
  },
  {
   "cell_type": "markdown",
   "metadata": {
    "deletable": true,
    "editable": true
   },
   "source": [
    "### Resampling y conversión de frecuencias "
   ]
  },
  {
   "cell_type": "markdown",
   "metadata": {
    "deletable": true,
    "editable": true
   },
   "source": [
    "**Resampling** se refiere al proceso de convertir una serie de tiempo de una frecuencia a otra. Agregar una serie de más alta frecuenca a una serie de baja frecuencia se llama *downsampling*, mientras que convertir una serie de más baja frecuencia a una serie de alta frencuencia se llama *upsampling*"
   ]
  },
  {
   "cell_type": "markdown",
   "metadata": {
    "deletable": true,
    "editable": true
   },
   "source": [
    "Del mismo modo que funciona groupby, tu llamas primero el método resample y después la medida de agregación que quieres utilizar"
   ]
  },
  {
   "cell_type": "code",
   "execution_count": 120,
   "metadata": {
    "collapsed": true,
    "deletable": true,
    "editable": true
   },
   "outputs": [],
   "source": [
    "rng = pd.date_range('2000-01-01', periods=100, freq='D')"
   ]
  },
  {
   "cell_type": "code",
   "execution_count": 121,
   "metadata": {
    "collapsed": true,
    "deletable": true,
    "editable": true
   },
   "outputs": [
    {
     "data": {
      "text/plain": [
       "2000-01-01   -0.117390\n",
       "2000-01-02   -0.298963\n",
       "2000-01-03    1.175240\n",
       "2000-01-04    0.042609\n",
       "2000-01-05    0.229503\n",
       "2000-01-06    0.341104\n",
       "2000-01-07    1.387376\n",
       "2000-01-08    1.759029\n",
       "2000-01-09   -0.781555\n",
       "2000-01-10    1.918021\n",
       "2000-01-11   -0.468963\n",
       "2000-01-12    0.869413\n",
       "2000-01-13    0.151096\n",
       "2000-01-14    0.067428\n",
       "2000-01-15   -1.946418\n",
       "2000-01-16   -0.264381\n",
       "2000-01-17    0.677319\n",
       "2000-01-18   -0.518318\n",
       "2000-01-19   -1.324571\n",
       "2000-01-20    0.836496\n",
       "2000-01-21    0.532353\n",
       "2000-01-22    0.296363\n",
       "2000-01-23   -1.866386\n",
       "2000-01-24   -1.575752\n",
       "2000-01-25   -0.332869\n",
       "2000-01-26   -0.206070\n",
       "2000-01-27    0.218355\n",
       "2000-01-28   -0.230340\n",
       "2000-01-29    0.755842\n",
       "2000-01-30    1.229982\n",
       "                ...   \n",
       "2000-03-11    0.454139\n",
       "2000-03-12    1.196218\n",
       "2000-03-13   -0.543403\n",
       "2000-03-14    0.660247\n",
       "2000-03-15    0.322940\n",
       "2000-03-16    1.626937\n",
       "2000-03-17   -0.057225\n",
       "2000-03-18    0.905796\n",
       "2000-03-19   -0.928647\n",
       "2000-03-20    0.036531\n",
       "2000-03-21   -0.322313\n",
       "2000-03-22    0.662662\n",
       "2000-03-23    0.321015\n",
       "2000-03-24    0.064208\n",
       "2000-03-25   -1.056981\n",
       "2000-03-26    0.156098\n",
       "2000-03-27   -0.336548\n",
       "2000-03-28   -1.087144\n",
       "2000-03-29    1.521736\n",
       "2000-03-30   -0.535864\n",
       "2000-03-31   -0.697158\n",
       "2000-04-01    1.534798\n",
       "2000-04-02    2.237104\n",
       "2000-04-03   -0.502784\n",
       "2000-04-04   -0.608365\n",
       "2000-04-05   -0.502584\n",
       "2000-04-06    1.899471\n",
       "2000-04-07    0.847570\n",
       "2000-04-08    0.170679\n",
       "2000-04-09   -1.725335\n",
       "Freq: D, dtype: float64"
      ]
     },
     "execution_count": 121,
     "metadata": {},
     "output_type": "execute_result"
    }
   ],
   "source": [
    "ts = pd.Series(np.random.randn(len(rng)), index=rng)\n",
    "ts"
   ]
  },
  {
   "cell_type": "code",
   "execution_count": 122,
   "metadata": {
    "collapsed": false,
    "deletable": true,
    "editable": true
   },
   "outputs": [
    {
     "data": {
      "text/plain": [
       "2000-01-31    0.064373\n",
       "2000-02-29   -0.241875\n",
       "2000-03-31    0.213399\n",
       "2000-04-30    0.372284\n",
       "Freq: M, dtype: float64"
      ]
     },
     "execution_count": 122,
     "metadata": {},
     "output_type": "execute_result"
    }
   ],
   "source": [
    " ts.resample('M').mean()"
   ]
  },
  {
   "cell_type": "code",
   "execution_count": 123,
   "metadata": {
    "collapsed": false,
    "deletable": true,
    "editable": true
   },
   "outputs": [
    {
     "data": {
      "text/plain": [
       "2000-01    0.064373\n",
       "2000-02   -0.241875\n",
       "2000-03    0.213399\n",
       "2000-04    0.372284\n",
       "Freq: M, dtype: float64"
      ]
     },
     "execution_count": 123,
     "metadata": {},
     "output_type": "execute_result"
    }
   ],
   "source": [
    "ts.resample('M', kind='period').mean()"
   ]
  },
  {
   "cell_type": "markdown",
   "metadata": {
    "deletable": true,
    "editable": true
   },
   "source": [
    "Para hacer *downsampling* hay dos cosas en las que nos debemos de fijar:\n",
    "<ol> \n",
    "<li> Donde cierra el intervalo </li>\n",
    "<li> Cómo llamar a cada intervalo de agregación (ya sea con el inicio del intervalo o el final)</li>\n",
    "</ol>"
   ]
  },
  {
   "cell_type": "markdown",
   "metadata": {
    "deletable": true,
    "editable": true
   },
   "source": [
    "Veamos un ejemplo"
   ]
  },
  {
   "cell_type": "code",
   "execution_count": 124,
   "metadata": {
    "collapsed": true,
    "deletable": true,
    "editable": true
   },
   "outputs": [],
   "source": [
    "rng = pd.date_range('2000-01-01', periods=12, freq='T')"
   ]
  },
  {
   "cell_type": "code",
   "execution_count": 125,
   "metadata": {
    "collapsed": true,
    "deletable": true,
    "editable": true
   },
   "outputs": [
    {
     "data": {
      "text/plain": [
       "2000-01-01 00:00:00     0\n",
       "2000-01-01 00:01:00     1\n",
       "2000-01-01 00:02:00     2\n",
       "2000-01-01 00:03:00     3\n",
       "2000-01-01 00:04:00     4\n",
       "2000-01-01 00:05:00     5\n",
       "2000-01-01 00:06:00     6\n",
       "2000-01-01 00:07:00     7\n",
       "2000-01-01 00:08:00     8\n",
       "2000-01-01 00:09:00     9\n",
       "2000-01-01 00:10:00    10\n",
       "2000-01-01 00:11:00    11\n",
       "Freq: T, dtype: int64"
      ]
     },
     "execution_count": 125,
     "metadata": {},
     "output_type": "execute_result"
    }
   ],
   "source": [
    "ts = pd.Series(np.arange(12), index=rng)\n",
    "ts"
   ]
  },
  {
   "cell_type": "markdown",
   "metadata": {
    "deletable": true,
    "editable": true
   },
   "source": [
    "Supongamos que quieres agregar estos datos en grupos de 5 minutos tomando la suma de cada grupo"
   ]
  },
  {
   "cell_type": "code",
   "execution_count": 126,
   "metadata": {
    "collapsed": false,
    "deletable": true,
    "editable": true
   },
   "outputs": [
    {
     "data": {
      "text/plain": [
       "1999-12-31 23:55:00     0\n",
       "2000-01-01 00:00:00    15\n",
       "2000-01-01 00:05:00    40\n",
       "2000-01-01 00:10:00    11\n",
       "Freq: 5T, dtype: int64"
      ]
     },
     "execution_count": 126,
     "metadata": {},
     "output_type": "execute_result"
    }
   ],
   "source": [
    "ts.resample('5min', closed='right').sum()"
   ]
  },
  {
   "cell_type": "code",
   "execution_count": 127,
   "metadata": {
    "collapsed": false,
    "deletable": true,
    "editable": true
   },
   "outputs": [
    {
     "data": {
      "text/plain": [
       "2000-01-01 00:00:00     0\n",
       "2000-01-01 00:05:00    15\n",
       "2000-01-01 00:10:00    40\n",
       "2000-01-01 00:15:00    11\n",
       "Freq: 5T, dtype: int64"
      ]
     },
     "execution_count": 127,
     "metadata": {},
     "output_type": "execute_result"
    }
   ],
   "source": [
    "ts.resample('5min', closed='right', label='right').sum()"
   ]
  },
  {
   "cell_type": "markdown",
   "metadata": {
    "deletable": true,
    "editable": true
   },
   "source": [
    "Ver este [link](https://www.dropbox.com/s/32jp1r9tovbjpkx/Screenshot%202017-11-03%2023.38.38.png?dl=0)"
   ]
  },
  {
   "cell_type": "markdown",
   "metadata": {},
   "source": [
    "Ahora veamos que para hacer upsampling no necesitamos medida de agregación. Primero, definimos nuestro dataframe"
   ]
  },
  {
   "cell_type": "code",
   "execution_count": 129,
   "metadata": {
    "collapsed": false
   },
   "outputs": [
    {
     "data": {
      "text/html": [
       "<div>\n",
       "<table border=\"1\" class=\"dataframe\">\n",
       "  <thead>\n",
       "    <tr style=\"text-align: right;\">\n",
       "      <th></th>\n",
       "      <th>Colorado</th>\n",
       "      <th>Texas</th>\n",
       "      <th>New York</th>\n",
       "      <th>Ohio</th>\n",
       "    </tr>\n",
       "  </thead>\n",
       "  <tbody>\n",
       "    <tr>\n",
       "      <th>2000-01-05</th>\n",
       "      <td>1.54648</td>\n",
       "      <td>0.201085</td>\n",
       "      <td>-0.868298</td>\n",
       "      <td>-0.751121</td>\n",
       "    </tr>\n",
       "    <tr>\n",
       "      <th>2000-01-12</th>\n",
       "      <td>-0.20402</td>\n",
       "      <td>1.363546</td>\n",
       "      <td>-0.417100</td>\n",
       "      <td>2.412191</td>\n",
       "    </tr>\n",
       "  </tbody>\n",
       "</table>\n",
       "</div>"
      ],
      "text/plain": [
       "            Colorado     Texas  New York      Ohio\n",
       "2000-01-05   1.54648  0.201085 -0.868298 -0.751121\n",
       "2000-01-12  -0.20402  1.363546 -0.417100  2.412191"
      ]
     },
     "execution_count": 129,
     "metadata": {},
     "output_type": "execute_result"
    }
   ],
   "source": [
    "frame = pd.DataFrame(np.random.randn(2, 4),\n",
    "                      index=pd.date_range('1/1/2000', periods=2,\n",
    "                                          freq='W-WED'),\n",
    "                      columns=['Colorado', 'Texas', 'New York', 'Ohio'])\n",
    "frame"
   ]
  },
  {
   "cell_type": "code",
   "execution_count": 130,
   "metadata": {
    "collapsed": false
   },
   "outputs": [
    {
     "data": {
      "text/html": [
       "<div>\n",
       "<table border=\"1\" class=\"dataframe\">\n",
       "  <thead>\n",
       "    <tr style=\"text-align: right;\">\n",
       "      <th></th>\n",
       "      <th>Colorado</th>\n",
       "      <th>Texas</th>\n",
       "      <th>New York</th>\n",
       "      <th>Ohio</th>\n",
       "    </tr>\n",
       "  </thead>\n",
       "  <tbody>\n",
       "    <tr>\n",
       "      <th>2000-01-05</th>\n",
       "      <td>1.54648</td>\n",
       "      <td>0.201085</td>\n",
       "      <td>-0.868298</td>\n",
       "      <td>-0.751121</td>\n",
       "    </tr>\n",
       "    <tr>\n",
       "      <th>2000-01-06</th>\n",
       "      <td>NaN</td>\n",
       "      <td>NaN</td>\n",
       "      <td>NaN</td>\n",
       "      <td>NaN</td>\n",
       "    </tr>\n",
       "    <tr>\n",
       "      <th>2000-01-07</th>\n",
       "      <td>NaN</td>\n",
       "      <td>NaN</td>\n",
       "      <td>NaN</td>\n",
       "      <td>NaN</td>\n",
       "    </tr>\n",
       "    <tr>\n",
       "      <th>2000-01-08</th>\n",
       "      <td>NaN</td>\n",
       "      <td>NaN</td>\n",
       "      <td>NaN</td>\n",
       "      <td>NaN</td>\n",
       "    </tr>\n",
       "    <tr>\n",
       "      <th>2000-01-09</th>\n",
       "      <td>NaN</td>\n",
       "      <td>NaN</td>\n",
       "      <td>NaN</td>\n",
       "      <td>NaN</td>\n",
       "    </tr>\n",
       "    <tr>\n",
       "      <th>2000-01-10</th>\n",
       "      <td>NaN</td>\n",
       "      <td>NaN</td>\n",
       "      <td>NaN</td>\n",
       "      <td>NaN</td>\n",
       "    </tr>\n",
       "    <tr>\n",
       "      <th>2000-01-11</th>\n",
       "      <td>NaN</td>\n",
       "      <td>NaN</td>\n",
       "      <td>NaN</td>\n",
       "      <td>NaN</td>\n",
       "    </tr>\n",
       "    <tr>\n",
       "      <th>2000-01-12</th>\n",
       "      <td>-0.20402</td>\n",
       "      <td>1.363546</td>\n",
       "      <td>-0.417100</td>\n",
       "      <td>2.412191</td>\n",
       "    </tr>\n",
       "  </tbody>\n",
       "</table>\n",
       "</div>"
      ],
      "text/plain": [
       "            Colorado     Texas  New York      Ohio\n",
       "2000-01-05   1.54648  0.201085 -0.868298 -0.751121\n",
       "2000-01-06       NaN       NaN       NaN       NaN\n",
       "2000-01-07       NaN       NaN       NaN       NaN\n",
       "2000-01-08       NaN       NaN       NaN       NaN\n",
       "2000-01-09       NaN       NaN       NaN       NaN\n",
       "2000-01-10       NaN       NaN       NaN       NaN\n",
       "2000-01-11       NaN       NaN       NaN       NaN\n",
       "2000-01-12  -0.20402  1.363546 -0.417100  2.412191"
      ]
     },
     "execution_count": 130,
     "metadata": {},
     "output_type": "execute_result"
    }
   ],
   "source": [
    "df_daily = frame.resample('D').asfreq()\n",
    "df_daily"
   ]
  },
  {
   "cell_type": "code",
   "execution_count": 131,
   "metadata": {
    "collapsed": false
   },
   "outputs": [
    {
     "data": {
      "text/html": [
       "<div>\n",
       "<table border=\"1\" class=\"dataframe\">\n",
       "  <thead>\n",
       "    <tr style=\"text-align: right;\">\n",
       "      <th></th>\n",
       "      <th>Colorado</th>\n",
       "      <th>Texas</th>\n",
       "      <th>New York</th>\n",
       "      <th>Ohio</th>\n",
       "    </tr>\n",
       "  </thead>\n",
       "  <tbody>\n",
       "    <tr>\n",
       "      <th>2000-01-05</th>\n",
       "      <td>1.54648</td>\n",
       "      <td>0.201085</td>\n",
       "      <td>-0.868298</td>\n",
       "      <td>-0.751121</td>\n",
       "    </tr>\n",
       "    <tr>\n",
       "      <th>2000-01-06</th>\n",
       "      <td>1.54648</td>\n",
       "      <td>0.201085</td>\n",
       "      <td>-0.868298</td>\n",
       "      <td>-0.751121</td>\n",
       "    </tr>\n",
       "    <tr>\n",
       "      <th>2000-01-07</th>\n",
       "      <td>1.54648</td>\n",
       "      <td>0.201085</td>\n",
       "      <td>-0.868298</td>\n",
       "      <td>-0.751121</td>\n",
       "    </tr>\n",
       "    <tr>\n",
       "      <th>2000-01-08</th>\n",
       "      <td>1.54648</td>\n",
       "      <td>0.201085</td>\n",
       "      <td>-0.868298</td>\n",
       "      <td>-0.751121</td>\n",
       "    </tr>\n",
       "    <tr>\n",
       "      <th>2000-01-09</th>\n",
       "      <td>1.54648</td>\n",
       "      <td>0.201085</td>\n",
       "      <td>-0.868298</td>\n",
       "      <td>-0.751121</td>\n",
       "    </tr>\n",
       "    <tr>\n",
       "      <th>2000-01-10</th>\n",
       "      <td>1.54648</td>\n",
       "      <td>0.201085</td>\n",
       "      <td>-0.868298</td>\n",
       "      <td>-0.751121</td>\n",
       "    </tr>\n",
       "    <tr>\n",
       "      <th>2000-01-11</th>\n",
       "      <td>1.54648</td>\n",
       "      <td>0.201085</td>\n",
       "      <td>-0.868298</td>\n",
       "      <td>-0.751121</td>\n",
       "    </tr>\n",
       "    <tr>\n",
       "      <th>2000-01-12</th>\n",
       "      <td>-0.20402</td>\n",
       "      <td>1.363546</td>\n",
       "      <td>-0.417100</td>\n",
       "      <td>2.412191</td>\n",
       "    </tr>\n",
       "  </tbody>\n",
       "</table>\n",
       "</div>"
      ],
      "text/plain": [
       "            Colorado     Texas  New York      Ohio\n",
       "2000-01-05   1.54648  0.201085 -0.868298 -0.751121\n",
       "2000-01-06   1.54648  0.201085 -0.868298 -0.751121\n",
       "2000-01-07   1.54648  0.201085 -0.868298 -0.751121\n",
       "2000-01-08   1.54648  0.201085 -0.868298 -0.751121\n",
       "2000-01-09   1.54648  0.201085 -0.868298 -0.751121\n",
       "2000-01-10   1.54648  0.201085 -0.868298 -0.751121\n",
       "2000-01-11   1.54648  0.201085 -0.868298 -0.751121\n",
       "2000-01-12  -0.20402  1.363546 -0.417100  2.412191"
      ]
     },
     "execution_count": 131,
     "metadata": {},
     "output_type": "execute_result"
    }
   ],
   "source": [
    "frame.resample('D').ffill()"
   ]
  },
  {
   "cell_type": "markdown",
   "metadata": {},
   "source": [
    "De la misma manera podemos decidir el número de periodos a llenar"
   ]
  },
  {
   "cell_type": "code",
   "execution_count": 132,
   "metadata": {
    "collapsed": false
   },
   "outputs": [
    {
     "data": {
      "text/html": [
       "<div>\n",
       "<table border=\"1\" class=\"dataframe\">\n",
       "  <thead>\n",
       "    <tr style=\"text-align: right;\">\n",
       "      <th></th>\n",
       "      <th>Colorado</th>\n",
       "      <th>Texas</th>\n",
       "      <th>New York</th>\n",
       "      <th>Ohio</th>\n",
       "    </tr>\n",
       "  </thead>\n",
       "  <tbody>\n",
       "    <tr>\n",
       "      <th>2000-01-05</th>\n",
       "      <td>1.54648</td>\n",
       "      <td>0.201085</td>\n",
       "      <td>-0.868298</td>\n",
       "      <td>-0.751121</td>\n",
       "    </tr>\n",
       "    <tr>\n",
       "      <th>2000-01-06</th>\n",
       "      <td>1.54648</td>\n",
       "      <td>0.201085</td>\n",
       "      <td>-0.868298</td>\n",
       "      <td>-0.751121</td>\n",
       "    </tr>\n",
       "    <tr>\n",
       "      <th>2000-01-07</th>\n",
       "      <td>1.54648</td>\n",
       "      <td>0.201085</td>\n",
       "      <td>-0.868298</td>\n",
       "      <td>-0.751121</td>\n",
       "    </tr>\n",
       "    <tr>\n",
       "      <th>2000-01-08</th>\n",
       "      <td>NaN</td>\n",
       "      <td>NaN</td>\n",
       "      <td>NaN</td>\n",
       "      <td>NaN</td>\n",
       "    </tr>\n",
       "    <tr>\n",
       "      <th>2000-01-09</th>\n",
       "      <td>NaN</td>\n",
       "      <td>NaN</td>\n",
       "      <td>NaN</td>\n",
       "      <td>NaN</td>\n",
       "    </tr>\n",
       "    <tr>\n",
       "      <th>2000-01-10</th>\n",
       "      <td>NaN</td>\n",
       "      <td>NaN</td>\n",
       "      <td>NaN</td>\n",
       "      <td>NaN</td>\n",
       "    </tr>\n",
       "    <tr>\n",
       "      <th>2000-01-11</th>\n",
       "      <td>NaN</td>\n",
       "      <td>NaN</td>\n",
       "      <td>NaN</td>\n",
       "      <td>NaN</td>\n",
       "    </tr>\n",
       "    <tr>\n",
       "      <th>2000-01-12</th>\n",
       "      <td>-0.20402</td>\n",
       "      <td>1.363546</td>\n",
       "      <td>-0.417100</td>\n",
       "      <td>2.412191</td>\n",
       "    </tr>\n",
       "  </tbody>\n",
       "</table>\n",
       "</div>"
      ],
      "text/plain": [
       "            Colorado     Texas  New York      Ohio\n",
       "2000-01-05   1.54648  0.201085 -0.868298 -0.751121\n",
       "2000-01-06   1.54648  0.201085 -0.868298 -0.751121\n",
       "2000-01-07   1.54648  0.201085 -0.868298 -0.751121\n",
       "2000-01-08       NaN       NaN       NaN       NaN\n",
       "2000-01-09       NaN       NaN       NaN       NaN\n",
       "2000-01-10       NaN       NaN       NaN       NaN\n",
       "2000-01-11       NaN       NaN       NaN       NaN\n",
       "2000-01-12  -0.20402  1.363546 -0.417100  2.412191"
      ]
     },
     "execution_count": 132,
     "metadata": {},
     "output_type": "execute_result"
    }
   ],
   "source": [
    "frame.resample('D').ffill(limit=2)"
   ]
  },
  {
   "cell_type": "markdown",
   "metadata": {},
   "source": [
    "o un periodo que no tenga overlap con el anterior"
   ]
  },
  {
   "cell_type": "code",
   "execution_count": 133,
   "metadata": {
    "collapsed": false
   },
   "outputs": [
    {
     "data": {
      "text/html": [
       "<div>\n",
       "<table border=\"1\" class=\"dataframe\">\n",
       "  <thead>\n",
       "    <tr style=\"text-align: right;\">\n",
       "      <th></th>\n",
       "      <th>Colorado</th>\n",
       "      <th>Texas</th>\n",
       "      <th>New York</th>\n",
       "      <th>Ohio</th>\n",
       "    </tr>\n",
       "  </thead>\n",
       "  <tbody>\n",
       "    <tr>\n",
       "      <th>2000-01-06</th>\n",
       "      <td>1.54648</td>\n",
       "      <td>0.201085</td>\n",
       "      <td>-0.868298</td>\n",
       "      <td>-0.751121</td>\n",
       "    </tr>\n",
       "    <tr>\n",
       "      <th>2000-01-13</th>\n",
       "      <td>-0.20402</td>\n",
       "      <td>1.363546</td>\n",
       "      <td>-0.417100</td>\n",
       "      <td>2.412191</td>\n",
       "    </tr>\n",
       "  </tbody>\n",
       "</table>\n",
       "</div>"
      ],
      "text/plain": [
       "            Colorado     Texas  New York      Ohio\n",
       "2000-01-06   1.54648  0.201085 -0.868298 -0.751121\n",
       "2000-01-13  -0.20402  1.363546 -0.417100  2.412191"
      ]
     },
     "execution_count": 133,
     "metadata": {},
     "output_type": "execute_result"
    }
   ],
   "source": [
    "frame.resample('W-THU').ffill()"
   ]
  },
  {
   "cell_type": "markdown",
   "metadata": {},
   "source": [
    "### Resampling con Periodos"
   ]
  },
  {
   "cell_type": "markdown",
   "metadata": {},
   "source": [
    "Primero definimos el DataFrame"
   ]
  },
  {
   "cell_type": "code",
   "execution_count": 136,
   "metadata": {
    "collapsed": false
   },
   "outputs": [
    {
     "data": {
      "text/html": [
       "<div>\n",
       "<table border=\"1\" class=\"dataframe\">\n",
       "  <thead>\n",
       "    <tr style=\"text-align: right;\">\n",
       "      <th></th>\n",
       "      <th>Colorado</th>\n",
       "      <th>Texas</th>\n",
       "      <th>New York</th>\n",
       "      <th>Ohio</th>\n",
       "    </tr>\n",
       "  </thead>\n",
       "  <tbody>\n",
       "    <tr>\n",
       "      <th>2000-01</th>\n",
       "      <td>-0.188508</td>\n",
       "      <td>-1.448430</td>\n",
       "      <td>-1.666069</td>\n",
       "      <td>0.001038</td>\n",
       "    </tr>\n",
       "    <tr>\n",
       "      <th>2000-02</th>\n",
       "      <td>0.980678</td>\n",
       "      <td>-0.468383</td>\n",
       "      <td>0.799029</td>\n",
       "      <td>0.254968</td>\n",
       "    </tr>\n",
       "    <tr>\n",
       "      <th>2000-03</th>\n",
       "      <td>0.199986</td>\n",
       "      <td>-2.085751</td>\n",
       "      <td>-1.074219</td>\n",
       "      <td>-1.277166</td>\n",
       "    </tr>\n",
       "    <tr>\n",
       "      <th>2000-04</th>\n",
       "      <td>1.423189</td>\n",
       "      <td>1.660056</td>\n",
       "      <td>-1.213439</td>\n",
       "      <td>-0.208225</td>\n",
       "    </tr>\n",
       "    <tr>\n",
       "      <th>2000-05</th>\n",
       "      <td>-0.147703</td>\n",
       "      <td>1.480924</td>\n",
       "      <td>0.894544</td>\n",
       "      <td>0.980075</td>\n",
       "    </tr>\n",
       "  </tbody>\n",
       "</table>\n",
       "</div>"
      ],
      "text/plain": [
       "         Colorado     Texas  New York      Ohio\n",
       "2000-01 -0.188508 -1.448430 -1.666069  0.001038\n",
       "2000-02  0.980678 -0.468383  0.799029  0.254968\n",
       "2000-03  0.199986 -2.085751 -1.074219 -1.277166\n",
       "2000-04  1.423189  1.660056 -1.213439 -0.208225\n",
       "2000-05 -0.147703  1.480924  0.894544  0.980075"
      ]
     },
     "execution_count": 136,
     "metadata": {},
     "output_type": "execute_result"
    }
   ],
   "source": [
    "frame = pd.DataFrame(np.random.randn(24, 4),\n",
    "                      index=pd.period_range('1-2000', '12-2001',\n",
    "                                            freq='M'),\n",
    "                      columns=['Colorado', 'Texas', 'New York', 'Ohio'])\n",
    "frame.head()"
   ]
  },
  {
   "cell_type": "markdown",
   "metadata": {},
   "source": [
    "Ahora podemos agregar los años utilizando la media como medida de agregación"
   ]
  },
  {
   "cell_type": "code",
   "execution_count": 137,
   "metadata": {
    "collapsed": false
   },
   "outputs": [
    {
     "data": {
      "text/html": [
       "<div>\n",
       "<table border=\"1\" class=\"dataframe\">\n",
       "  <thead>\n",
       "    <tr style=\"text-align: right;\">\n",
       "      <th></th>\n",
       "      <th>Colorado</th>\n",
       "      <th>Texas</th>\n",
       "      <th>New York</th>\n",
       "      <th>Ohio</th>\n",
       "    </tr>\n",
       "  </thead>\n",
       "  <tbody>\n",
       "    <tr>\n",
       "      <th>2000</th>\n",
       "      <td>0.506686</td>\n",
       "      <td>-0.265032</td>\n",
       "      <td>-0.336571</td>\n",
       "      <td>-0.000564</td>\n",
       "    </tr>\n",
       "    <tr>\n",
       "      <th>2001</th>\n",
       "      <td>-0.725463</td>\n",
       "      <td>-0.084245</td>\n",
       "      <td>0.053198</td>\n",
       "      <td>-0.538653</td>\n",
       "    </tr>\n",
       "  </tbody>\n",
       "</table>\n",
       "</div>"
      ],
      "text/plain": [
       "      Colorado     Texas  New York      Ohio\n",
       "2000  0.506686 -0.265032 -0.336571 -0.000564\n",
       "2001 -0.725463 -0.084245  0.053198 -0.538653"
      ]
     },
     "execution_count": 137,
     "metadata": {},
     "output_type": "execute_result"
    }
   ],
   "source": [
    "annual_frame = frame.resample('A-DEC').mean()\n",
    "annual_frame"
   ]
  }
 ],
 "metadata": {
  "kernelspec": {
   "display_name": "Python 3",
   "language": "python",
   "name": "python3"
  },
  "language_info": {
   "codemirror_mode": {
    "name": "ipython",
    "version": 3
   },
   "file_extension": ".py",
   "mimetype": "text/x-python",
   "name": "python",
   "nbconvert_exporter": "python",
   "pygments_lexer": "ipython3",
   "version": "3.5.2"
  }
 },
 "nbformat": 4,
 "nbformat_minor": 2
}
