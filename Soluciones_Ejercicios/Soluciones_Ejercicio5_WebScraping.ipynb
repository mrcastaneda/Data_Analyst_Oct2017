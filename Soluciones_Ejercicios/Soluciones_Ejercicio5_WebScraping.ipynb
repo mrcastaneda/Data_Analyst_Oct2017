{
 "cells": [
  {
   "cell_type": "markdown",
   "metadata": {
    "deletable": true,
    "editable": true
   },
   "source": [
    "# Ejercicio Web Scraping con Beautiful Soup"
   ]
  },
  {
   "cell_type": "markdown",
   "metadata": {
    "deletable": true,
    "editable": true
   },
   "source": [
    "### 1. Importa las librerías necesarias (BeatifulSoup, urllib y re)"
   ]
  },
  {
   "cell_type": "code",
   "execution_count": 1,
   "metadata": {
    "collapsed": true,
    "deletable": true,
    "editable": true
   },
   "outputs": [],
   "source": [
    "from bs4 import BeautifulSoup\n",
    "from urllib.request import urlopen\n",
    "import re"
   ]
  },
  {
   "cell_type": "markdown",
   "metadata": {
    "deletable": true,
    "editable": true
   },
   "source": [
    "### 2. Lee el contenido de la siguiente [liga](https://analytics.usa.gov) con la función urlopen() y crea un objeto del tipo BeautifulSoup"
   ]
  },
  {
   "cell_type": "code",
   "execution_count": 2,
   "metadata": {
    "collapsed": false,
    "deletable": true,
    "editable": true
   },
   "outputs": [
    {
     "data": {
      "text/plain": [
       "bs4.BeautifulSoup"
      ]
     },
     "execution_count": 2,
     "metadata": {},
     "output_type": "execute_result"
    }
   ],
   "source": [
    "html = urlopen('https://analytics.usa.gov')\n",
    "soup = BeautifulSoup(html, \"lxml\")\n",
    "type(soup)"
   ]
  },
  {
   "cell_type": "markdown",
   "metadata": {
    "deletable": true,
    "editable": true
   },
   "source": [
    "### 3. Muestra el html que obtuviste en el paso anterior"
   ]
  },
  {
   "cell_type": "code",
   "execution_count": 3,
   "metadata": {
    "collapsed": true,
    "deletable": true,
    "editable": true
   },
   "outputs": [
    {
     "name": "stdout",
     "output_type": "stream",
     "text": [
      "<!DOCTYPE html>\n",
      "<html lang=\"en\">\n",
      "<!-- Initalize title and data source variables -->\n",
      "<head>\n",
      "<!--\n",
      "\n",
      "    Hi! Welcome to our source code.\n",
      "\n",
      "    This dashboard uses data from the Digital Analytics Program, a US\n",
      "    government team inside the General Services Administration, an independent\n",
      "    federal agency.\n",
      "\n",
      "\n",
      "    For a detailed tech breakdown of how 18F and friends built this site:\n",
      "\n",
      "    https://18f.gsa.gov/2015/03/19/how-we-built-analytics-usa-gov/\n",
      "\n",
      "\n",
      "    This is a fully open source project, and your contributions are welcome.\n",
      "\n",
      "    Frontend static site: https://github.com/GSA/analytics.usa.gov\n",
      "    Backend data reporting: https://github.com/18F/analytics-reporter\n",
      "\n",
      "    -->\n",
      "<meta charset=\"utf-8\"/>\n",
      "<meta content=\"IE=Edge\" http-equiv=\"X-UA-Compatible\"/>\n",
      "<meta content=\"NjbZn6hQe7OwV-nTsa6nLmtrOUcSGPRyFjxm5zkmCcg\" name=\"google-site-verification\"/>\n",
      "<link href=\"/css/vendor/css/uswds.v0.9.1.css\" rel=\"stylesheet\"/>\n",
      "<link href=\"/css/public_analytics.css\" rel=\"stylesheet\"/>\n",
      "<link href=\"/images/analytics-favicon.ico\" rel=\"icon\" type=\"image/x-icon\"/>\n",
      "<meta content=\"@usgsa\" name=\"twitter:site\"/>\n",
      "<meta content=\"@usgsa\" name=\"twitter:creator\"/>\n",
      "<meta content=\"website\" property=\"og:type\"/>\n",
      "<meta content=\"https://analytics.usa.gov\" property=\"og:url\"/>\n",
      "<link href=\"https://analytics.usa.gov\" rel=\"canonical\"/>\n",
      "<title>analytics.usa.gov | The US government's web traffic.</title>\n",
      "<meta content=\"analytics.usa.gov | The US government's web traffic.\" property=\"og:title\"/>\n",
      "<meta content=\"analytics.usa.gov | The US government's web traffic.\" property=\"og:site_name\"/>\n",
      "<meta content=\"Official data on web traffic to hundreds of US federal government websites. Published by the Digital Analytics Program.\" name=\"description\"/>\n",
      "<meta content=\"Official data on web traffic to hundreds of US federal government websites. Published by the Digital Analytics Program.\" property=\"og:description\"/>\n",
      "<meta content=\"summary_large_image\" name=\"twitter:card\"/>\n",
      "<meta content=\"https://analytics.usa.gov/images/share-image.png\" property=\"og:image\"/>\n",
      "<script src=\"/js/vendor/d3.v3.min.js\"></script>\n",
      "<!-- Google Tag Manager -->\n",
      "<script>(function(w,d,s,l,i){w[l]=w[l]||[];w[l].push({'gtm.start':\n",
      "    new Date().getTime(),event:'gtm.js'});var f=d.getElementsByTagName(s)[0],\n",
      "    j=d.createElement(s),dl=l!='dataLayer'?'&l='+l:'';j.async=true;j.src=\n",
      "    'https://www.googletagmanager.com/gtm.js?id='+i+dl;f.parentNode.insertBefore(j,f);\n",
      "    })(window,document,'script','dataLayer','GTM-MQSGZS');</script>\n",
      "<!-- End Google Tag Manager -->\n",
      "<script>\n",
      "    (function(i,s,o,g,r,a,m){i['GoogleAnalyticsObject']=r;i[r]=i[r]||function(){\n",
      "  (i[r].q=i[r].q||[]).push(arguments)},i[r].l=1*new Date();a=s.createElement(o),\n",
      "  m=s.getElementsByTagName(o)[0];a.async=1;a.src=g;m.parentNode.insertBefore(a,m)\n",
      "  })(window,document,'script','https://www.google-analytics.com/analytics.js','ga');\n",
      "\n",
      "    ga('create', 'UA-48605964-36', 'auto');\n",
      "    ga('set', 'anonymizeIp', true);\n",
      "    ga('set', 'forceSSL', true);\n",
      "    ga('send', 'pageview');\n",
      "\n",
      "    document.addEventListener(\"DOMContentLoaded\", function(event) {\n",
      "\n",
      "      d3.selectAll('.download-data').on('click', function() {\n",
      "        var link = this.href;\n",
      "        var text = this.text;\n",
      "        ga('send','event','Download Data', link, text);\n",
      "      });\n",
      "\n",
      "      d3.selectAll('.external-link').on('click', function() {\n",
      "        var link = this.href;\n",
      "        var text = this.text;\n",
      "        ga('send','event','External Link', link, text);\n",
      "      });\n",
      "\n",
      "      d3.selectAll('.top-download-page').on('click', function() {\n",
      "        var link = this.href;\n",
      "        var text = this.text;\n",
      "        ga('send','event','Top-Download Page', link, text);\n",
      "      });\n",
      "\n",
      "      d3.selectAll('.top-download-file').on('click', function() {\n",
      "        var link = this.href;\n",
      "        var text = this.text;\n",
      "        ga('send','event','Top-Download File', link, text);\n",
      "      });\n",
      "\n",
      "    });\n",
      "  </script>\n",
      "<!--[if lte IE 9]>\n",
      "    <script src=\"/js/vendor/aight.v2.min.js\"></script>\n",
      "    <![endif]-->\n",
      "<script src=\"/js/vendor/q.min.js\"></script>\n",
      "<meta content=\"width=device-width, initial-scale=1.0\" name=\"viewport\"/>\n",
      "<link href=\"/css/google-fonts.css\" rel=\"stylesheet\"/>\n",
      "</head>\n",
      "<body>\n",
      "<!-- Google Tag Manager (noscript) -->\n",
      "<noscript><iframe height=\"0\" src=\"https://www.googletagmanager.com/ns.html?id=GTM-MQSGZS\" style=\"display:none;visibility:hidden\" width=\"0\"></iframe></noscript>\n",
      "<!-- End Google Tag Manager (noscript) -->\n",
      "<header>\n",
      "<div class=\"inner clearfix\">\n",
      "<h1>\n",
      "<a class=\"external-link\" href=\"/\">\n",
      "<strong>analytics</strong>.usa.gov\n",
      "              </a>\n",
      "</h1>\n",
      "<ul class=\"links\">\n",
      "<li><a href=\"#explanation\">About <span class=\"sm-hide\">this site</span></a></li>\n",
      "<li><a href=\"https://analytics.usa.gov/data/\">Data</a></li>\n",
      "</ul>\n",
      "<div class=\"agency-selector-wrap\">\n",
      "<form>\n",
      "<label for=\"agency-selector\">Select an agency</label>\n",
      "<select id=\"agency-selector\" name=\"agency-selector\" title=\"Agency Selection Dropdown\">\n",
      "<option value=\"/\">All Participating Websites</option>\n",
      "<option value=\"/agency-international-development/\">Agency for International Development</option>\n",
      "<option value=\"/agriculture/\">Department of Agriculture</option>\n",
      "<option value=\"/commerce/\">Department of Commerce</option>\n",
      "<option value=\"/defense/\">Department of Defense</option>\n",
      "<option value=\"/education/\">Department of Education</option>\n",
      "<option value=\"/energy/\">Department of Energy</option>\n",
      "<option value=\"/health-human-services/\">Department of Health and Human Services</option>\n",
      "<option value=\"/homeland-security/\">Department of Homeland Security</option>\n",
      "<option value=\"/housing-urban-development/\">Department of Housing and Urban Development</option>\n",
      "<option value=\"/justice/\">Department of Justice</option>\n",
      "<option value=\"/labor/\">Department of Labor</option>\n",
      "<option value=\"/state/\">Department of State</option>\n",
      "<option value=\"/transportation/\">Department of Transportation</option>\n",
      "<option value=\"/veterans-affairs/\">Department of Veterans Affairs</option>\n",
      "<option value=\"/interior/\">Department of the Interior</option>\n",
      "<option value=\"/treasury/\">Department of the Treasury</option>\n",
      "<option value=\"/environmental-protection-agency/\">Environmental Protection Agency</option>\n",
      "<option value=\"/executive-office-president/\">Executive Office of the President</option>\n",
      "<option value=\"/general-services-administration/\">General Services Administration</option>\n",
      "<option value=\"/national-aeronautics-space-administration/\">National Aeronautics and Space Administration</option>\n",
      "<option value=\"/national-archives-records-administration/\">National Archives and Records Administration</option>\n",
      "<option value=\"/national-science-foundation/\">National Science Foundation</option>\n",
      "<option value=\"/nuclear-regulatory-commission/\">Nuclear Regulatory Commission</option>\n",
      "<option value=\"/office-personnel-management/\">Office of Personnel Management</option>\n",
      "<option value=\"/postal-service/\">Postal Service</option>\n",
      "<option value=\"/small-business-administration/\">Small Business Administration</option>\n",
      "<option value=\"/social-security-administration/\">Social Security Administration</option>\n",
      "</select>\n",
      "</form>\n",
      "</div>\n",
      "</div>\n",
      "</header>\n",
      "<div class=\"container\">\n",
      "<!--\n",
      "      JavaScript block hooks look for any element with both data-block and\n",
      "      data-source attributes:\n",
      "      <section data-block=\"users\" data-source=\"path/to/data.json\">\n",
      "        The \"loading\", \"loaded\", and \"error\" classes are set on this element\n",
      "        the data-source URL is loaded. Then the renderer is called on the first\n",
      "        child of the block with the \"data\" class:\n",
      "        <div class=\"data\">\n",
      "        </div>\n",
      "        Some renderers expect to be called on HTML tables, in which\n",
      "        case you would use:\n",
      "        <table class=\"data\">\n",
      "        </table>\n",
      "      </section>\n",
      "      -->\n",
      "<div class=\"width-two-thirds\" id=\"main_data\">\n",
      "<section data-block=\"realtime\" data-refresh=\"15\" data-source=\"https://analytics.usa.gov/data/live/realtime.json\" id=\"realtime\">\n",
      "<h2 class=\"data\" id=\"current_visitors\">...</h2>\n",
      "<div class=\"chart_subtitle\">people on government websites now</div>\n",
      "</section>\n",
      "<section class=\"section_headline visits_today\">\n",
      "<h3>Visits Today</h3>\n",
      "<h4>Eastern Time</h4>\n",
      "</section>\n",
      "<section data-block=\"today\" data-refresh=\"15\" data-source=\"https://analytics.usa.gov/data/live/today.json\" id=\"time_series\">\n",
      "<svg class=\"data time-series\">\n",
      "</svg>\n",
      "</section>\n",
      "<section class=\"section_headline\">\n",
      "<h3>Visits in the Past 90 Days</h3>\n",
      "</section>\n",
      "<section class=\"section_subheadline\">\n",
      "          There were <span class=\"data\" id=\"total_visitors\">...</span> visits over the past 90 days.\n",
      "        </section>\n",
      "<section class=\"three_column\" data-block=\"devices\" data-source=\"https://analytics.usa.gov/data/live/devices.json\" id=\"devices\">\n",
      "<h4>Devices</h4>\n",
      "<figure id=\"chart_device_types\">\n",
      "<div class=\"data bar-chart\">\n",
      "</div>\n",
      "</figure>\n",
      "<p>\n",
      "            Based on rough network segmentation data, we estimate that <strong>less than 5%</strong> of all traffic across all agencies comes from US federal government networks.\n",
      "          </p>\n",
      "<p>\n",
      "            Much more detailed data is available in <strong><a href=\"data/\">downloadable CSV and JSON</a></strong>. This includes data on combined browser and OS usage.\n",
      "          </p>\n",
      "</section>\n",
      "<section class=\"three_column\" id=\"browsers\">\n",
      "<h4>Browsers</h4>\n",
      "<figure data-block=\"browsers\" data-source=\"https://analytics.usa.gov/data/live/browsers.json\" id=\"chart_browsers\">\n",
      "<div class=\"data bar-chart\">\n",
      "</div>\n",
      "</figure>\n",
      "<figure data-block=\"ie\" data-scale-to-parent=\"true\" data-source=\"https://analytics.usa.gov/data/live/ie.json\" id=\"chart_ie\">\n",
      "<h4>Internet Explorer</h4>\n",
      "<div class=\"data bar-chart\">\n",
      "</div>\n",
      "</figure>\n",
      "</section>\n",
      "<section class=\"three_column\" id=\"operating_systems\">\n",
      "<h4>Operating Systems</h4>\n",
      "<figure data-block=\"os\" data-source=\"https://analytics.usa.gov/data/live/os.json\" id=\"chart_os\">\n",
      "<div class=\"data bar-chart\">\n",
      "</div>\n",
      "</figure>\n",
      "<figure data-block=\"windows\" data-scale-to-parent=\"true\" data-source=\"https://analytics.usa.gov/data/live/windows.json\" id=\"chart_windows\">\n",
      "<h4>Windows</h4>\n",
      "<div class=\"data bar-chart\">\n",
      "</div>\n",
      "</figure>\n",
      "</section>\n",
      "<!-- forces section to wrap, couldn't find a better way -->\n",
      "<div style=\"clear: both\"></div>\n",
      "<section class=\"section_headline\">\n",
      "<h3>Visitor Locations Right Now</h3>\n",
      "</section>\n",
      "<section class=\"three_column\" data-block=\"cities\" data-source=\"https://analytics.usa.gov/data/live/top-cities-realtime.json\" id=\"cities\">\n",
      "<h4>Cities</h4>\n",
      "<figure id=\"chart_top-cities-90-days\">\n",
      "<div class=\"data bar-chart\">\n",
      "</div>\n",
      "</figure>\n",
      "</section>\n",
      "<section class=\"three_column\" id=\"countries\">\n",
      "<h4>Countries</h4>\n",
      "<figure data-block=\"countries\" data-source=\"https://analytics.usa.gov/data/live/top-countries-realtime.json\" id=\"chart_us\">\n",
      "<div class=\"data bar-chart\">\n",
      "</div>\n",
      "</figure>\n",
      "<figure data-block=\"international_visits\" data-source=\"https://analytics.usa.gov/data/live/top-countries-realtime.json\" id=\"chart_countries\">\n",
      "<h4>International</h4>\n",
      "<div class=\"data bar-chart\">\n",
      "</div>\n",
      "</figure>\n",
      "</section>\n",
      "</div>\n",
      "<div class=\"width-one-third\" id=\"secondary_data\">\n",
      "<section id=\"top_100_table\">\n",
      "<!-- see: http://heydonworks.com/practical_aria_examples/ -->\n",
      "<h3>Top <span id=\"top_table_type\">Pages</span></h3>\n",
      "<ul class=\"pills\" role=\"tablist\">\n",
      "<li><a aria-selected=\"true\" class=\"site-nav\" data-type=\"Pages\" href=\"#top-pages-realtime\" role=\"tab\">Now</a></li>\n",
      "<li><a class=\"site-nav\" data-type=\"Domains\" href=\"#top-pages-7-days\" role=\"tab\">7 Days</a></li>\n",
      "<li><a class=\"site-nav\" data-type=\"Domains\" href=\"#top-pages-30-days\" role=\"tab\">30 Days</a></li>\n",
      "</ul>\n",
      "<figure class=\"top-pages\" data-block=\"top-pages-realtime\" data-refresh=\"15\" data-source=\"https://analytics.usa.gov/data/live/top-pages-realtime.json\" id=\"top-pages-realtime\" role=\"tabpanel\">\n",
      "<h5><em>\n",
      "              People on a <strong>single, specific page</strong> now. We only count pages with at least 10 people on the page.\n",
      "              <a href=\"https://analytics.usa.gov/data/live/all-pages-realtime.csv\">Download the full dataset.</a>\n",
      "</em></h5>\n",
      "<div class=\"data bar-chart\">\n",
      "</div>\n",
      "</figure>\n",
      "<figure class=\"top-pages\" data-block=\"top-pages\" data-source=\"https://analytics.usa.gov/data/live/top-domains-7-days.json\" id=\"top-pages-7-days\" role=\"tabpanel\">\n",
      "<h5><em>Visits over the last week to <strong>domains</strong>, including traffic to all pages within that domain.</em></h5>\n",
      "<div class=\"data bar-chart\">\n",
      "</div>\n",
      "</figure>\n",
      "<figure class=\"top-pages\" data-block=\"top-pages\" data-source=\"https://analytics.usa.gov/data/live/top-domains-30-days.json\" id=\"top-pages-30-days\" role=\"tabpanel\">\n",
      "<h5><em>\n",
      "              Visits over the last month to <strong>domains</strong>, including traffic to all pages within that domain. We only count pages with at least 1,000 visits in the last month.\n",
      "              <a href=\"https://analytics.usa.gov/data/live/all-domains-30-days.csv\">Download the full dataset.</a>\n",
      "</em></h5>\n",
      "<div class=\"data bar-chart\">\n",
      "</div>\n",
      "</figure>\n",
      "</section>\n",
      "<section id=\"top_downloads_table\">\n",
      "<h3>Top Downloads</h3>\n",
      "<h5><em>Total file downloads yesterday on government domains.</em></h5>\n",
      "<figure data-block=\"top-downloads\" data-source=\"https://analytics.usa.gov/data/live/top-downloads-yesterday.json\" id=\"top-downloads\">\n",
      "<div class=\"data bar-chart\">\n",
      "</div>\n",
      "</figure>\n",
      "</section>\n",
      "</div>\n",
      "<div class=\"container\">\n",
      "<section class=\"width-two-thirds\" id=\"explanation\">\n",
      "<h3>About this Site</h3>\n",
      "<p>\n",
      "            This data provides a window into how people are interacting with the government online. The data comes from a unified Google Analytics account for U.S. federal government agencies known as the <a class=\"external-link\" href=\"https://www.digitalgov.gov/services/dap/\">Digital Analytics Program</a>. This program helps government agencies understand how people find, access, and use government services online. The program <a class=\"external-link\" href=\"https://www.digitalgov.gov/services/dap/common-questions-about-dap-faq/#part-4\">does not track individuals</a>, and <a class=\"external-link\" href=\"https://support.google.com/analytics/answer/2763052?hl=en\">anonymizes the IP addresses</a> of visitors.\n",
      "          </p>\n",
      "<p>\n",
      "            Not every government website is represented in this data. Currently, the Digital Analytics Program collects web traffic from around <a class=\"external-link\" href=\"https://analytics.usa.gov/data/live/second-level-domains.csv\">400 executive branch government domains</a>, across <a class=\"external-link\" href=\"https://analytics.usa.gov/data/live/sites.csv\">about 4500 total websites</a>, including every cabinet department. We continue to pursue and add more sites frequently; to add your site, <a class=\"external-link\" href=\"mailto:DAP@support.digitalgov.gov\">email the Digital Analytics Program</a>.\n",
      "          </p>\n",
      "<p>\n",
      "            This open source project is in the public domain, which means that this website and its data are free for you to use without restriction. You can find the <a class=\"external-link\" href=\"https://github.com/GSA/analytics.usa.gov\">code for this website</a> and the <a class=\"external-link\" href=\"https://github.com/18F/analytics-reporter\">code behind the data collection</a> on GitHub.\n",
      "          </p>\n",
      "<p>\n",
      "            We plan to expand the data made available here. If you have any suggestions, or spot any issues or bugs, please <a class=\"external-link\" href=\"https://github.com/GSA/analytics.usa.gov/issues\">open an issue on GitHub</a> or contact the <a class=\"external-link\" href=\"mailto:DAP@support.digitalgov.gov\">Digital Analytics Program</a>.\n",
      "          </p>\n",
      "</section>\n",
      "<section class=\"width-one-third\">\n",
      "<h3>Download the data</h3>\n",
      "<p>You can <a href=\"https://analytics.usa.gov/data/\">download the data here.</a> Available in JSON and CSV format.</p>\n",
      "</section>\n",
      "</div>\n",
      "</div></body>\n",
      "<!--\n",
      "    IE detection, used to guide console formatting in subsequent include.\n",
      "  -->\n",
      "<script type=\"text/javascript\">window._ie9 = false;</script>\n",
      "<!--[if IE 9 ]>\n",
      "    <script type=\"text/javascript\">window._ie9 = true;</script>\n",
      "  <![endif]-->\n",
      "<!--\n",
      "   IE10 JS targeting: https://stackoverflow.com/a/17099988\n",
      "   IE11 JS targeting: https://stackoverflow.com/a/17447695\n",
      "  -->\n",
      "<script type=\"text/javascript\">\n",
      "    window._ie10 = (\"onpropertychange\" in document && !!window.matchMedia);\n",
      "    window._ie11 = !!navigator.userAgent.match(/Trident\\/7.0; rv 11/);\n",
      "    window._ie = window._ie9 || window._ie10 || window._ie11;\n",
      "  </script>\n",
      "<script src=\"/js/vendor/uswds.v0.9.1.js\"></script>\n",
      "<script src=\"/js/index.js\"></script>\n",
      "</html>\n",
      "\n"
     ]
    }
   ],
   "source": [
    "print(soup)"
   ]
  },
  {
   "cell_type": "markdown",
   "metadata": {
    "deletable": true,
    "editable": true
   },
   "source": [
    "### 4. Describe la estructura que observas en la página y en particular de los links"
   ]
  },
  {
   "cell_type": "markdown",
   "metadata": {
    "collapsed": false,
    "deletable": true,
    "editable": true
   },
   "source": [
    "Podemos observar que la página utiliza D3 para animar las gráficas, que contiene comencinco niveles de headings, comentarios y links hacia otras páginas con el atributo 'href'"
   ]
  },
  {
   "cell_type": "markdown",
   "metadata": {
    "deletable": true,
    "editable": true
   },
   "source": [
    "### 5. Busca e imprime los links de la página con el tag 'a' contenidos dentro del atributo 'href'"
   ]
  },
  {
   "cell_type": "code",
   "execution_count": 5,
   "metadata": {
    "collapsed": true,
    "deletable": true,
    "editable": true
   },
   "outputs": [],
   "source": [
    "links_pagina = soup.find_all('a')"
   ]
  },
  {
   "cell_type": "code",
   "execution_count": 7,
   "metadata": {
    "collapsed": false,
    "deletable": true,
    "editable": true
   },
   "outputs": [
    {
     "name": "stdout",
     "output_type": "stream",
     "text": [
      "/\n",
      "#explanation\n",
      "https://analytics.usa.gov/data/\n",
      "data/\n",
      "#top-pages-realtime\n",
      "#top-pages-7-days\n",
      "#top-pages-30-days\n",
      "https://analytics.usa.gov/data/live/all-pages-realtime.csv\n",
      "https://analytics.usa.gov/data/live/all-domains-30-days.csv\n",
      "https://www.digitalgov.gov/services/dap/\n",
      "https://www.digitalgov.gov/services/dap/common-questions-about-dap-faq/#part-4\n",
      "https://support.google.com/analytics/answer/2763052?hl=en\n",
      "https://analytics.usa.gov/data/live/second-level-domains.csv\n",
      "https://analytics.usa.gov/data/live/sites.csv\n",
      "mailto:DAP@support.digitalgov.gov\n",
      "https://github.com/GSA/analytics.usa.gov\n",
      "https://github.com/18F/analytics-reporter\n",
      "https://github.com/GSA/analytics.usa.gov/issues\n",
      "mailto:DAP@support.digitalgov.gov\n",
      "https://analytics.usa.gov/data/\n"
     ]
    }
   ],
   "source": [
    "for link in links_pagina:\n",
    "    print(link.get('href'))"
   ]
  },
  {
   "cell_type": "markdown",
   "metadata": {
    "deletable": true,
    "editable": true
   },
   "source": [
    "### 6. Crea una expresión regular para obtener palabras que comiencen con 'http'"
   ]
  },
  {
   "cell_type": "code",
   "execution_count": 8,
   "metadata": {
    "collapsed": true,
    "deletable": true,
    "editable": true
   },
   "outputs": [],
   "source": [
    "regex_http = re.compile(\"^http\")"
   ]
  },
  {
   "cell_type": "markdown",
   "metadata": {
    "deletable": true,
    "editable": true
   },
   "source": [
    "### 7. Busca e imprime sólo los links que comienzan con \"http\""
   ]
  },
  {
   "cell_type": "code",
   "execution_count": 17,
   "metadata": {
    "collapsed": true,
    "deletable": true,
    "editable": true
   },
   "outputs": [],
   "source": [
    "links_http = soup.findAll('a', attrs={'href': regex_http})"
   ]
  },
  {
   "cell_type": "code",
   "execution_count": 26,
   "metadata": {
    "collapsed": false
   },
   "outputs": [
    {
     "data": {
      "text/plain": [
       "'https://analytics.usa.gov/data/'"
      ]
     },
     "execution_count": 26,
     "metadata": {},
     "output_type": "execute_result"
    }
   ],
   "source": [
    "links_http[0].attrs['href']"
   ]
  },
  {
   "cell_type": "code",
   "execution_count": 30,
   "metadata": {
    "collapsed": false
   },
   "outputs": [],
   "source": [
    "links = []\n",
    "for i in range(0,len(links_http)):\n",
    "    links.append(links_http[i].attrs['href'])"
   ]
  },
  {
   "cell_type": "code",
   "execution_count": 32,
   "metadata": {
    "collapsed": false,
    "deletable": true,
    "editable": true
   },
   "outputs": [
    {
     "name": "stdout",
     "output_type": "stream",
     "text": [
      "https://analytics.usa.gov/data/\n",
      "https://analytics.usa.gov/data/live/all-pages-realtime.csv\n",
      "https://analytics.usa.gov/data/live/all-domains-30-days.csv\n",
      "https://www.digitalgov.gov/services/dap/\n",
      "https://www.digitalgov.gov/services/dap/common-questions-about-dap-faq/#part-4\n",
      "https://support.google.com/analytics/answer/2763052?hl=en\n",
      "https://analytics.usa.gov/data/live/second-level-domains.csv\n",
      "https://analytics.usa.gov/data/live/sites.csv\n",
      "https://github.com/GSA/analytics.usa.gov\n",
      "https://github.com/18F/analytics-reporter\n",
      "https://github.com/GSA/analytics.usa.gov/issues\n",
      "https://analytics.usa.gov/data/\n"
     ]
    }
   ],
   "source": [
    "for link in links: \n",
    "    print(link)"
   ]
  },
  {
   "cell_type": "markdown",
   "metadata": {
    "deletable": true,
    "editable": true
   },
   "source": [
    "###  8. Utiliza la función open para crear un archivo con el nombre parsed_data.txt"
   ]
  },
  {
   "cell_type": "code",
   "execution_count": 37,
   "metadata": {
    "collapsed": true,
    "deletable": true,
    "editable": true
   },
   "outputs": [],
   "source": [
    "file = open('parsed_data.txt', 'w')"
   ]
  },
  {
   "cell_type": "markdown",
   "metadata": {
    "deletable": true,
    "editable": true
   },
   "source": [
    "### 9. Escribe en el archivo todos los links que comienzan con 'http'"
   ]
  },
  {
   "cell_type": "code",
   "execution_count": 38,
   "metadata": {
    "collapsed": false,
    "deletable": true,
    "editable": true
   },
   "outputs": [],
   "source": [
    "for link in links:\n",
    "    str_link = str(link)\n",
    "    file.write(str_link)"
   ]
  },
  {
   "cell_type": "markdown",
   "metadata": {
    "deletable": true,
    "editable": true
   },
   "source": [
    "### 10. Cierra la conexión al archivo y muestra con el magic command !ls que creaste un nuevo archivo 'parsed_data.txt' en tu directorio actual"
   ]
  },
  {
   "cell_type": "code",
   "execution_count": 39,
   "metadata": {
    "collapsed": true,
    "deletable": true,
    "editable": true
   },
   "outputs": [],
   "source": [
    "file.close()"
   ]
  },
  {
   "cell_type": "code",
   "execution_count": 36,
   "metadata": {
    "collapsed": false,
    "deletable": true,
    "editable": true
   },
   "outputs": [
    {
     "name": "stdout",
     "output_type": "stream",
     "text": [
      "Ejercicio6_Pandas_Series-de-Tiempo_Solucion.ipynb\r\n",
      "Ejercicio7_Pandas_Series-de-Tiempo_Solucion.ipynb\r\n",
      "Ejercicio8_Pandas_Series-de-Tiempo_Solucion.ipynb\r\n",
      "\u001b[31mSoluciones_Ejercicio5_WebScraping.ipynb\u001b[m\u001b[m\r\n",
      "parsed_data.txt\r\n"
     ]
    }
   ],
   "source": [
    "!ls"
   ]
  }
 ],
 "metadata": {
  "anaconda-cloud": {},
  "kernelspec": {
   "display_name": "Python 3",
   "language": "python",
   "name": "python3"
  },
  "language_info": {
   "codemirror_mode": {
    "name": "ipython",
    "version": 3
   },
   "file_extension": ".py",
   "mimetype": "text/x-python",
   "name": "python",
   "nbconvert_exporter": "python",
   "pygments_lexer": "ipython3",
   "version": "3.5.2"
  }
 },
 "nbformat": 4,
 "nbformat_minor": 0
}
